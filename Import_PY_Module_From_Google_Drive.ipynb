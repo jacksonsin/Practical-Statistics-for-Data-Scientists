{
  "nbformat": 4,
  "nbformat_minor": 0,
  "metadata": {
    "colab": {
      "name": "Import PY Module From Google Drive.ipynb",
      "provenance": [],
      "collapsed_sections": [],
      "authorship_tag": "ABX9TyMDIuRuKKnGU9HOnrdgVDYP",
      "include_colab_link": true
    },
    "kernelspec": {
      "name": "python3",
      "display_name": "Python 3"
    },
    "language_info": {
      "name": "python"
    }
  },
  "cells": [
    {
      "cell_type": "markdown",
      "metadata": {
        "id": "view-in-github",
        "colab_type": "text"
      },
      "source": [
        "<a href=\"https://colab.research.google.com/github/jacksonsin/Practical-Statistics-for-Data-Scientists/blob/main/Import_PY_Module_From_Google_Drive.ipynb\" target=\"_parent\"><img src=\"https://colab.research.google.com/assets/colab-badge.svg\" alt=\"Open In Colab\"/></a>"
      ]
    },
    {
      "cell_type": "code",
      "execution_count": 1,
      "metadata": {
        "colab": {
          "base_uri": "https://localhost:8080/"
        },
        "id": "zeOazgHIR6h_",
        "outputId": "5fc633f5-6359-4b5b-f823-ba4806702f25"
      },
      "outputs": [
        {
          "output_type": "stream",
          "name": "stdout",
          "text": [
            "Requirement already satisfied: pydrive in /usr/local/lib/python3.7/dist-packages (1.3.1)\n",
            "Requirement already satisfied: google-api-python-client>=1.2 in /usr/local/lib/python3.7/dist-packages (from pydrive) (1.12.8)\n",
            "Requirement already satisfied: oauth2client>=4.0.0 in /usr/local/lib/python3.7/dist-packages (from pydrive) (4.1.3)\n",
            "Requirement already satisfied: PyYAML>=3.0 in /usr/local/lib/python3.7/dist-packages (from pydrive) (3.13)\n",
            "Requirement already satisfied: six<2dev,>=1.13.0 in /usr/local/lib/python3.7/dist-packages (from google-api-python-client>=1.2->pydrive) (1.15.0)\n",
            "Requirement already satisfied: httplib2<1dev,>=0.15.0 in /usr/local/lib/python3.7/dist-packages (from google-api-python-client>=1.2->pydrive) (0.17.4)\n",
            "Requirement already satisfied: google-auth-httplib2>=0.0.3 in /usr/local/lib/python3.7/dist-packages (from google-api-python-client>=1.2->pydrive) (0.0.4)\n",
            "Requirement already satisfied: google-api-core<2dev,>=1.21.0 in /usr/local/lib/python3.7/dist-packages (from google-api-python-client>=1.2->pydrive) (1.26.3)\n",
            "Requirement already satisfied: google-auth>=1.16.0 in /usr/local/lib/python3.7/dist-packages (from google-api-python-client>=1.2->pydrive) (1.35.0)\n",
            "Requirement already satisfied: uritemplate<4dev,>=3.0.0 in /usr/local/lib/python3.7/dist-packages (from google-api-python-client>=1.2->pydrive) (3.0.1)\n",
            "Requirement already satisfied: setuptools>=40.3.0 in /usr/local/lib/python3.7/dist-packages (from google-api-core<2dev,>=1.21.0->google-api-python-client>=1.2->pydrive) (57.4.0)\n",
            "Requirement already satisfied: packaging>=14.3 in /usr/local/lib/python3.7/dist-packages (from google-api-core<2dev,>=1.21.0->google-api-python-client>=1.2->pydrive) (21.3)\n",
            "Requirement already satisfied: protobuf>=3.12.0 in /usr/local/lib/python3.7/dist-packages (from google-api-core<2dev,>=1.21.0->google-api-python-client>=1.2->pydrive) (3.17.3)\n",
            "Requirement already satisfied: pytz in /usr/local/lib/python3.7/dist-packages (from google-api-core<2dev,>=1.21.0->google-api-python-client>=1.2->pydrive) (2018.9)\n",
            "Requirement already satisfied: requests<3.0.0dev,>=2.18.0 in /usr/local/lib/python3.7/dist-packages (from google-api-core<2dev,>=1.21.0->google-api-python-client>=1.2->pydrive) (2.23.0)\n",
            "Requirement already satisfied: googleapis-common-protos<2.0dev,>=1.6.0 in /usr/local/lib/python3.7/dist-packages (from google-api-core<2dev,>=1.21.0->google-api-python-client>=1.2->pydrive) (1.53.0)\n",
            "Requirement already satisfied: cachetools<5.0,>=2.0.0 in /usr/local/lib/python3.7/dist-packages (from google-auth>=1.16.0->google-api-python-client>=1.2->pydrive) (4.2.4)\n",
            "Requirement already satisfied: pyasn1-modules>=0.2.1 in /usr/local/lib/python3.7/dist-packages (from google-auth>=1.16.0->google-api-python-client>=1.2->pydrive) (0.2.8)\n",
            "Requirement already satisfied: rsa<5,>=3.1.4 in /usr/local/lib/python3.7/dist-packages (from google-auth>=1.16.0->google-api-python-client>=1.2->pydrive) (4.8)\n",
            "Requirement already satisfied: pyasn1>=0.1.7 in /usr/local/lib/python3.7/dist-packages (from oauth2client>=4.0.0->pydrive) (0.4.8)\n",
            "Requirement already satisfied: pyparsing!=3.0.5,>=2.0.2 in /usr/local/lib/python3.7/dist-packages (from packaging>=14.3->google-api-core<2dev,>=1.21.0->google-api-python-client>=1.2->pydrive) (3.0.6)\n",
            "Requirement already satisfied: idna<3,>=2.5 in /usr/local/lib/python3.7/dist-packages (from requests<3.0.0dev,>=2.18.0->google-api-core<2dev,>=1.21.0->google-api-python-client>=1.2->pydrive) (2.10)\n",
            "Requirement already satisfied: urllib3!=1.25.0,!=1.25.1,<1.26,>=1.21.1 in /usr/local/lib/python3.7/dist-packages (from requests<3.0.0dev,>=2.18.0->google-api-core<2dev,>=1.21.0->google-api-python-client>=1.2->pydrive) (1.24.3)\n",
            "Requirement already satisfied: chardet<4,>=3.0.2 in /usr/local/lib/python3.7/dist-packages (from requests<3.0.0dev,>=2.18.0->google-api-core<2dev,>=1.21.0->google-api-python-client>=1.2->pydrive) (3.0.4)\n",
            "Requirement already satisfied: certifi>=2017.4.17 in /usr/local/lib/python3.7/dist-packages (from requests<3.0.0dev,>=2.18.0->google-api-core<2dev,>=1.21.0->google-api-python-client>=1.2->pydrive) (2021.10.8)\n"
          ]
        }
      ],
      "source": [
        "!pip install pydrive                             # Package to use Google Drive API - not installed in Colab VM by default\n",
        "from pydrive.auth import GoogleAuth\n",
        "from pydrive.drive import GoogleDrive"
      ]
    },
    {
      "cell_type": "code",
      "source": [
        "from google.colab import auth                    # Other necessary packages\n",
        "from oauth2client.client import GoogleCredentials"
      ],
      "metadata": {
        "id": "8oCoY0awR9Xq"
      },
      "execution_count": 2,
      "outputs": []
    },
    {
      "cell_type": "code",
      "source": [
        "auth.authenticate_user()                         # Follow prompt in the authorization process\n",
        "gauth = GoogleAuth()\n",
        "gauth.credentials = GoogleCredentials.get_application_default()"
      ],
      "metadata": {
        "id": "cciypEQ2R-_D"
      },
      "execution_count": 3,
      "outputs": []
    },
    {
      "cell_type": "markdown",
      "source": [
        "Access to your Google Drive, locate the py module in Google Drive, right click the file > Select **Get Link**"
      ],
      "metadata": {
        "id": "pvnL16EAlO0O"
      }
    },
    {
      "cell_type": "markdown",
      "source": [
        "![Capture.PNG](data:image/png;base64,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)"
      ],
      "metadata": {
        "id": "X5MlKtkXkGTV"
      }
    },
    {
      "cell_type": "code",
      "source": [
        "drive = GoogleDrive(gauth)\n",
        "# Replace id with your drive id\n",
        "your_module = drive.CreateFile({\"id\": \"1q3RudbM1dwzuiOCp3tvLQV2kn30zZgcH\"})         "
      ],
      "metadata": {
        "id": "pCspgNI1SC4m"
      },
      "execution_count": 4,
      "outputs": []
    },
    {
      "cell_type": "code",
      "source": [
        "# Save the .py module file to Colab VM\n",
        "your_module.GetContentFile(\"tmp.py\")  "
      ],
      "metadata": {
        "id": "wmYlI14wkpy4"
      },
      "execution_count": 5,
      "outputs": []
    },
    {
      "cell_type": "code",
      "source": [
        "import json\n",
        "f = open('tmp.py')\n",
        "data = json.load(f)\n",
        "f.close()\n",
        "# Handling nested dictionaries\n",
        "from os import replace\n",
        "file = ''\n",
        "# Looping through the nested dictionaries\n",
        "for x in data['cells'][0]['source']:\n",
        "  file += x  \n",
        "# Overwrite content to py file\n",
        "import os\n",
        "with open(os.getcwd()+'/Item.py', \"w\") as myfile:\n",
        "    myfile.write(file)"
      ],
      "metadata": {
        "id": "H-V0UwN9XqMj"
      },
      "execution_count": 6,
      "outputs": []
    },
    {
      "cell_type": "code",
      "source": [
        "from Item import Item"
      ],
      "metadata": {
        "id": "4pfu7uo8hjt0"
      },
      "execution_count": 7,
      "outputs": []
    },
    {
      "cell_type": "code",
      "source": [
        "drive = GoogleDrive(gauth)\n",
        "# Replace id with your drive id\n",
        "your_module = drive.CreateFile({\"id\": \"1EcSC08Zjk5NWThlO46HCReMNrb0MsLlr\"})\n",
        "# Save the .py module file to Colab VM\n",
        "your_module.GetContentFile(\"tmp.py\")  \n",
        "import json\n",
        "f = open('tmp.py')\n",
        "data = json.load(f)\n",
        "f.close()\n",
        "# Handling nested dictionaries\n",
        "from os import replace\n",
        "file = ''\n",
        "# Looping through the nested dictionaries\n",
        "for x in data['cells'][0]['source']:\n",
        "  file += x  \n",
        "# Overwrite content to py file\n",
        "import os\n",
        "with open(os.getcwd()+'/Phone.py', \"w\") as myfile:\n",
        "    myfile.write(file)"
      ],
      "metadata": {
        "id": "J6L6raB31592"
      },
      "execution_count": 8,
      "outputs": []
    },
    {
      "cell_type": "code",
      "source": [
        "from Phone import Phone"
      ],
      "metadata": {
        "id": "tTk8Yq8X2Fv9"
      },
      "execution_count": 9,
      "outputs": []
    }
  ]
}