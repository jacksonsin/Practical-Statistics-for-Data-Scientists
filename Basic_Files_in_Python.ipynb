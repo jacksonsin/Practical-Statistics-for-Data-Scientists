{
  "nbformat": 4,
  "nbformat_minor": 0,
  "metadata": {
    "colab": {
      "name": "Basic Files in Python.ipynb",
      "provenance": [],
      "authorship_tag": "ABX9TyOO1qA9V1LRmqgzSCh+IYU4",
      "include_colab_link": true
    },
    "kernelspec": {
      "name": "python3",
      "display_name": "Python 3"
    },
    "language_info": {
      "name": "python"
    }
  },
  "cells": [
    {
      "cell_type": "markdown",
      "metadata": {
        "id": "view-in-github",
        "colab_type": "text"
      },
      "source": [
        "<a href=\"https://colab.research.google.com/github/jacksonsin/Practical-Statistics-for-Data-Scientists/blob/main/Basic_Files_in_Python.ipynb\" target=\"_parent\"><img src=\"https://colab.research.google.com/assets/colab-badge.svg\" alt=\"Open In Colab\"/></a>"
      ]
    },
    {
      "cell_type": "markdown",
      "source": [
        "Shortcut Tips: https://towardsdatascience.com/10-tips-for-a-better-google-colab-experience-33f8fe721b82#0295"
      ],
      "metadata": {
        "id": "WQNJQ9kmgF71"
      }
    },
    {
      "cell_type": "markdown",
      "source": [
        "Print current path"
      ],
      "metadata": {
        "id": "dj-1eseBkfsZ"
      }
    },
    {
      "cell_type": "code",
      "metadata": {
        "id": "BpLnYmffmaVn",
        "colab": {
          "base_uri": "https://localhost:8080/",
          "height": 36
        },
        "outputId": "498a9817-3930-4d91-d448-6458ecd31116"
      },
      "source": [
        "pwd"
      ],
      "execution_count": 11,
      "outputs": [
        {
          "output_type": "execute_result",
          "data": {
            "application/vnd.google.colaboratory.intrinsic+json": {
              "type": "string"
            },
            "text/plain": [
              "'/content'"
            ]
          },
          "metadata": {},
          "execution_count": 11
        }
      ]
    },
    {
      "cell_type": "markdown",
      "source": [
        "List files in the current directory\n",
        "sample_data is a folder"
      ],
      "metadata": {
        "id": "qaUt5YI6nWiM"
      }
    },
    {
      "cell_type": "code",
      "source": [
        "!ls"
      ],
      "metadata": {
        "colab": {
          "base_uri": "https://localhost:8080/"
        },
        "id": "RZEZQ6iQnMyp",
        "outputId": "ed854559-d892-4334-c8b8-60274b2dc32d"
      },
      "execution_count": 20,
      "outputs": [
        {
          "output_type": "stream",
          "name": "stdout",
          "text": [
            "new_file.csv  sample_data\n"
          ]
        }
      ]
    },
    {
      "cell_type": "markdown",
      "source": [
        "Navigate to the target folder"
      ],
      "metadata": {
        "id": "OcVFjDcRnsQt"
      }
    },
    {
      "cell_type": "code",
      "source": [
        "!ls sample_data"
      ],
      "metadata": {
        "colab": {
          "base_uri": "https://localhost:8080/"
        },
        "id": "NGtZRgmunSeB",
        "outputId": "58f82d83-b50b-4a50-cd54-93357f5b1fad"
      },
      "execution_count": 21,
      "outputs": [
        {
          "output_type": "stream",
          "name": "stdout",
          "text": [
            "anscombe.json\t\t      mnist_test.csv\n",
            "california_housing_test.csv   mnist_train_small.csv\n",
            "california_housing_train.csv  README.md\n"
          ]
        }
      ]
    },
    {
      "cell_type": "markdown",
      "source": [
        "Reading from a csv file"
      ],
      "metadata": {
        "id": "ZOXn7xvKl7Ro"
      }
    },
    {
      "cell_type": "code",
      "source": [
        "with open('sample_data/california_housing_test.csv') as new_file:\n",
        "  contents = new_file.read()"
      ],
      "metadata": {
        "id": "o1iBy9pdFOAO"
      },
      "execution_count": 3,
      "outputs": []
    },
    {
      "cell_type": "markdown",
      "source": [
        "Writing a csv file"
      ],
      "metadata": {
        "id": "ynYsg_8pmA83"
      }
    },
    {
      "cell_type": "code",
      "source": [
        "with open('new_file.csv', mode='w') as f:\n",
        "  f.write(\"I created this file\")"
      ],
      "metadata": {
        "id": "UDN4uGkIjgaD"
      },
      "execution_count": 15,
      "outputs": []
    },
    {
      "cell_type": "markdown",
      "source": [
        "Reading the created file"
      ],
      "metadata": {
        "id": "YSoS22dRmqPh"
      }
    },
    {
      "cell_type": "code",
      "source": [
        "with open('new_file.csv') as f:\n",
        "  print(f.read())"
      ],
      "metadata": {
        "colab": {
          "base_uri": "https://localhost:8080/"
        },
        "id": "AFb9howzmKq_",
        "outputId": "23d085c6-8ac2-4f1b-9fb3-b104e507a5b1"
      },
      "execution_count": 17,
      "outputs": [
        {
          "output_type": "stream",
          "name": "stdout",
          "text": [
            "I created this file\n"
          ]
        }
      ]
    },
    {
      "cell_type": "markdown",
      "source": [
        "Appending new line"
      ],
      "metadata": {
        "id": "0pNyqxIGm6lC"
      }
    },
    {
      "cell_type": "code",
      "source": [
        "with open('new_file.csv', mode='a') as f:\n",
        "  f.write(\"\\nI created 2nd line\")"
      ],
      "metadata": {
        "id": "vPlt98gpmwZx"
      },
      "execution_count": 18,
      "outputs": []
    },
    {
      "cell_type": "markdown",
      "source": [
        "Reading from the appended file"
      ],
      "metadata": {
        "id": "mUvnjpTQm-IH"
      }
    },
    {
      "cell_type": "code",
      "source": [
        "with open('new_file.csv') as f:\n",
        "  print(f.read())"
      ],
      "metadata": {
        "colab": {
          "base_uri": "https://localhost:8080/"
        },
        "id": "aHudzvvNm35h",
        "outputId": "057f7330-b82b-47ec-b766-0cb3ad6b4ec0"
      },
      "execution_count": 19,
      "outputs": [
        {
          "output_type": "stream",
          "name": "stdout",
          "text": [
            "I created this file\n",
            "I created 2nd line\n"
          ]
        }
      ]
    }
  ]
}