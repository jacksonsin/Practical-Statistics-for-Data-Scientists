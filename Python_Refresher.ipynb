{
  "nbformat": 4,
  "nbformat_minor": 0,
  "metadata": {
    "colab": {
      "name": "Python Refresher.ipynb",
      "provenance": [],
      "authorship_tag": "ABX9TyNs5euEna3X+/XlmTrs8gEl",
      "include_colab_link": true
    },
    "kernelspec": {
      "display_name": "Python 3",
      "name": "python3"
    },
    "language_info": {
      "name": "python"
    }
  },
  "cells": [
    {
      "cell_type": "markdown",
      "metadata": {
        "id": "view-in-github",
        "colab_type": "text"
      },
      "source": [
        "<a href=\"https://colab.research.google.com/github/jacksonsin/Practical-Statistics-for-Data-Scientists/blob/main/Python_Refresher.ipynb\" target=\"_parent\"><img src=\"https://colab.research.google.com/assets/colab-badge.svg\" alt=\"Open In Colab\"/></a>"
      ]
    },
    {
      "cell_type": "markdown",
      "metadata": {
        "id": "uzpebMiZWax9"
      },
      "source": [
        "Print Statement"
      ]
    },
    {
      "cell_type": "code",
      "metadata": {
        "colab": {
          "base_uri": "https://localhost:8080/"
        },
        "id": "KxR4PdZIVnFc",
        "outputId": "c1f91ca4-938a-4e1f-cdf7-b2e5e9d6fbdd"
      },
      "source": [
        "y = []\n",
        "for x in range(0,10,2):\n",
        "  y.append(x)\n",
        "print(f'All elements in {y} are even')\n",
        "print(\"All elements in {} are even\".format(y))"
      ],
      "execution_count": 1,
      "outputs": [
        {
          "output_type": "stream",
          "name": "stdout",
          "text": [
            "All elements in [0, 2, 4, 6, 8] are even\n",
            "All elements in [0, 2, 4, 6, 8] are even\n"
          ]
        }
      ]
    },
    {
      "cell_type": "code",
      "metadata": {
        "colab": {
          "base_uri": "https://localhost:8080/"
        },
        "id": "cOfWC79lWwf6",
        "outputId": "0da96c4e-3431-4c9b-8434-275971c5a9fb"
      },
      "source": [
        "person={\"name\":\"Jane\",\"age\":23}\n",
        "print(\"My name is {} and I am {} years old\".format(person['name'],person['age']))\n",
        "print(f\"My name is {person['name']} and I am {person['age']} years old\")"
      ],
      "execution_count": 2,
      "outputs": [
        {
          "output_type": "stream",
          "name": "stdout",
          "text": [
            "My name is Jane and I am 23 years old\n",
            "My name is Jane and I am 23 years old\n"
          ]
        }
      ]
    },
    {
      "cell_type": "code",
      "metadata": {
        "colab": {
          "base_uri": "https://localhost:8080/"
        },
        "id": "Mltbl8ucYXuR",
        "outputId": "6d7d9f43-83e9-4650-b49e-a70bf44d9b70"
      },
      "source": [
        "print(f\"4 x 11 is equal to {4*11}\")"
      ],
      "execution_count": 3,
      "outputs": [
        {
          "output_type": "stream",
          "name": "stdout",
          "text": [
            "4 x 11 is equal to 44\n"
          ]
        }
      ]
    },
    {
      "cell_type": "code",
      "metadata": {
        "colab": {
          "base_uri": "https://localhost:8080/"
        },
        "id": "_FwlLrB4Yrr6",
        "outputId": "8f82d5be-f986-4649-ed0f-231e23f93737"
      },
      "source": [
        "for x in range(1,11):\n",
        "  print(f\"The value is {x}\")"
      ],
      "execution_count": 4,
      "outputs": [
        {
          "output_type": "stream",
          "name": "stdout",
          "text": [
            "The value is 1\n",
            "The value is 2\n",
            "The value is 3\n",
            "The value is 4\n",
            "The value is 5\n",
            "The value is 6\n",
            "The value is 7\n",
            "The value is 8\n",
            "The value is 9\n",
            "The value is 10\n"
          ]
        }
      ]
    },
    {
      "cell_type": "code",
      "metadata": {
        "colab": {
          "base_uri": "https://localhost:8080/"
        },
        "id": "DvmJZdbvY-a-",
        "outputId": "8b68ceab-5c13-46d7-9627-f381531ad025"
      },
      "source": [
        "for x in range(1,11):\n",
        "  print(f\"The value is {x:02}\")"
      ],
      "execution_count": 5,
      "outputs": [
        {
          "output_type": "stream",
          "name": "stdout",
          "text": [
            "The value is 01\n",
            "The value is 02\n",
            "The value is 03\n",
            "The value is 04\n",
            "The value is 05\n",
            "The value is 06\n",
            "The value is 07\n",
            "The value is 08\n",
            "The value is 09\n",
            "The value is 10\n"
          ]
        }
      ]
    },
    {
      "cell_type": "code",
      "metadata": {
        "colab": {
          "base_uri": "https://localhost:8080/"
        },
        "id": "Ge72l5rqZTaN",
        "outputId": "44b68eff-8670-4a36-c295-6346ac1bbdae"
      },
      "source": [
        "import math\n",
        "print(f\"Pi is equal to {math.pi:.4f}\")"
      ],
      "execution_count": 6,
      "outputs": [
        {
          "output_type": "stream",
          "name": "stdout",
          "text": [
            "Pi is equal to 3.1416\n"
          ]
        }
      ]
    },
    {
      "cell_type": "code",
      "metadata": {
        "colab": {
          "base_uri": "https://localhost:8080/"
        },
        "id": "PS_4xdjSaIZb",
        "outputId": "05f314fa-d199-420d-b539-d5a34ae5cba9"
      },
      "source": [
        "from datetime import datetime\n",
        "birthdate = datetime(1988,1,1)\n",
        "print(f'Your birthday is {birthdate:%d/%m/%Y}')\n",
        "print(f'Your birthday is {birthdate:%d-%b-%Y}')\n",
        "print(f'Your birthday is {birthdate:%d %B %Y}')"
      ],
      "execution_count": 7,
      "outputs": [
        {
          "output_type": "stream",
          "name": "stdout",
          "text": [
            "Your birthday is 01/01/1988\n",
            "Your birthday is 01-Jan-1988\n",
            "Your birthday is 01 January 1988\n"
          ]
        }
      ]
    }
  ]
}