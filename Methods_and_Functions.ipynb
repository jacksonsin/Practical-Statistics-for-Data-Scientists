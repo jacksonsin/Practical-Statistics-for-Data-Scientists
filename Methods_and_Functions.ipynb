{
  "nbformat": 4,
  "nbformat_minor": 0,
  "metadata": {
    "colab": {
      "name": "Methods and Functions.ipynb",
      "provenance": [],
      "collapsed_sections": [],
      "authorship_tag": "ABX9TyNAEzVFgtsfl7zCp7Ivf9VH",
      "include_colab_link": true
    },
    "kernelspec": {
      "name": "python3",
      "display_name": "Python 3"
    },
    "language_info": {
      "name": "python"
    }
  },
  "cells": [
    {
      "cell_type": "markdown",
      "metadata": {
        "id": "view-in-github",
        "colab_type": "text"
      },
      "source": [
        "<a href=\"https://colab.research.google.com/github/jacksonsin/Practical-Statistics-for-Data-Scientists/blob/main/Methods_and_Functions.ipynb\" target=\"_parent\"><img src=\"https://colab.research.google.com/assets/colab-badge.svg\" alt=\"Open In Colab\"/></a>"
      ]
    },
    {
      "cell_type": "markdown",
      "source": [
        "Exercise 1 - Calculate upper case and lower case letters"
      ],
      "metadata": {
        "id": "sxYZ5h-B_u3B"
      }
    },
    {
      "cell_type": "code",
      "execution_count": 1,
      "metadata": {
        "id": "Nx8RKfUcvrLe"
      },
      "outputs": [],
      "source": [
        "def up_low(s):\n",
        "  lowercase = 0\n",
        "  uppercase = 0\n",
        "\n",
        "  for char in s:\n",
        "    if char.isupper():\n",
        "      uppercase += 1\n",
        "    elif char.islower():\n",
        "      lowercase += 1\n",
        "    else:\n",
        "      pass\n",
        "  print(f'Original stinrg is {s}')\n",
        "  print(f'Lower case count: {lowercase}')\n",
        "  print(f'Upper case count: {uppercase}')"
      ]
    },
    {
      "cell_type": "code",
      "source": [
        "s = 'How are you today'\n",
        "up_low(s)"
      ],
      "metadata": {
        "colab": {
          "base_uri": "https://localhost:8080/"
        },
        "id": "boTIbUaL_hfT",
        "outputId": "72cd6cd3-51ad-4d74-c8ac-1c4c7826f0c6"
      },
      "execution_count": 2,
      "outputs": [
        {
          "output_type": "stream",
          "name": "stdout",
          "text": [
            "Original stinrg is How are you today\n",
            "Lower case count: 13\n",
            "Upper case count: 1\n"
          ]
        }
      ]
    },
    {
      "cell_type": "code",
      "source": [
        "def up_low(s):\n",
        "  d = {'upper':0,'lower':0}\n",
        "\n",
        "  for char in s:\n",
        "    if char.isupper():\n",
        "      d['upper'] += 1\n",
        "    elif char.islower():\n",
        "      d['lower'] += 1\n",
        "    else:\n",
        "      pass\n",
        "  print(f'Original stinrg is {s}')\n",
        "  print(f'Lower case count: {d[\"upper\"]}')\n",
        "  print(f'Upper case count: {d[\"lower\"]}')"
      ],
      "metadata": {
        "id": "UEZWQyhW-yv7"
      },
      "execution_count": 3,
      "outputs": []
    },
    {
      "cell_type": "code",
      "source": [
        "s = 'How are you today'\n",
        "up_low(s)"
      ],
      "metadata": {
        "colab": {
          "base_uri": "https://localhost:8080/"
        },
        "id": "Rih_SYbf_T2P",
        "outputId": "fc4f755e-b472-4580-a0ae-690791db455e"
      },
      "execution_count": 4,
      "outputs": [
        {
          "output_type": "stream",
          "name": "stdout",
          "text": [
            "Original stinrg is How are you today\n",
            "Lower case count: 1\n",
            "Upper case count: 13\n"
          ]
        }
      ]
    },
    {
      "cell_type": "markdown",
      "source": [
        "Exercise 2 - Return a list of unique elements"
      ],
      "metadata": {
        "id": "CpOF3o-O_syZ"
      }
    },
    {
      "cell_type": "code",
      "source": [
        "lst = [1,1,1,2,2,3,3,3,4,4,5,5]"
      ],
      "metadata": {
        "id": "CXuW-qNs_uA0"
      },
      "execution_count": 5,
      "outputs": []
    },
    {
      "cell_type": "code",
      "source": [
        "def unique_list(lst):\n",
        "  return list(set(lst))"
      ],
      "metadata": {
        "id": "Z13MUl4o_5pN"
      },
      "execution_count": 6,
      "outputs": []
    },
    {
      "cell_type": "code",
      "source": [
        "unique_list(lst)"
      ],
      "metadata": {
        "colab": {
          "base_uri": "https://localhost:8080/"
        },
        "id": "YAwM38aq__WR",
        "outputId": "4d5fba10-e012-43cf-b148-99811ae2441a"
      },
      "execution_count": 7,
      "outputs": [
        {
          "output_type": "execute_result",
          "data": {
            "text/plain": [
              "[1, 2, 3, 4, 5]"
            ]
          },
          "metadata": {},
          "execution_count": 7
        }
      ]
    },
    {
      "cell_type": "code",
      "source": [
        "def unique_list(lst):\n",
        "  seen_numbers = []\n",
        "  for number in lst:\n",
        "    if number not in seen_numbers:\n",
        "      seen_numbers.append(number)\n",
        "  return seen_numbers"
      ],
      "metadata": {
        "id": "Lf-p_GCeATZc"
      },
      "execution_count": 8,
      "outputs": []
    },
    {
      "cell_type": "code",
      "source": [
        "unique_list(lst)"
      ],
      "metadata": {
        "colab": {
          "base_uri": "https://localhost:8080/"
        },
        "id": "uwAtbvXZAftd",
        "outputId": "b761b878-20b5-4c57-a3b6-276c16ce8105"
      },
      "execution_count": 9,
      "outputs": [
        {
          "output_type": "execute_result",
          "data": {
            "text/plain": [
              "[1, 2, 3, 4, 5]"
            ]
          },
          "metadata": {},
          "execution_count": 9
        }
      ]
    },
    {
      "cell_type": "markdown",
      "source": [
        "Mutiply all the numbers in the list"
      ],
      "metadata": {
        "id": "iyT96J9XA-Gg"
      }
    },
    {
      "cell_type": "code",
      "source": [
        "def multiply(numbers):\n",
        "  total = 1\n",
        "  for num in numbers:\n",
        "    total = total * num\n",
        "  return total"
      ],
      "metadata": {
        "id": "K3AZ0cKOBCOF"
      },
      "execution_count": 10,
      "outputs": []
    },
    {
      "cell_type": "code",
      "source": [
        "multiply([1,2,3,-4])"
      ],
      "metadata": {
        "colab": {
          "base_uri": "https://localhost:8080/"
        },
        "id": "rpDp-MPmCo7k",
        "outputId": "b01b6a5f-e595-4e88-ceeb-29feba3fcac7"
      },
      "execution_count": 11,
      "outputs": [
        {
          "output_type": "execute_result",
          "data": {
            "text/plain": [
              "-24"
            ]
          },
          "metadata": {},
          "execution_count": 11
        }
      ]
    },
    {
      "cell_type": "markdown",
      "source": [
        "Check a string is palindrome or not"
      ],
      "metadata": {
        "id": "upQ2rAD4DNdh"
      }
    },
    {
      "cell_type": "code",
      "source": [
        "def palindrome(s):\n",
        "   # remove spaces in string\n",
        "   s = s.replace(\" \",\"\")\n",
        "   # check string is the reversed version of the string\n",
        "   return s == s[::-1]"
      ],
      "metadata": {
        "id": "SahTI9YhDQzh"
      },
      "execution_count": 12,
      "outputs": []
    },
    {
      "cell_type": "code",
      "source": [
        "palindrome('nurses run')"
      ],
      "metadata": {
        "colab": {
          "base_uri": "https://localhost:8080/"
        },
        "id": "inYFw5fwDpF-",
        "outputId": "b458467f-d91f-49ef-d4b4-7db76837112b"
      },
      "execution_count": 13,
      "outputs": [
        {
          "output_type": "execute_result",
          "data": {
            "text/plain": [
              "True"
            ]
          },
          "metadata": {},
          "execution_count": 13
        }
      ]
    },
    {
      "cell_type": "markdown",
      "source": [
        "Check a string is pangram or not"
      ],
      "metadata": {
        "id": "-A0lpNA7EKky"
      }
    },
    {
      "cell_type": "code",
      "source": [
        "import string\n",
        "\n",
        "def ispangram(str1, alphabet=string.ascii_lowercase):\n",
        "  # Create a set of alphabet\n",
        "  alphaset = set(alphabet)\n",
        "  # Remove any spaces in input string\n",
        "  str1 = str1.replace(\" \",\"\")\n",
        "  # Convert all input string into lowercase\n",
        "  str1 = str1.lower()\n",
        "  # Grab unique letters from the string set()\n",
        "  str1 = set(str1)\n",
        "  # Check alphabet set == string set() from the input\n",
        "  return str1 == alphaset"
      ],
      "metadata": {
        "id": "bIva2eXHEMyK"
      },
      "execution_count": 14,
      "outputs": []
    },
    {
      "cell_type": "code",
      "source": [
        "ispangram(\"The quick brown fox jumps over the lazy dog\")"
      ],
      "metadata": {
        "colab": {
          "base_uri": "https://localhost:8080/"
        },
        "id": "AHpvwi9VFcOU",
        "outputId": "484b9b44-e973-43b1-c2b7-aa17668a1723"
      },
      "execution_count": 15,
      "outputs": [
        {
          "output_type": "execute_result",
          "data": {
            "text/plain": [
              "True"
            ]
          },
          "metadata": {},
          "execution_count": 15
        }
      ]
    }
  ]
}