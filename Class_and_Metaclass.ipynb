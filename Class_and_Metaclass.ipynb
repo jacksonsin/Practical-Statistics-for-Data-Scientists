{
  "nbformat": 4,
  "nbformat_minor": 0,
  "metadata": {
    "colab": {
      "name": "Class and Metaclass.ipynb",
      "provenance": [],
      "authorship_tag": "ABX9TyOLNxIEVKOYoxqbVoeFyW6f",
      "include_colab_link": true
    },
    "language_info": {
      "name": "python"
    },
    "kernelspec": {
      "name": "python3",
      "display_name": "Python 3"
    },
    "gpuClass": "standard"
  },
  "cells": [
    {
      "cell_type": "markdown",
      "metadata": {
        "id": "view-in-github",
        "colab_type": "text"
      },
      "source": [
        "<a href=\"https://colab.research.google.com/github/jacksonsin/data_science_with_python/blob/main/Class_and_Metaclass.ipynb\" target=\"_parent\"><img src=\"https://colab.research.google.com/assets/colab-badge.svg\" alt=\"Open In Colab\"/></a>"
      ]
    },
    {
      "cell_type": "code",
      "execution_count": 1,
      "metadata": {
        "id": "XR90U97gLg5G"
      },
      "outputs": [],
      "source": [
        "class MetaClass(type):\n",
        "    @classmethod\n",
        "    def __prepare__(metaclass, cls, bases): # define class namespace and passed classdict into __new__ and __init__\n",
        "        return super().__prepare__(cls, bases)\n",
        "    def __new__ (metaclass, cls, bases, dict): # to instantiate a class\n",
        "        return super().__new__(metaclass, cls, bases, dict)\n",
        "    def __init__(self, cls, bases, dict): # to initiate values after the instance is created\n",
        "        super().__init__(cls, bases,dict)\n",
        "    def __call__(self, *args, **kwargs): # invoke when create a class instance\n",
        "        return super().__call__(*args, **kwargs)"
      ]
    },
    {
      "cell_type": "code",
      "source": [
        "class Base(metaclass=MetaClass):\n",
        "    def __init__(self, cls, bases, dict): \n",
        "        self.cls = cls\n",
        "        self.bases = bases\n",
        "        self.dict = dict\n",
        "        print(f\"{self}\")"
      ],
      "metadata": {
        "id": "s_7VF18sLnSr"
      },
      "execution_count": 2,
      "outputs": []
    },
    {
      "cell_type": "code",
      "source": [
        "if __name__ == '__main__':\n",
        "    A = Base('Jackson',(1,2,3),{\"A\":1})\n",
        "    print(A.dict)"
      ],
      "metadata": {
        "colab": {
          "base_uri": "https://localhost:8080/"
        },
        "id": "_jnsBEdhLoQT",
        "outputId": "c05cfc1b-e298-44a8-8ea2-5ceaf5cfe07e"
      },
      "execution_count": 3,
      "outputs": [
        {
          "output_type": "stream",
          "name": "stdout",
          "text": [
            "<__main__.Base object at 0x7f806b7de610>\n",
            "{'A': 1}\n"
          ]
        }
      ]
    }
  ]
}