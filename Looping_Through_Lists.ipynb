{
  "nbformat": 4,
  "nbformat_minor": 0,
  "metadata": {
    "colab": {
      "name": "Looping Through Lists.ipynb",
      "provenance": [],
      "authorship_tag": "ABX9TyO7qp5buFBfbLJZ0juaFZVc",
      "include_colab_link": true
    },
    "kernelspec": {
      "name": "python3",
      "display_name": "Python 3"
    },
    "language_info": {
      "name": "python"
    }
  },
  "cells": [
    {
      "cell_type": "markdown",
      "metadata": {
        "id": "view-in-github",
        "colab_type": "text"
      },
      "source": [
        "<a href=\"https://colab.research.google.com/github/jacksonsin/data_science_with_python/blob/main/Looping_Through_Lists.ipynb\" target=\"_parent\"><img src=\"https://colab.research.google.com/assets/colab-badge.svg\" alt=\"Open In Colab\"/></a>"
      ]
    },
    {
      "cell_type": "code",
      "execution_count": 1,
      "metadata": {
        "id": "a-aAiScYuNQD"
      },
      "outputs": [],
      "source": [
        "A = [1,2,3]\n",
        "B = [4,5,6]"
      ]
    },
    {
      "cell_type": "code",
      "source": [
        "for i in range(len(B)): # Instead of doing this\n",
        "  av = A[i]\n",
        "  bv = B[i]\n",
        "  print(av, bv)"
      ],
      "metadata": {
        "colab": {
          "base_uri": "https://localhost:8080/"
        },
        "id": "HWNOWbaoudWn",
        "outputId": "356c90cf-c4c0-446f-b833-b5065c3278cd"
      },
      "execution_count": 2,
      "outputs": [
        {
          "output_type": "stream",
          "name": "stdout",
          "text": [
            "1 4\n",
            "2 5\n",
            "3 6\n"
          ]
        }
      ]
    },
    {
      "cell_type": "code",
      "source": [
        "for av, bv in zip(A,B): # Do this\n",
        "  print(av,bv)"
      ],
      "metadata": {
        "colab": {
          "base_uri": "https://localhost:8080/"
        },
        "id": "XqG0L0UPuc7E",
        "outputId": "25439782-d5d3-4397-e24a-4c765debfa6a"
      },
      "execution_count": 3,
      "outputs": [
        {
          "output_type": "stream",
          "name": "stdout",
          "text": [
            "1 4\n",
            "2 5\n",
            "3 6\n"
          ]
        }
      ]
    },
    {
      "cell_type": "code",
      "source": [
        "for i, (av, bv) in enumerate(zip(A,B)): # Do this\n",
        "  print(av,bv)"
      ],
      "metadata": {
        "colab": {
          "base_uri": "https://localhost:8080/"
        },
        "id": "eD0NjVxRvJa5",
        "outputId": "91a621f5-bf8f-40e4-d95b-111d18cc63ca"
      },
      "execution_count": 4,
      "outputs": [
        {
          "output_type": "stream",
          "name": "stdout",
          "text": [
            "1 4\n",
            "2 5\n",
            "3 6\n"
          ]
        }
      ]
    }
  ]
}