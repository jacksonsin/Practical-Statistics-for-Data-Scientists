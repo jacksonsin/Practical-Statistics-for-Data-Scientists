{
  "nbformat": 4,
  "nbformat_minor": 0,
  "metadata": {
    "colab": {
      "name": "lambda, map and filter.ipynb",
      "provenance": [],
      "authorship_tag": "ABX9TyMQVshxKtsoTNxRVE5EKY/0",
      "include_colab_link": true
    },
    "kernelspec": {
      "name": "python3",
      "display_name": "Python 3"
    },
    "language_info": {
      "name": "python"
    }
  },
  "cells": [
    {
      "cell_type": "markdown",
      "metadata": {
        "id": "view-in-github",
        "colab_type": "text"
      },
      "source": [
        "<a href=\"https://colab.research.google.com/github/jacksonsin/Practical-Statistics-for-Data-Scientists/blob/main/lambda%2C_map_and_filter.ipynb\" target=\"_parent\"><img src=\"https://colab.research.google.com/assets/colab-badge.svg\" alt=\"Open In Colab\"/></a>"
      ]
    },
    {
      "cell_type": "markdown",
      "source": [
        "Capitalize first and last letter of the word\n"
      ],
      "metadata": {
        "id": "NVCUc2cfrZU3"
      }
    },
    {
      "cell_type": "code",
      "source": [
        "def capitalize(word):\n",
        "  first_letter = word[0]\n",
        "  in_between = word[1:-1]\n",
        "  last_letter  = word[-1]\n",
        "  return first_letter.upper() + in_between + last_letter.upper()"
      ],
      "metadata": {
        "id": "QuBJ9NoDrfTY"
      },
      "execution_count": 1,
      "outputs": []
    },
    {
      "cell_type": "code",
      "source": [
        "capitalize(\"diaster\")"
      ],
      "metadata": {
        "colab": {
          "base_uri": "https://localhost:8080/",
          "height": 35
        },
        "id": "NpHp8AwtsEls",
        "outputId": "8893a864-0443-4c10-ce48-15ebc942e282"
      },
      "execution_count": 2,
      "outputs": [
        {
          "output_type": "execute_result",
          "data": {
            "application/vnd.google.colaboratory.intrinsic+json": {
              "type": "string"
            },
            "text/plain": [
              "'DiasteR'"
            ]
          },
          "metadata": {},
          "execution_count": 2
        }
      ]
    },
    {
      "cell_type": "markdown",
      "source": [
        "Capitalize first half of the word"
      ],
      "metadata": {
        "id": "8dLmE3xIslu8"
      }
    },
    {
      "cell_type": "code",
      "source": [
        "def capitalize_first_half(word):\n",
        "  # len(word)/2 will return a float, so express int() to convert float to integer\n",
        "  first_half = word[:int(len(word)/2)]\n",
        "  second_half = word[int(len(word)/2):]\n",
        "  return first_half.upper() + second_half"
      ],
      "metadata": {
        "id": "E15p6dAXsn0G"
      },
      "execution_count": 3,
      "outputs": []
    },
    {
      "cell_type": "code",
      "source": [
        "capitalize_first_half(\"robert\")"
      ],
      "metadata": {
        "colab": {
          "base_uri": "https://localhost:8080/",
          "height": 35
        },
        "id": "AM_Zs7URs9B8",
        "outputId": "e07b511c-20cd-436e-9461-140e6208ae13"
      },
      "execution_count": 4,
      "outputs": [
        {
          "output_type": "execute_result",
          "data": {
            "application/vnd.google.colaboratory.intrinsic+json": {
              "type": "string"
            },
            "text/plain": [
              "'ROBert'"
            ]
          },
          "metadata": {},
          "execution_count": 4
        }
      ]
    },
    {
      "cell_type": "markdown",
      "source": [
        "Reverse print out"
      ],
      "metadata": {
        "id": "ZS8AfW_-ukka"
      }
    },
    {
      "cell_type": "code",
      "source": [
        "def reversed_order(word):\n",
        "  wordlist = word.split()\n",
        "  reversed = wordlist[::-1]\n",
        "  return ' '.join(reversed)"
      ],
      "metadata": {
        "id": "Du5IwdCvumdr"
      },
      "execution_count": 5,
      "outputs": []
    },
    {
      "cell_type": "code",
      "source": [
        "reversed_order(\"We must find them\")"
      ],
      "metadata": {
        "colab": {
          "base_uri": "https://localhost:8080/",
          "height": 35
        },
        "id": "jLebW0peuvgP",
        "outputId": "3c299a5f-88bd-45ab-f5a5-fdf28a893879"
      },
      "execution_count": 6,
      "outputs": [
        {
          "output_type": "execute_result",
          "data": {
            "application/vnd.google.colaboratory.intrinsic+json": {
              "type": "string"
            },
            "text/plain": [
              "'them find must We'"
            ]
          },
          "metadata": {},
          "execution_count": 6
        }
      ]
    },
    {
      "cell_type": "code",
      "execution_count": 7,
      "metadata": {
        "id": "GXxOptnMhmkW"
      },
      "outputs": [],
      "source": [
        "def has_33(nums):\n",
        "  # range(0,4)\n",
        "  for i in range(0,len(nums)-1):\n",
        "    #if [1,x,x,4,x] is equal to [3,3]\n",
        "    if nums[i:i+2] == [3,3]:\n",
        "      return True\n",
        "  return False"
      ]
    },
    {
      "cell_type": "code",
      "source": [
        "has_33([1,2,3,4,5])"
      ],
      "metadata": {
        "colab": {
          "base_uri": "https://localhost:8080/"
        },
        "id": "wRskV91lyyJW",
        "outputId": "1dcd7203-1c84-4bca-901f-ccea9c059b5b"
      },
      "execution_count": 8,
      "outputs": [
        {
          "output_type": "execute_result",
          "data": {
            "text/plain": [
              "False"
            ]
          },
          "metadata": {},
          "execution_count": 8
        }
      ]
    },
    {
      "cell_type": "code",
      "source": [
        "has_33([3,2,3,3,5])"
      ],
      "metadata": {
        "colab": {
          "base_uri": "https://localhost:8080/"
        },
        "id": "3UPHWSji1KKe",
        "outputId": "89582adc-06c6-49e9-c13d-66176c649b3f"
      },
      "execution_count": 9,
      "outputs": [
        {
          "output_type": "execute_result",
          "data": {
            "text/plain": [
              "True"
            ]
          },
          "metadata": {},
          "execution_count": 9
        }
      ]
    },
    {
      "cell_type": "markdown",
      "source": [
        "Map function\n"
      ],
      "metadata": {
        "id": "bDUDaqAjrgCv"
      }
    },
    {
      "cell_type": "code",
      "source": [
        "def check_even(num):\n",
        "  return num%2==0"
      ],
      "metadata": {
        "id": "Hx_y0ymcrk6D"
      },
      "execution_count": 10,
      "outputs": []
    },
    {
      "cell_type": "code",
      "source": [
        "mynums = [1,2,3,4,5,6,7]"
      ],
      "metadata": {
        "id": "wNgXLmU4rzCn"
      },
      "execution_count": 11,
      "outputs": []
    },
    {
      "cell_type": "code",
      "source": [
        "list(map(check_even,mynums))"
      ],
      "metadata": {
        "colab": {
          "base_uri": "https://localhost:8080/"
        },
        "id": "fMeijz7nrkTq",
        "outputId": "647e6897-0148-4883-ff45-3be447036464"
      },
      "execution_count": 12,
      "outputs": [
        {
          "output_type": "execute_result",
          "data": {
            "text/plain": [
              "[False, True, False, True, False, True, False]"
            ]
          },
          "metadata": {},
          "execution_count": 12
        }
      ]
    },
    {
      "cell_type": "markdown",
      "source": [
        "Filter list"
      ],
      "metadata": {
        "id": "9ddr2sDOrgLV"
      }
    },
    {
      "cell_type": "code",
      "source": [
        "list(filter(check_even,mynums))"
      ],
      "metadata": {
        "colab": {
          "base_uri": "https://localhost:8080/"
        },
        "id": "5KR3EGiesShZ",
        "outputId": "5526de56-8d52-4d79-fd56-38f0e1a7772a"
      },
      "execution_count": 13,
      "outputs": [
        {
          "output_type": "execute_result",
          "data": {
            "text/plain": [
              "[2, 4, 6]"
            ]
          },
          "metadata": {},
          "execution_count": 13
        }
      ]
    },
    {
      "cell_type": "markdown",
      "source": [
        ""
      ],
      "metadata": {
        "id": "8S1SwuQVsjRP"
      }
    },
    {
      "cell_type": "code",
      "source": [
        "def square(num):\n",
        "  return num**2"
      ],
      "metadata": {
        "id": "UAbfKqTisjaE"
      },
      "execution_count": 14,
      "outputs": []
    },
    {
      "cell_type": "code",
      "source": [
        "square(2)"
      ],
      "metadata": {
        "colab": {
          "base_uri": "https://localhost:8080/"
        },
        "id": "mEGIdz9espDM",
        "outputId": "99d1f7a9-645d-477b-d9d4-2f82936d4942"
      },
      "execution_count": 15,
      "outputs": [
        {
          "output_type": "execute_result",
          "data": {
            "text/plain": [
              "4"
            ]
          },
          "metadata": {},
          "execution_count": 15
        }
      ]
    },
    {
      "cell_type": "code",
      "source": [
        "square = lambda num: num**2"
      ],
      "metadata": {
        "id": "m9Rg8h7Is7VO"
      },
      "execution_count": 16,
      "outputs": []
    },
    {
      "cell_type": "code",
      "source": [
        "square(2)"
      ],
      "metadata": {
        "colab": {
          "base_uri": "https://localhost:8080/"
        },
        "id": "wZv6yNCotEi_",
        "outputId": "3ed91aeb-2f7e-4b55-cc9a-86748128cf0f"
      },
      "execution_count": 17,
      "outputs": [
        {
          "output_type": "execute_result",
          "data": {
            "text/plain": [
              "4"
            ]
          },
          "metadata": {},
          "execution_count": 17
        }
      ]
    },
    {
      "cell_type": "code",
      "source": [
        "list(map(lambda num: num**2, mynums))"
      ],
      "metadata": {
        "colab": {
          "base_uri": "https://localhost:8080/"
        },
        "id": "TXwErrvRtRA_",
        "outputId": "8ff2ec57-6b53-4b59-a651-3655a5100aed"
      },
      "execution_count": 18,
      "outputs": [
        {
          "output_type": "execute_result",
          "data": {
            "text/plain": [
              "[1, 4, 9, 16, 25, 36, 49]"
            ]
          },
          "metadata": {},
          "execution_count": 18
        }
      ]
    },
    {
      "cell_type": "code",
      "source": [
        "list(filter(lambda num: num%2==0, mynums))"
      ],
      "metadata": {
        "colab": {
          "base_uri": "https://localhost:8080/"
        },
        "id": "yrTaemO-tnXI",
        "outputId": "4961a795-5103-48d1-b1cb-5a9e04d99806"
      },
      "execution_count": 19,
      "outputs": [
        {
          "output_type": "execute_result",
          "data": {
            "text/plain": [
              "[2, 4, 6]"
            ]
          },
          "metadata": {},
          "execution_count": 19
        }
      ]
    },
    {
      "cell_type": "code",
      "source": [
        "names = ['Andy','Eve','Sally']"
      ],
      "metadata": {
        "id": "oir9lDacuPQL"
      },
      "execution_count": 20,
      "outputs": []
    },
    {
      "cell_type": "markdown",
      "source": [
        "More advanced examples"
      ],
      "metadata": {
        "id": "eGAiATmmu7lj"
      }
    },
    {
      "cell_type": "code",
      "source": [
        "list(map(lambda x:x[0],names))"
      ],
      "metadata": {
        "colab": {
          "base_uri": "https://localhost:8080/"
        },
        "id": "jsJjsf9AuVJk",
        "outputId": "76b87e0d-b382-4b7f-a34c-738750457a93"
      },
      "execution_count": 21,
      "outputs": [
        {
          "output_type": "execute_result",
          "data": {
            "text/plain": [
              "['A', 'E', 'S']"
            ]
          },
          "metadata": {},
          "execution_count": 21
        }
      ]
    },
    {
      "cell_type": "code",
      "source": [
        "list(map(lambda x:x[::-1],names))"
      ],
      "metadata": {
        "colab": {
          "base_uri": "https://localhost:8080/"
        },
        "id": "EgWLSywwueeG",
        "outputId": "1cf3a4dd-6dce-4d50-90fb-30a1a78c6948"
      },
      "execution_count": 22,
      "outputs": [
        {
          "output_type": "execute_result",
          "data": {
            "text/plain": [
              "['ydnA', 'evE', 'yllaS']"
            ]
          },
          "metadata": {},
          "execution_count": 22
        }
      ]
    }
  ]
}