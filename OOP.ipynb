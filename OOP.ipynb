{
  "cells": [
    {
      "cell_type": "markdown",
      "metadata": {
        "id": "view-in-github",
        "colab_type": "text"
      },
      "source": [
        "<a href=\"https://colab.research.google.com/github/jacksonsin/Practical-Statistics-for-Data-Scientists/blob/main/OOP.ipynb\" target=\"_parent\"><img src=\"https://colab.research.google.com/assets/colab-badge.svg\" alt=\"Open In Colab\"/></a>"
      ]
    },
    {
      "cell_type": "markdown",
      "metadata": {
        "id": "Mxh_MJedWIX0"
      },
      "source": [
        "Tutorial: https://www.youtube.com/watch?v=Ej_02ICOIgs"
      ]
    },
    {
      "cell_type": "code",
      "execution_count": 1,
      "metadata": {
        "id": "wdNkfc3WGuBF"
      },
      "outputs": [],
      "source": [
        "class Item():\n",
        "  # A function inside a class is called method\n",
        "  def calculate_total_price(self, x, y):\n",
        "    return x*y"
      ]
    },
    {
      "cell_type": "code",
      "execution_count": 2,
      "metadata": {
        "colab": {
          "base_uri": "https://localhost:8080/"
        },
        "id": "WtA3Gxld9yLu",
        "outputId": "950256c3-dc47-4744-8ea9-e8afa283c108"
      },
      "outputs": [
        {
          "output_type": "execute_result",
          "data": {
            "text/plain": [
              "1998"
            ]
          },
          "metadata": {},
          "execution_count": 2
        }
      ],
      "source": [
        "item1 = Item()\n",
        "item1.name = 'iPhone'\n",
        "item1.price = 999\n",
        "item1.quantity = 2\n",
        "item1.calculate_total_price(item1.price,item1.quantity)"
      ]
    },
    {
      "cell_type": "code",
      "execution_count": 3,
      "metadata": {
        "colab": {
          "base_uri": "https://localhost:8080/"
        },
        "id": "v6HyjNqT9_jB",
        "outputId": "734bfdea-683a-4be6-ab26-b4d7d2d846e6"
      },
      "outputs": [
        {
          "output_type": "stream",
          "name": "stdout",
          "text": [
            "<class '__main__.Item'>\n",
            "<class 'str'>\n",
            "<class 'int'>\n",
            "<class 'int'>\n"
          ]
        }
      ],
      "source": [
        "print(type(item1))\n",
        "print(type(item1.name))\n",
        "print(type(item1.price))\n",
        "print(type(item1.quantity))"
      ]
    },
    {
      "cell_type": "code",
      "execution_count": 4,
      "metadata": {
        "colab": {
          "base_uri": "https://localhost:8080/"
        },
        "id": "ptUGq8Sy-iLI",
        "outputId": "7888eee0-6bf1-40e1-cfd0-de549e8fe075"
      },
      "outputs": [
        {
          "output_type": "execute_result",
          "data": {
            "text/plain": [
              "5997"
            ]
          },
          "metadata": {},
          "execution_count": 4
        }
      ],
      "source": [
        "item2 = Item()\n",
        "item2.name = 'laptop'\n",
        "item2.price = 1999\n",
        "item2.quantity = 3\n",
        "item2.calculate_total_price(item2.price,item2.quantity)"
      ]
    },
    {
      "cell_type": "code",
      "execution_count": 5,
      "metadata": {
        "id": "odCCUlW-Cc80"
      },
      "outputs": [],
      "source": [
        "class Item():\n",
        "  def __init__(self, name: str, price: float, quantity=0):\n",
        "  # Run validations to the received arguments{\n",
        "    assert price >= 0, f\"Price {price} cannot be negative!\"\n",
        "    assert quantity >= 0, f\"Quantity {quantity} cannot be negative!\" \n",
        "  # Assign to self object\n",
        "    print(f\"Instance from {name}\")\n",
        "    self.name = name\n",
        "    self.price = price\n",
        "    self.quantity = quantity\n",
        "  def calculate_total_price(self):\n",
        "    return self.price * self.quantity \n"
      ]
    },
    {
      "cell_type": "markdown",
      "metadata": {
        "id": "zo7EGsO_O3y_"
      },
      "source": [
        "Validation check (Passed)"
      ]
    },
    {
      "cell_type": "code",
      "execution_count": 6,
      "metadata": {
        "colab": {
          "base_uri": "https://localhost:8080/"
        },
        "id": "01ZxcSJfCgkw",
        "outputId": "df22430d-b34c-42de-e051-7b8d509d03d6"
      },
      "outputs": [
        {
          "output_type": "stream",
          "name": "stdout",
          "text": [
            "Instance from iPhone\n",
            "Instance from laptop\n"
          ]
        }
      ],
      "source": [
        "item1 = Item('iPhone', 999,2)\n",
        "item2 = Item('laptop', 1999,3)"
      ]
    },
    {
      "cell_type": "code",
      "execution_count": 7,
      "metadata": {
        "colab": {
          "base_uri": "https://localhost:8080/"
        },
        "id": "-Kg6dDfaDwLn",
        "outputId": "44085026-304a-420b-8ff4-4caca58512cd"
      },
      "outputs": [
        {
          "output_type": "stream",
          "name": "stdout",
          "text": [
            "1998\n",
            "5997\n"
          ]
        }
      ],
      "source": [
        "print(item1.calculate_total_price())\n",
        "print(item2.calculate_total_price())"
      ]
    },
    {
      "cell_type": "code",
      "execution_count": 8,
      "metadata": {
        "colab": {
          "base_uri": "https://localhost:8080/"
        },
        "id": "Od_dTGjoNxmM",
        "outputId": "63419f4d-a2b3-4ac7-cf8c-c63699e1a605"
      },
      "outputs": [
        {
          "output_type": "stream",
          "name": "stdout",
          "text": [
            "1998\n",
            "5997\n"
          ]
        }
      ],
      "source": [
        "print(item1.calculate_total_price())\n",
        "print(item2.calculate_total_price())"
      ]
    },
    {
      "cell_type": "markdown",
      "metadata": {
        "id": "3Y_FJhYRULhL"
      },
      "source": [
        "Exercise 3 - Discount rate"
      ]
    },
    {
      "cell_type": "code",
      "execution_count": 9,
      "metadata": {
        "id": "E9RVgKmQ-ozV"
      },
      "outputs": [],
      "source": [
        "class Item():\n",
        "  pay_rate = 0.8\n",
        "  def __init__(self, name: str, price: float, quantity=0):\n",
        "  # Run validations to the received arguments{\n",
        "    assert price >= 0, f\"Price {price} cannot be negative!\"\n",
        "    assert quantity >= 0, f\"Quantity {quantity} cannot be negative!\" \n",
        "  # Assign to self object\n",
        "    print(f\"Instance from {name}\")\n",
        "    self.name = name\n",
        "    self.price = price\n",
        "    self.quantity = quantity\n",
        "  def calculate_total_price(self):\n",
        "    return self.price * self.quantity \n",
        "  def apply_discount(self):\n",
        "    self.price = self.price * self.pay_rate"
      ]
    },
    {
      "cell_type": "code",
      "execution_count": 10,
      "metadata": {
        "colab": {
          "base_uri": "https://localhost:8080/"
        },
        "id": "xoZrfTTdUZw5",
        "outputId": "88c982ae-49d8-4fcb-b2b7-0bba4d50d706"
      },
      "outputs": [
        {
          "output_type": "stream",
          "name": "stdout",
          "text": [
            "Instance from iPhone\n"
          ]
        },
        {
          "output_type": "execute_result",
          "data": {
            "text/plain": [
              "0.8"
            ]
          },
          "metadata": {},
          "execution_count": 10
        }
      ],
      "source": [
        "item1 = Item('iPhone', 999,2)\n",
        "item1.pay_rate"
      ]
    },
    {
      "cell_type": "code",
      "execution_count": 11,
      "metadata": {
        "colab": {
          "base_uri": "https://localhost:8080/"
        },
        "id": "XT9tjX_mUfUP",
        "outputId": "f5862b57-c8be-47b4-d526-8039aa191ad3"
      },
      "outputs": [
        {
          "output_type": "stream",
          "name": "stdout",
          "text": [
            "Instance from laptop\n"
          ]
        },
        {
          "output_type": "execute_result",
          "data": {
            "text/plain": [
              "1399.3"
            ]
          },
          "metadata": {},
          "execution_count": 11
        }
      ],
      "source": [
        "item2 = Item('laptop', 1999,3)\n",
        "item2.pay_rate = 0.7\n",
        "item2.apply_discount()\n",
        "item2.price"
      ]
    },
    {
      "cell_type": "markdown",
      "metadata": {
        "id": "ZcyQeCHQV_1j"
      },
      "source": [
        "Exercise 4 - Append objects to list"
      ]
    },
    {
      "cell_type": "code",
      "execution_count": 12,
      "metadata": {
        "id": "RXLy6jEjWLx3"
      },
      "outputs": [],
      "source": [
        "class Item():\n",
        "  pay_rate = 0.8\n",
        "  # Create an empty list\n",
        "  all = []\n",
        "  def __init__(self, name: str, price: float, quantity=0):\n",
        "  # Run validations to the received arguments{\n",
        "    assert price >= 0, f\"Price {price} cannot be negative!\"\n",
        "    assert quantity >= 0, f\"Quantity {quantity} cannot be negative!\" \n",
        "  # Assign to self object\n",
        "    print(f\"Instance from {name}\")\n",
        "    self.name = name\n",
        "    self.price = price\n",
        "    self.quantity = quantity\n",
        "\n",
        "    Item.all.append(self)\n",
        "\n",
        "  def calculate_total_price(self):\n",
        "    return self.price * self.quantity \n",
        "  def apply_discount(self):\n",
        "    self.price = self.price * self.pay_rate"
      ]
    },
    {
      "cell_type": "code",
      "execution_count": 13,
      "metadata": {
        "colab": {
          "base_uri": "https://localhost:8080/"
        },
        "id": "dupxAtluWg4a",
        "outputId": "963d44c4-96ce-4006-cb3a-3812883f85c7"
      },
      "outputs": [
        {
          "output_type": "stream",
          "name": "stdout",
          "text": [
            "Instance from iPhone\n",
            "Instance from Laptop\n",
            "Instance from Cable\n",
            "Instance from Mouse\n",
            "Instance from Keyboard\n"
          ]
        }
      ],
      "source": [
        "item1 = Item('iPhone', 999,1)\n",
        "item2 = Item('Laptop', 999,3)\n",
        "item3 = Item('Cable', 10,5)\n",
        "item4 = Item('Mouse', 50,5)\n",
        "item5 = Item('Keyboard', 75,5)"
      ]
    },
    {
      "cell_type": "code",
      "execution_count": 14,
      "metadata": {
        "colab": {
          "base_uri": "https://localhost:8080/"
        },
        "id": "HOowPJ5JZrR6",
        "outputId": "b3bb1641-179c-4fd4-81a7-e8960273a24e"
      },
      "outputs": [
        {
          "output_type": "stream",
          "name": "stdout",
          "text": [
            "[<__main__.Item object at 0x7f0c555d3a90>, <__main__.Item object at 0x7f0c555c8dd0>, <__main__.Item object at 0x7f0c555c2290>, <__main__.Item object at 0x7f0c555c2e10>, <__main__.Item object at 0x7f0c555d3c10>]\n"
          ]
        }
      ],
      "source": [
        "# Objects are not readable\n",
        "print(Item.all)"
      ]
    },
    {
      "cell_type": "code",
      "execution_count": 15,
      "metadata": {
        "colab": {
          "base_uri": "https://localhost:8080/"
        },
        "id": "VpUdTSg2W21g",
        "outputId": "a2159b39-fe75-4b13-d0da-eb6a07392dcb"
      },
      "outputs": [
        {
          "output_type": "stream",
          "name": "stdout",
          "text": [
            "iPhone\n",
            "Laptop\n",
            "Cable\n",
            "Mouse\n",
            "Keyboard\n"
          ]
        }
      ],
      "source": [
        "for instance in Item.all:\n",
        "  print(instance.name)"
      ]
    },
    {
      "cell_type": "markdown",
      "metadata": {
        "id": "Dw03nUKDZfcX"
      },
      "source": [
        "Change the way to interpret the objects better"
      ]
    },
    {
      "cell_type": "code",
      "execution_count": 16,
      "metadata": {
        "id": "sDWeXBJ6W0y3"
      },
      "outputs": [],
      "source": [
        "class Item():\n",
        "  pay_rate = 0.8\n",
        "  # Create an empty list\n",
        "  all = []\n",
        "  def __init__(self, name: str, price: float, quantity=0):\n",
        "  # Run validations to the received arguments{\n",
        "    assert price >= 0, f\"Price {price} cannot be negative!\"\n",
        "    assert quantity >= 0, f\"Quantity {quantity} cannot be negative!\" \n",
        "  # Assign to self object\n",
        "    print(f\"Instance from {name}\")\n",
        "    self.name = name\n",
        "    self.price = price\n",
        "    self.quantity = quantity\n",
        "\n",
        "    Item.all.append(self)\n",
        "\n",
        "  def calculate_total_price(self):\n",
        "    return self.price * self.quantity \n",
        "  def apply_discount(self):\n",
        "    self.price = self.price * self.pay_rate\n",
        "  def __repr__(self):\n",
        "    return f\"Item('{self.name}',{self.price},{self.quantity})\""
      ]
    },
    {
      "cell_type": "code",
      "execution_count": 17,
      "metadata": {
        "colab": {
          "base_uri": "https://localhost:8080/"
        },
        "id": "_QEVK6vPZE6u",
        "outputId": "14297306-e3b4-47ab-c4e8-e9e3376e465c"
      },
      "outputs": [
        {
          "output_type": "stream",
          "name": "stdout",
          "text": [
            "Instance from iPhone\n",
            "Instance from Laptop\n",
            "Instance from Cable\n",
            "Instance from Mouse\n",
            "Instance from Keyboard\n"
          ]
        }
      ],
      "source": [
        "item1 = Item('iPhone', 999,1)\n",
        "item2 = Item('Laptop', 999,3)\n",
        "item3 = Item('Cable', 10,5)\n",
        "item4 = Item('Mouse', 50,5)\n",
        "item5 = Item('Keyboard', 75,5)"
      ]
    },
    {
      "cell_type": "code",
      "execution_count": 18,
      "metadata": {
        "colab": {
          "base_uri": "https://localhost:8080/"
        },
        "id": "oCVtXh8FYkQ7",
        "outputId": "5f515d09-20ba-491b-b99b-7cc9d5c9e0c2"
      },
      "outputs": [
        {
          "output_type": "execute_result",
          "data": {
            "text/plain": [
              "[Item('iPhone',999,1),\n",
              " Item('Laptop',999,3),\n",
              " Item('Cable',10,5),\n",
              " Item('Mouse',50,5),\n",
              " Item('Keyboard',75,5)]"
            ]
          },
          "metadata": {},
          "execution_count": 18
        }
      ],
      "source": [
        "# Objects are now interpretable\n",
        "Item.all"
      ]
    },
    {
      "cell_type": "markdown",
      "metadata": {
        "id": "OBTX8GU4eNgx"
      },
      "source": [
        "Exercise 5"
      ]
    },
    {
      "cell_type": "code",
      "execution_count": 19,
      "metadata": {
        "id": "9tEqBX1BeNrE"
      },
      "outputs": [],
      "source": [
        "import csv\n",
        "\n",
        "class Item():\n",
        "  pay_rate = 0.8\n",
        "  # Create an empty list\n",
        "  all = []\n",
        "  def __init__(self, name: str, price: float, quantity=0):\n",
        "  # Run validations to the received arguments{\n",
        "    assert price >= 0, f\"Price {price} cannot be negative!\"\n",
        "    assert quantity >= 0, f\"Quantity {quantity} cannot be negative!\" \n",
        "  # Assign to self object\n",
        "    print(f\"Instance from {name}\")\n",
        "    self.name = name\n",
        "    self.price = price\n",
        "    self.quantity = quantity\n",
        "\n",
        "    Item.all.append(self)\n",
        "\n",
        "  def calculate_total_price(self):\n",
        "    return self.price * self.quantity \n",
        "  def apply_discount(self):\n",
        "    self.price = self.price * self.pay_rate\n",
        "\n",
        "  @classmethod\n",
        "  def instantiate_from_csv(cls):\n",
        "    with open('items.csv','r') as f:\n",
        "      reader = csv.DictReader(f)\n",
        "      items = list(reader)\n",
        "\n",
        "    for item in items:\n",
        "      Item(\n",
        "          name=item.get('name'),\n",
        "          price=float(item.get('price')),\n",
        "          quantity=int(item.get('quantity'))\n",
        "      )\n",
        "\n",
        "  def __repr__(self):\n",
        "    return f\"Item('{self.name}',{self.price},{self.quantity})\""
      ]
    },
    {
      "cell_type": "code",
      "execution_count": 20,
      "metadata": {
        "colab": {
          "base_uri": "https://localhost:8080/"
        },
        "id": "ld2po_ZenKqo",
        "outputId": "e0003c70-e6bf-4989-f498-95624159a92e"
      },
      "outputs": [
        {
          "output_type": "stream",
          "name": "stdout",
          "text": [
            "name,price,quantity\r\n",
            "Phone,100,1\r\n",
            "Laptop,1000,3\r\n",
            "Cable,10,5\r\n",
            "Mouse,50,5\r\n",
            "Keyboard,74.9,5\r\n",
            "\n"
          ]
        }
      ],
      "source": [
        "# Read csv file from Github \n",
        "import requests\n",
        "url = 'https://raw.githubusercontent.com/jacksonsin/datasets/main/items.csv'\n",
        "page = requests.get(url)\n",
        "print(page.text)"
      ]
    },
    {
      "cell_type": "code",
      "source": [
        "# Save a copy of csv file as items.csv in Colab VM\n",
        "import os\n",
        "with open(os.getcwd()+'/items.csv', \"w\") as myfile:\n",
        "    myfile.write(page.text)"
      ],
      "metadata": {
        "id": "Mpbx7VWl50LU"
      },
      "execution_count": 21,
      "outputs": []
    },
    {
      "cell_type": "code",
      "execution_count": 22,
      "metadata": {
        "colab": {
          "base_uri": "https://localhost:8080/"
        },
        "id": "3jhddlKneqqp",
        "outputId": "104d3d16-99ec-444f-9084-3e2e1ea939b9"
      },
      "outputs": [
        {
          "output_type": "stream",
          "name": "stdout",
          "text": [
            "Instance from Phone\n",
            "Instance from Laptop\n",
            "Instance from Cable\n",
            "Instance from Mouse\n",
            "Instance from Keyboard\n"
          ]
        },
        {
          "output_type": "execute_result",
          "data": {
            "text/plain": [
              "[Item('Phone',100.0,1),\n",
              " Item('Laptop',1000.0,3),\n",
              " Item('Cable',10.0,5),\n",
              " Item('Mouse',50.0,5),\n",
              " Item('Keyboard',74.9,5)]"
            ]
          },
          "metadata": {},
          "execution_count": 22
        }
      ],
      "source": [
        "Item.instantiate_from_csv()\n",
        "Item.all"
      ]
    },
    {
      "cell_type": "markdown",
      "metadata": {
        "id": "foJPGH16xAGW"
      },
      "source": [
        "Static Method"
      ]
    },
    {
      "cell_type": "code",
      "execution_count": 23,
      "metadata": {
        "id": "fU4-1FrCw_qn"
      },
      "outputs": [],
      "source": [
        "class Item():\n",
        "  @staticmethod\n",
        "  def double(x):\n",
        "    return x**2\n",
        "  def check_integer(num):\n",
        "    if isinstance(num, float):\n",
        "      return num.is_integer()\n",
        "    elif isinstance(num, int):\n",
        "      return True\n",
        "    else:\n",
        "      return False"
      ]
    },
    {
      "cell_type": "code",
      "execution_count": 24,
      "metadata": {
        "colab": {
          "base_uri": "https://localhost:8080/"
        },
        "id": "bu542N1359nZ",
        "outputId": "b3d105e9-5c98-4d89-a17c-e4f5a82a547d"
      },
      "outputs": [
        {
          "output_type": "execute_result",
          "data": {
            "text/plain": [
              "True"
            ]
          },
          "metadata": {},
          "execution_count": 24
        }
      ],
      "source": [
        "Item.check_integer(5)"
      ]
    },
    {
      "cell_type": "code",
      "execution_count": 25,
      "metadata": {
        "colab": {
          "base_uri": "https://localhost:8080/"
        },
        "id": "Lqb_VsP15-06",
        "outputId": "baa4caf6-dc3e-4c35-ad48-d0620671b026"
      },
      "outputs": [
        {
          "output_type": "execute_result",
          "data": {
            "text/plain": [
              "True"
            ]
          },
          "metadata": {},
          "execution_count": 25
        }
      ],
      "source": [
        "Item.check_integer(5.0)"
      ]
    },
    {
      "cell_type": "code",
      "execution_count": 26,
      "metadata": {
        "colab": {
          "base_uri": "https://localhost:8080/"
        },
        "id": "4Q-7cI4K6AJ-",
        "outputId": "26c41baa-d66f-4e5a-c86d-26a432468e20"
      },
      "outputs": [
        {
          "output_type": "execute_result",
          "data": {
            "text/plain": [
              "False"
            ]
          },
          "metadata": {},
          "execution_count": 26
        }
      ],
      "source": [
        "Item.check_integer('a')"
      ]
    },
    {
      "cell_type": "markdown",
      "metadata": {
        "id": "cZfMN0v4hLIE"
      },
      "source": [
        "Inheritance"
      ]
    },
    {
      "cell_type": "code",
      "execution_count": 27,
      "metadata": {
        "id": "uIsB72iUm3UT"
      },
      "outputs": [],
      "source": [
        "class Item():\n",
        "  pay_rate = 0.8\n",
        "  # Create an empty list\n",
        "  all = []\n",
        "  def __init__(self, name: str, price: float, quantity=0):\n",
        "  # Run validations to the received arguments{\n",
        "    assert price >= 0, f\"Price {price} cannot be negative!\"\n",
        "    assert quantity >= 0, f\"Quantity {quantity} cannot be negative!\" \n",
        "  # Assign to self object\n",
        "    print(f\"Instance from {name}\")\n",
        "    self.name = name\n",
        "    self.price = price\n",
        "    self.quantity = quantity\n",
        "\n",
        "    Item.all.append(self)\n",
        "\n",
        "  def calculate_total_price(self):\n",
        "    return self.price * self.quantity \n",
        "  def apply_discount(self):\n",
        "    self.price = self.price * self.pay_rate\n",
        "  def __repr__(self):\n",
        "    return f\"{self.__class__.__name__}('{self.name}',{self.price},{self.quantity})\""
      ]
    },
    {
      "cell_type": "code",
      "execution_count": 28,
      "metadata": {
        "id": "CpBAJLdChNAj"
      },
      "outputs": [],
      "source": [
        "class Phone(Item):\n",
        "  def __init__(self,name: str,price: float, quantity=0, broken_phone=0):\n",
        "    super().__init__(name,price,quantity)\n",
        "    self.broken_phone = broken_phone"
      ]
    },
    {
      "cell_type": "code",
      "execution_count": 29,
      "metadata": {
        "colab": {
          "base_uri": "https://localhost:8080/"
        },
        "id": "UHVj8C1rhdOq",
        "outputId": "4b7ce97a-6334-4dee-df4e-030a98ff52e6"
      },
      "outputs": [
        {
          "output_type": "stream",
          "name": "stdout",
          "text": [
            "Instance from iphone\n"
          ]
        }
      ],
      "source": [
        "phone1 = Phone(\"iphone\", 500, 5, 1)"
      ]
    },
    {
      "cell_type": "code",
      "execution_count": 30,
      "metadata": {
        "colab": {
          "base_uri": "https://localhost:8080/"
        },
        "id": "Y-kOZGROkmma",
        "outputId": "b4ee3c2a-ece9-4fcb-ab01-4434a26c29d6"
      },
      "outputs": [
        {
          "output_type": "stream",
          "name": "stdout",
          "text": [
            "2500\n"
          ]
        }
      ],
      "source": [
        "print(phone1.calculate_total_price())"
      ]
    },
    {
      "cell_type": "code",
      "execution_count": 31,
      "metadata": {
        "colab": {
          "base_uri": "https://localhost:8080/"
        },
        "id": "opUFEEGUn0pr",
        "outputId": "48487b2e-a0ad-4c69-c92d-a25dc238ea18"
      },
      "outputs": [
        {
          "output_type": "execute_result",
          "data": {
            "text/plain": [
              "[Phone('iphone',500,5)]"
            ]
          },
          "metadata": {},
          "execution_count": 31
        }
      ],
      "source": [
        "Item.all"
      ]
    },
    {
      "cell_type": "code",
      "execution_count": 32,
      "metadata": {
        "colab": {
          "base_uri": "https://localhost:8080/"
        },
        "id": "4cRzoKMNn0xL",
        "outputId": "fcf038b6-ee47-4413-ef19-49b527a67894"
      },
      "outputs": [
        {
          "output_type": "execute_result",
          "data": {
            "text/plain": [
              "[Phone('iphone',500,5)]"
            ]
          },
          "metadata": {},
          "execution_count": 32
        }
      ],
      "source": [
        "Phone.all"
      ]
    },
    {
      "cell_type": "markdown",
      "metadata": {
        "id": "9HY_rVmzt-kD"
      },
      "source": [
        "Create your own Python packages"
      ]
    },
    {
      "cell_type": "code",
      "execution_count": 33,
      "metadata": {
        "id": "r80bIgs_vW5B",
        "colab": {
          "base_uri": "https://localhost:8080/"
        },
        "outputId": "f2c7a819-a1db-48e9-f658-8b6d93d2e6cf"
      },
      "outputs": [
        {
          "output_type": "stream",
          "name": "stdout",
          "text": [
            "Requirement already satisfied: pydrive in /usr/local/lib/python3.7/dist-packages (1.3.1)\n",
            "Requirement already satisfied: google-api-python-client>=1.2 in /usr/local/lib/python3.7/dist-packages (from pydrive) (1.12.8)\n",
            "Requirement already satisfied: PyYAML>=3.0 in /usr/local/lib/python3.7/dist-packages (from pydrive) (3.13)\n",
            "Requirement already satisfied: oauth2client>=4.0.0 in /usr/local/lib/python3.7/dist-packages (from pydrive) (4.1.3)\n",
            "Requirement already satisfied: six<2dev,>=1.13.0 in /usr/local/lib/python3.7/dist-packages (from google-api-python-client>=1.2->pydrive) (1.15.0)\n",
            "Requirement already satisfied: google-auth>=1.16.0 in /usr/local/lib/python3.7/dist-packages (from google-api-python-client>=1.2->pydrive) (1.35.0)\n",
            "Requirement already satisfied: google-auth-httplib2>=0.0.3 in /usr/local/lib/python3.7/dist-packages (from google-api-python-client>=1.2->pydrive) (0.0.4)\n",
            "Requirement already satisfied: google-api-core<2dev,>=1.21.0 in /usr/local/lib/python3.7/dist-packages (from google-api-python-client>=1.2->pydrive) (1.26.3)\n",
            "Requirement already satisfied: httplib2<1dev,>=0.15.0 in /usr/local/lib/python3.7/dist-packages (from google-api-python-client>=1.2->pydrive) (0.17.4)\n",
            "Requirement already satisfied: uritemplate<4dev,>=3.0.0 in /usr/local/lib/python3.7/dist-packages (from google-api-python-client>=1.2->pydrive) (3.0.1)\n",
            "Requirement already satisfied: pytz in /usr/local/lib/python3.7/dist-packages (from google-api-core<2dev,>=1.21.0->google-api-python-client>=1.2->pydrive) (2018.9)\n",
            "Requirement already satisfied: googleapis-common-protos<2.0dev,>=1.6.0 in /usr/local/lib/python3.7/dist-packages (from google-api-core<2dev,>=1.21.0->google-api-python-client>=1.2->pydrive) (1.53.0)\n",
            "Requirement already satisfied: setuptools>=40.3.0 in /usr/local/lib/python3.7/dist-packages (from google-api-core<2dev,>=1.21.0->google-api-python-client>=1.2->pydrive) (57.4.0)\n",
            "Requirement already satisfied: protobuf>=3.12.0 in /usr/local/lib/python3.7/dist-packages (from google-api-core<2dev,>=1.21.0->google-api-python-client>=1.2->pydrive) (3.17.3)\n",
            "Requirement already satisfied: packaging>=14.3 in /usr/local/lib/python3.7/dist-packages (from google-api-core<2dev,>=1.21.0->google-api-python-client>=1.2->pydrive) (21.3)\n",
            "Requirement already satisfied: requests<3.0.0dev,>=2.18.0 in /usr/local/lib/python3.7/dist-packages (from google-api-core<2dev,>=1.21.0->google-api-python-client>=1.2->pydrive) (2.23.0)\n",
            "Requirement already satisfied: pyasn1-modules>=0.2.1 in /usr/local/lib/python3.7/dist-packages (from google-auth>=1.16.0->google-api-python-client>=1.2->pydrive) (0.2.8)\n",
            "Requirement already satisfied: rsa<5,>=3.1.4 in /usr/local/lib/python3.7/dist-packages (from google-auth>=1.16.0->google-api-python-client>=1.2->pydrive) (4.8)\n",
            "Requirement already satisfied: cachetools<5.0,>=2.0.0 in /usr/local/lib/python3.7/dist-packages (from google-auth>=1.16.0->google-api-python-client>=1.2->pydrive) (4.2.4)\n",
            "Requirement already satisfied: pyasn1>=0.1.7 in /usr/local/lib/python3.7/dist-packages (from oauth2client>=4.0.0->pydrive) (0.4.8)\n",
            "Requirement already satisfied: pyparsing!=3.0.5,>=2.0.2 in /usr/local/lib/python3.7/dist-packages (from packaging>=14.3->google-api-core<2dev,>=1.21.0->google-api-python-client>=1.2->pydrive) (3.0.6)\n",
            "Requirement already satisfied: urllib3!=1.25.0,!=1.25.1,<1.26,>=1.21.1 in /usr/local/lib/python3.7/dist-packages (from requests<3.0.0dev,>=2.18.0->google-api-core<2dev,>=1.21.0->google-api-python-client>=1.2->pydrive) (1.24.3)\n",
            "Requirement already satisfied: idna<3,>=2.5 in /usr/local/lib/python3.7/dist-packages (from requests<3.0.0dev,>=2.18.0->google-api-core<2dev,>=1.21.0->google-api-python-client>=1.2->pydrive) (2.10)\n",
            "Requirement already satisfied: chardet<4,>=3.0.2 in /usr/local/lib/python3.7/dist-packages (from requests<3.0.0dev,>=2.18.0->google-api-core<2dev,>=1.21.0->google-api-python-client>=1.2->pydrive) (3.0.4)\n",
            "Requirement already satisfied: certifi>=2017.4.17 in /usr/local/lib/python3.7/dist-packages (from requests<3.0.0dev,>=2.18.0->google-api-core<2dev,>=1.21.0->google-api-python-client>=1.2->pydrive) (2021.10.8)\n"
          ]
        }
      ],
      "source": [
        "!pip install pydrive                             # Package to use Google Drive API - not installed in Colab VM by default\n",
        "from pydrive.auth import GoogleAuth\n",
        "from pydrive.drive import GoogleDrive\n",
        "from google.colab import auth                    # Other necessary packages\n",
        "from oauth2client.client import GoogleCredentials\n",
        "auth.authenticate_user()                         # Follow prompt in the authorization process\n",
        "gauth = GoogleAuth()\n",
        "gauth.credentials = GoogleCredentials.get_application_default()\n"
      ]
    },
    {
      "cell_type": "markdown",
      "source": [
        "Import Item Module"
      ],
      "metadata": {
        "id": "DgeLFBO52hHB"
      }
    },
    {
      "cell_type": "code",
      "execution_count": 34,
      "metadata": {
        "id": "n_1ERRzdp5pb"
      },
      "outputs": [],
      "source": [
        "drive = GoogleDrive(gauth)\n",
        "# Replace id with your drive id\n",
        "your_module = drive.CreateFile({\"id\": \"1q3RudbM1dwzuiOCp3tvLQV2kn30zZgcH\"})\n",
        "# Save the .py module file to Colab VM\n",
        "your_module.GetContentFile(\"tmp.py\")  \n",
        "import json\n",
        "f = open('tmp.py')\n",
        "data = json.load(f)\n",
        "f.close()\n",
        "# Handling nested dictionaries\n",
        "from os import replace\n",
        "file = ''\n",
        "# Looping through the nested dictionaries\n",
        "for x in data['cells'][0]['source']:\n",
        "  file += x  \n",
        "# Overwrite content to py file\n",
        "import os\n",
        "with open(os.getcwd()+'/Item.py', \"w\") as myfile:\n",
        "    myfile.write(file)"
      ]
    },
    {
      "cell_type": "markdown",
      "source": [
        "Import Phone Module"
      ],
      "metadata": {
        "id": "Kh_T0v-J2j81"
      }
    },
    {
      "cell_type": "code",
      "source": [
        "drive = GoogleDrive(gauth)\n",
        "# Replace id with your drive id\n",
        "your_module = drive.CreateFile({\"id\": \"1EcSC08Zjk5NWThlO46HCReMNrb0MsLlr\"})\n",
        "# Save the .py module file to Colab VM\n",
        "your_module.GetContentFile(\"tmp.py\")  \n",
        "import json\n",
        "f = open('tmp.py')\n",
        "data = json.load(f)\n",
        "f.close()\n",
        "# Handling nested dictionaries\n",
        "from os import replace\n",
        "file = ''\n",
        "# Looping through the nested dictionaries\n",
        "for x in data['cells'][0]['source']:\n",
        "  file += x  \n",
        "# Overwrite content to py file\n",
        "import os\n",
        "with open(os.getcwd()+'/Phone.py', \"w\") as myfile:\n",
        "    myfile.write(file)"
      ],
      "metadata": {
        "id": "aguMgzL91atj"
      },
      "execution_count": 35,
      "outputs": []
    },
    {
      "cell_type": "code",
      "execution_count": 36,
      "metadata": {
        "id": "xrOfvsj_uDkF"
      },
      "outputs": [],
      "source": [
        "from Phone import Phone\n",
        "from Item import Item"
      ]
    },
    {
      "cell_type": "code",
      "execution_count": 37,
      "metadata": {
        "id": "6MS2HZX0xqS8",
        "colab": {
          "base_uri": "https://localhost:8080/"
        },
        "outputId": "8de77868-1ddb-48e9-d8ee-929a44eb0552"
      },
      "outputs": [
        {
          "output_type": "stream",
          "name": "stdout",
          "text": [
            "Instance from Product A\n"
          ]
        }
      ],
      "source": [
        "item1 = Item(\"Product A\", 500)"
      ]
    },
    {
      "cell_type": "code",
      "execution_count": 38,
      "metadata": {
        "id": "8F8-E4Ikx2J2",
        "colab": {
          "base_uri": "https://localhost:8080/"
        },
        "outputId": "50ac5f09-3761-4649-d697-9216bc6ad350"
      },
      "outputs": [
        {
          "output_type": "stream",
          "name": "stdout",
          "text": [
            "OtherItem\n"
          ]
        }
      ],
      "source": [
        "item1.name = 'OtherItem'\n",
        "print(item1.name)"
      ]
    }
  ],
  "metadata": {
    "colab": {
      "collapsed_sections": [],
      "name": "OOP.ipynb",
      "provenance": [],
      "authorship_tag": "ABX9TyNkNk0YCPTz/oIEE2bdr1Sx",
      "include_colab_link": true
    },
    "kernelspec": {
      "display_name": "Python 3",
      "name": "python3"
    },
    "language_info": {
      "name": "python"
    }
  },
  "nbformat": 4,
  "nbformat_minor": 0
}