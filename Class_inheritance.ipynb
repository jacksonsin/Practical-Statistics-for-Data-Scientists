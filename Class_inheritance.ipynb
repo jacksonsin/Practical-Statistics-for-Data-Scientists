{
  "nbformat": 4,
  "nbformat_minor": 0,
  "metadata": {
    "colab": {
      "name": "Class inheritance.ipynb",
      "provenance": [],
      "authorship_tag": "ABX9TyM0l2HPON5KJ/gr/G41ZZBf",
      "include_colab_link": true
    },
    "language_info": {
      "name": "python"
    },
    "kernelspec": {
      "name": "python3",
      "display_name": "Python 3"
    },
    "gpuClass": "standard"
  },
  "cells": [
    {
      "cell_type": "markdown",
      "metadata": {
        "id": "view-in-github",
        "colab_type": "text"
      },
      "source": [
        "<a href=\"https://colab.research.google.com/github/jacksonsin/data_science_with_python/blob/main/Class_inheritance.ipynb\" target=\"_parent\"><img src=\"https://colab.research.google.com/assets/colab-badge.svg\" alt=\"Open In Colab\"/></a>"
      ]
    },
    {
      "cell_type": "code",
      "execution_count": 1,
      "metadata": {
        "id": "RijMZPZlbFDF"
      },
      "outputs": [],
      "source": [
        "class Parent():\n",
        "  def __init__(self, firstname, lastname):\n",
        "    self.firstname = firstname\n",
        "    self.lastname = lastname\n",
        "  def printname(self):\n",
        "    print(self.firstname, self.lastname)\n",
        "class Child(Parent):\n",
        "  def __init__(self, firstname, lastname, age):\n",
        "    super().__init__(firstname, lastname)\n",
        "    self.age = age\n",
        "  def __repr__(self):\n",
        "    return f\"{self.firstname} {self.lastname} is {self.age} years old\""
      ]
    },
    {
      "cell_type": "code",
      "source": [
        "x = Child('tom','cat',23)\n",
        "x.printname() # A method from parent class object"
      ],
      "metadata": {
        "colab": {
          "base_uri": "https://localhost:8080/"
        },
        "id": "ko_Y6qnDduCy",
        "outputId": "cc47270d-4efc-4914-fb99-16ded074552a"
      },
      "execution_count": 2,
      "outputs": [
        {
          "output_type": "stream",
          "name": "stdout",
          "text": [
            "tom cat\n"
          ]
        }
      ]
    },
    {
      "cell_type": "code",
      "source": [
        "x = Child('tom','cat',23)\n",
        "print(f\"{x!r}\")"
      ],
      "metadata": {
        "colab": {
          "base_uri": "https://localhost:8080/"
        },
        "id": "QHDiGFf7bL-b",
        "outputId": "f254e3d2-f0b9-4e3f-e1da-d90e72f8c064"
      },
      "execution_count": 3,
      "outputs": [
        {
          "output_type": "stream",
          "name": "stdout",
          "text": [
            "tom cat is 23 years old\n"
          ]
        }
      ]
    }
  ]
}