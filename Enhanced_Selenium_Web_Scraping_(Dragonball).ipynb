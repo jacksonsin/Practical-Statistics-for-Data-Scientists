{
  "nbformat": 4,
  "nbformat_minor": 0,
  "metadata": {
    "colab": {
      "provenance": [],
      "collapsed_sections": [],
      "authorship_tag": "ABX9TyMTWhGZPgVM4NaHC9H/dymv",
      "include_colab_link": true
    },
    "kernelspec": {
      "name": "python3",
      "display_name": "Python 3"
    },
    "language_info": {
      "name": "python"
    }
  },
  "cells": [
    {
      "cell_type": "markdown",
      "metadata": {
        "id": "view-in-github",
        "colab_type": "text"
      },
      "source": [
        "<a href=\"https://colab.research.google.com/github/jacksonsin/data_science_with_python/blob/main/Enhanced_Selenium_Web_Scraping_(Dragonball).ipynb\" target=\"_parent\"><img src=\"https://colab.research.google.com/assets/colab-badge.svg\" alt=\"Open In Colab\"/></a>"
      ]
    },
    {
      "cell_type": "code",
      "source": [
        "!pip install selenium\n",
        "!apt-get update # to update ubuntu to correctly run apt install\n",
        "!apt install chromium-chromedriver\n",
        "!cp /usr/lib/chromium-browser/chromedriver /usr/bin"
      ],
      "metadata": {
        "colab": {
          "base_uri": "https://localhost:8080/"
        },
        "id": "Reg4Odem-AkE",
        "outputId": "e01ea905-d6c8-4ea8-c12c-c5253cb556f2"
      },
      "execution_count": 1,
      "outputs": [
        {
          "output_type": "stream",
          "name": "stdout",
          "text": [
            "Looking in indexes: https://pypi.org/simple, https://us-python.pkg.dev/colab-wheels/public/simple/\n",
            "Requirement already satisfied: selenium in /usr/local/lib/python3.7/dist-packages (4.4.3)\n",
            "Requirement already satisfied: urllib3[socks]~=1.26 in /usr/local/lib/python3.7/dist-packages (from selenium) (1.26.12)\n",
            "Requirement already satisfied: trio-websocket~=0.9 in /usr/local/lib/python3.7/dist-packages (from selenium) (0.9.2)\n",
            "Requirement already satisfied: trio~=0.17 in /usr/local/lib/python3.7/dist-packages (from selenium) (0.21.0)\n",
            "Requirement already satisfied: certifi>=2021.10.8 in /usr/local/lib/python3.7/dist-packages (from selenium) (2022.6.15)\n",
            "Requirement already satisfied: idna in /usr/local/lib/python3.7/dist-packages (from trio~=0.17->selenium) (2.10)\n",
            "Requirement already satisfied: async-generator>=1.9 in /usr/local/lib/python3.7/dist-packages (from trio~=0.17->selenium) (1.10)\n",
            "Requirement already satisfied: sniffio in /usr/local/lib/python3.7/dist-packages (from trio~=0.17->selenium) (1.3.0)\n",
            "Requirement already satisfied: attrs>=19.2.0 in /usr/local/lib/python3.7/dist-packages (from trio~=0.17->selenium) (22.1.0)\n",
            "Requirement already satisfied: sortedcontainers in /usr/local/lib/python3.7/dist-packages (from trio~=0.17->selenium) (2.4.0)\n",
            "Requirement already satisfied: outcome in /usr/local/lib/python3.7/dist-packages (from trio~=0.17->selenium) (1.2.0)\n",
            "Requirement already satisfied: wsproto>=0.14 in /usr/local/lib/python3.7/dist-packages (from trio-websocket~=0.9->selenium) (1.2.0)\n",
            "Requirement already satisfied: PySocks!=1.5.7,<2.0,>=1.5.6 in /usr/local/lib/python3.7/dist-packages (from urllib3[socks]~=1.26->selenium) (1.7.1)\n",
            "Requirement already satisfied: h11<1,>=0.9.0 in /usr/local/lib/python3.7/dist-packages (from wsproto>=0.14->trio-websocket~=0.9->selenium) (0.13.0)\n",
            "Requirement already satisfied: typing-extensions in /usr/local/lib/python3.7/dist-packages (from h11<1,>=0.9.0->wsproto>=0.14->trio-websocket~=0.9->selenium) (4.1.1)\n",
            "Hit:1 http://security.ubuntu.com/ubuntu bionic-security InRelease\n",
            "Hit:2 http://archive.ubuntu.com/ubuntu bionic InRelease\n",
            "Hit:3 http://archive.ubuntu.com/ubuntu bionic-updates InRelease\n",
            "Hit:4 https://cloud.r-project.org/bin/linux/ubuntu bionic-cran40/ InRelease\n",
            "Hit:5 http://archive.ubuntu.com/ubuntu bionic-backports InRelease\n",
            "Ign:6 https://developer.download.nvidia.com/compute/machine-learning/repos/ubuntu1804/x86_64  InRelease\n",
            "Hit:7 https://developer.download.nvidia.com/compute/cuda/repos/ubuntu1804/x86_64  InRelease\n",
            "Hit:8 https://developer.download.nvidia.com/compute/machine-learning/repos/ubuntu1804/x86_64  Release\n",
            "Hit:9 http://ppa.launchpad.net/c2d4u.team/c2d4u4.0+/ubuntu bionic InRelease\n",
            "Hit:10 http://ppa.launchpad.net/cran/libgit2/ubuntu bionic InRelease\n",
            "Hit:11 http://ppa.launchpad.net/deadsnakes/ppa/ubuntu bionic InRelease\n",
            "Hit:12 http://ppa.launchpad.net/graphics-drivers/ppa/ubuntu bionic InRelease\n",
            "Reading package lists... Done\n",
            "Reading package lists... Done\n",
            "Building dependency tree       \n",
            "Reading state information... Done\n",
            "chromium-chromedriver is already the newest version (105.0.5195.102-0ubuntu0.18.04.1).\n",
            "The following package was automatically installed and is no longer required:\n",
            "  libnvidia-common-460\n",
            "Use 'apt autoremove' to remove it.\n",
            "0 upgraded, 0 newly installed, 0 to remove and 41 not upgraded.\n",
            "cp: '/usr/lib/chromium-browser/chromedriver' and '/usr/bin/chromedriver' are the same file\n"
          ]
        }
      ]
    },
    {
      "cell_type": "code",
      "source": [
        "import sys\n",
        "sys.path.insert(0,'/usr/lib/chromium-browser/chromedriver')\n",
        "from selenium import webdriver\n",
        "from bs4 import BeautifulSoup\n",
        "from selenium.webdriver.common.by import By"
      ],
      "metadata": {
        "id": "egeQmyAp-IOS"
      },
      "execution_count": 2,
      "outputs": []
    },
    {
      "cell_type": "code",
      "source": [
        "def driversetup():\n",
        "    options = webdriver.ChromeOptions()\n",
        "    #run Selenium in headless mode\n",
        "    options.add_argument('--headless')\n",
        "    options.add_argument('--no-sandbox')\n",
        "    #overcome limited resource problems\n",
        "    options.add_argument('--disable-dev-shm-usage')\n",
        "    options.add_argument(\"lang=en\")\n",
        "    #open Browser in maximized mode\n",
        "    options.add_argument(\"start-maximized\")\n",
        "    #disable infobars\n",
        "    options.add_argument(\"disable-infobars\")\n",
        "    #disable extension\n",
        "    options.add_argument(\"--disable-extensions\")\n",
        "    options.add_argument(\"--incognito\")\n",
        "    options.add_argument(\"--disable-blink-features=AutomationControlled\")\n",
        "    driver = webdriver.Chrome(options=options)\n",
        "    driver.execute_script(\"Object.defineProperty(navigator, 'webdriver', {get: () => undefined});\")\n",
        "    return driver"
      ],
      "metadata": {
        "id": "wbU_fSLGv8ZN"
      },
      "execution_count": 3,
      "outputs": []
    },
    {
      "cell_type": "code",
      "source": [
        "def pagesource(url, driver):\n",
        "  driver = driver\n",
        "  driver.get(url)\n",
        "  soup = BeautifulSoup(driver.page_source, 'html.parser')\n",
        "  driver.close()\n",
        "  return soup"
      ],
      "metadata": {
        "id": "xIcVSVJGk0-D"
      },
      "execution_count": 4,
      "outputs": []
    },
    {
      "cell_type": "code",
      "source": [
        "driver = driversetup()\n",
        "url = 'https://en.wikipedia.org/wiki/List_of_Dragon_Ball_characters'\n",
        "source = pagesource(url, driver)"
      ],
      "metadata": {
        "id": "FERUfZ4fk9Pp"
      },
      "execution_count": 5,
      "outputs": []
    },
    {
      "cell_type": "code",
      "source": [
        "english = source.find_all('span', {'class' : 'mw-headline'})\n",
        "list1 = []\n",
        "exclude = ['Background', 'Overview', 'Concept and design', 'Main characters', 'Secondary characters', 'Merchandise', 'Cultural impact', 'Fandom', 'Critical reception', 'References', 'Dragon Ball manga', 'Entire series', 'Individual volumes', 'Other sources', 'Antagonists', 'Supporting characters', 'Other characters']\n",
        "for i, e in enumerate(english):\n",
        "  if e.get_text() in exclude:\n",
        "    pass\n",
        "  else:\n",
        "    list1.append(e.get_text())\n",
        "len(list1)"
      ],
      "metadata": {
        "colab": {
          "base_uri": "https://localhost:8080/"
        },
        "id": "ueFkUd_rCDr0",
        "outputId": "ffdb8f97-29ab-4f55-c191-0a9f4dd080f3"
      },
      "execution_count": 6,
      "outputs": [
        {
          "output_type": "execute_result",
          "data": {
            "text/plain": [
              "78"
            ]
          },
          "metadata": {},
          "execution_count": 6
        }
      ]
    },
    {
      "cell_type": "code",
      "source": [
        "japanese = source.find_all('span', {'lang' : 'ja'})\n",
        "list2 = []\n",
        "j_exclude = ['ドラゴンチーム', 'Z戦士', '地球', 'かめはめ波', 'マーロン', 'ブラ', 'ゴテンクス', 'ギネ', '武天老師', 'ウミガメ', '武泰斗', '鶴仙人', 'ジャッキー・チュン', '狼牙風風拳', '繰気弾', 'モナカ', '天使', 'ウイスキー', 'ピラフ一味', '17 ピラフ一味', 'シュウ', 'マイ', 'ソバ', 'レッド総帥', 'ドクター・ゲロ', '魔封波', 'ピアノ', 'タンバリン', 'シンバル', 'ドラム', '全王様', '全ちゃん', 'デッド ゾーン', '魔凶星', 'アクアミスト', 'ニッキー', 'サンショ', 'ジンジャー', '魔族四天王', 'ガッシュ', 'ビネガー', 'タード', 'ゾルド', 'コルド大王', 'ソルベ', 'タゴマ', '力の大会', 'ザーボン', 'グルド', 'リクーム', 'バータ', 'ジース', 'ギニュー隊長', '栽培マン', 'ビッグゲテスター', '魔人ブウ 純粋', 'ウーブ', 'メタルクウラ', 'セルゲーム', '伝説の超サイヤ人', '魔導師', 'ビビディ', 'プイプイ', 'ヤコン', 'ヤムー', 'スポポビッチ', 'パラガス', 'ザマス', 'ポタラ', '人間ゼロ計画', 'フライパン山', 'カプセルコーポレーション', 'ホイ ポイ カプセル', '西の都', '仙猫', 'カリン塔', '筋斗雲', '如意棒', '仙豆', '最長老', 'ムーリ', '神様', 'シェン', 'ネイル', 'ベエ', 'ミスター・ブウ', '銀河王', 'タイツ', 'ペンギン村', 'ドラキュラマン', 'スケさん', 'ミイラくん', 'アックマン', 'ゴジータ', 'ポタラの合体', '老界王神', '１５代前の東の界王神', '融合', 'アンニン大界王', '北の界王', '南の界王', '界王様', '蛇の道', 'バブルス', 'グレゴリー', '元気玉', '界王拳', 'ベジータ三世', 'サイヤ人', 'ツフル人', '惑星ベジータ', 'ポルンガ', '超神龍', 'ザラマ', '創造神', '大界王神', '東の界王神', 'キビト', 'シン', 'アンニン', '界王神界', 'ゼットソード', '老界王神', 'キビト神', '大界王', 'ベジータ王挑戦の宇宙', 'フワ', 'サダラ', 'ケール', 'ケフラ', '挑戦の宇宙', '百発百中のヒット', '伝説の殺し屋', '時とばし', 'カルヴァドス', '正義の宇宙', '灰色のジレン']\n",
        "\n",
        "for j in range(len(japanese)):\n",
        "  if japanese[j].get_text() == 'ビーデル':\n",
        "    list2.append(japanese[j].get_text())\n",
        "    list2.append(\"マーロン\")\n",
        "  elif japanese[j].get_text() == 'フュージョン':\n",
        "    list2.append(japanese[j].get_text())\n",
        "    list2.append(\"孫 悟飯 じいちゃん\")\n",
        "  elif japanese[j].get_text() == '界王神':\n",
        "    list2.append(japanese[j].get_text())\n",
        "    list2.append(\"第7宇宙\")\n",
        "    list2.append(\"第10宇宙\")\n",
        "  elif japanese[j].get_text() == '.mw-parser-output ruby>rt{font-feature-settings:\"ruby\"1;font-size:85%}.mw-parser-output ruby.large{font-size:250%}.mw-parser-output ruby.large>rt{font-size:50%}天津飯 (テンシンハン)':\n",
        "    list2.append(\"天津飯 (テンシンハン)\")\n",
        "  elif japanese[j].get_text() in j_exclude:\n",
        "    pass\n",
        "  else:\n",
        "    list2.append(japanese[j].get_text())\n",
        "len(list2)"
      ],
      "metadata": {
        "colab": {
          "base_uri": "https://localhost:8080/"
        },
        "id": "wOLebMt6Msrd",
        "outputId": "f09291ab-cbbb-42ce-e682-00a0758b1550"
      },
      "execution_count": 7,
      "outputs": [
        {
          "output_type": "execute_result",
          "data": {
            "text/plain": [
              "78"
            ]
          },
          "metadata": {},
          "execution_count": 7
        }
      ]
    },
    {
      "cell_type": "code",
      "source": [
        "# Scrap DB characters\n",
        "import pandas as pd\n",
        "db = pd.DataFrame(columns=[\"ENG Name\", \"JPN Name\"])\n",
        "db[\"ENG Name\"] = list1\n",
        "db[\"JPN Name\"] = list2\n",
        "db"
      ],
      "metadata": {
        "id": "rCndAQScDsxo",
        "colab": {
          "base_uri": "https://localhost:8080/",
          "height": 655
        },
        "outputId": "fd5ee341-03b4-46c6-f82d-6fcaa3fd2240"
      },
      "execution_count": 8,
      "outputs": [
        {
          "output_type": "execute_result",
          "data": {
            "text/plain": [
              "          ENG Name JPN Name\n",
              "0         Son Goku      孫悟空\n",
              "1            Bulma      ブルマ\n",
              "2          Krillin     クリリン\n",
              "3          Piccolo     ピッコロ\n",
              "4        Son Gohan      孫悟飯\n",
              "..             ...      ...\n",
              "73           Jiren      ジレン\n",
              "74           Toppo      トッポ\n",
              "75           Dyspo     ディスポ\n",
              "76           Zeno        全王\n",
              "77  Grand Minister      大神官\n",
              "\n",
              "[78 rows x 2 columns]"
            ],
            "text/html": [
              "\n",
              "  <div id=\"df-d2d8ff97-38a7-482b-9779-7fa63fd3ea5f\">\n",
              "    <div class=\"colab-df-container\">\n",
              "      <div>\n",
              "<style scoped>\n",
              "    .dataframe tbody tr th:only-of-type {\n",
              "        vertical-align: middle;\n",
              "    }\n",
              "\n",
              "    .dataframe tbody tr th {\n",
              "        vertical-align: top;\n",
              "    }\n",
              "\n",
              "    .dataframe thead th {\n",
              "        text-align: right;\n",
              "    }\n",
              "</style>\n",
              "<table border=\"1\" class=\"dataframe\">\n",
              "  <thead>\n",
              "    <tr style=\"text-align: right;\">\n",
              "      <th></th>\n",
              "      <th>ENG Name</th>\n",
              "      <th>JPN Name</th>\n",
              "    </tr>\n",
              "  </thead>\n",
              "  <tbody>\n",
              "    <tr>\n",
              "      <th>0</th>\n",
              "      <td>Son Goku</td>\n",
              "      <td>孫悟空</td>\n",
              "    </tr>\n",
              "    <tr>\n",
              "      <th>1</th>\n",
              "      <td>Bulma</td>\n",
              "      <td>ブルマ</td>\n",
              "    </tr>\n",
              "    <tr>\n",
              "      <th>2</th>\n",
              "      <td>Krillin</td>\n",
              "      <td>クリリン</td>\n",
              "    </tr>\n",
              "    <tr>\n",
              "      <th>3</th>\n",
              "      <td>Piccolo</td>\n",
              "      <td>ピッコロ</td>\n",
              "    </tr>\n",
              "    <tr>\n",
              "      <th>4</th>\n",
              "      <td>Son Gohan</td>\n",
              "      <td>孫悟飯</td>\n",
              "    </tr>\n",
              "    <tr>\n",
              "      <th>...</th>\n",
              "      <td>...</td>\n",
              "      <td>...</td>\n",
              "    </tr>\n",
              "    <tr>\n",
              "      <th>73</th>\n",
              "      <td>Jiren</td>\n",
              "      <td>ジレン</td>\n",
              "    </tr>\n",
              "    <tr>\n",
              "      <th>74</th>\n",
              "      <td>Toppo</td>\n",
              "      <td>トッポ</td>\n",
              "    </tr>\n",
              "    <tr>\n",
              "      <th>75</th>\n",
              "      <td>Dyspo</td>\n",
              "      <td>ディスポ</td>\n",
              "    </tr>\n",
              "    <tr>\n",
              "      <th>76</th>\n",
              "      <td>Zeno</td>\n",
              "      <td>全王</td>\n",
              "    </tr>\n",
              "    <tr>\n",
              "      <th>77</th>\n",
              "      <td>Grand Minister</td>\n",
              "      <td>大神官</td>\n",
              "    </tr>\n",
              "  </tbody>\n",
              "</table>\n",
              "<p>78 rows × 2 columns</p>\n",
              "</div>\n",
              "      <button class=\"colab-df-convert\" onclick=\"convertToInteractive('df-d2d8ff97-38a7-482b-9779-7fa63fd3ea5f')\"\n",
              "              title=\"Convert this dataframe to an interactive table.\"\n",
              "              style=\"display:none;\">\n",
              "        \n",
              "  <svg xmlns=\"http://www.w3.org/2000/svg\" height=\"24px\"viewBox=\"0 0 24 24\"\n",
              "       width=\"24px\">\n",
              "    <path d=\"M0 0h24v24H0V0z\" fill=\"none\"/>\n",
              "    <path d=\"M18.56 5.44l.94 2.06.94-2.06 2.06-.94-2.06-.94-.94-2.06-.94 2.06-2.06.94zm-11 1L8.5 8.5l.94-2.06 2.06-.94-2.06-.94L8.5 2.5l-.94 2.06-2.06.94zm10 10l.94 2.06.94-2.06 2.06-.94-2.06-.94-.94-2.06-.94 2.06-2.06.94z\"/><path d=\"M17.41 7.96l-1.37-1.37c-.4-.4-.92-.59-1.43-.59-.52 0-1.04.2-1.43.59L10.3 9.45l-7.72 7.72c-.78.78-.78 2.05 0 2.83L4 21.41c.39.39.9.59 1.41.59.51 0 1.02-.2 1.41-.59l7.78-7.78 2.81-2.81c.8-.78.8-2.07 0-2.86zM5.41 20L4 18.59l7.72-7.72 1.47 1.35L5.41 20z\"/>\n",
              "  </svg>\n",
              "      </button>\n",
              "      \n",
              "  <style>\n",
              "    .colab-df-container {\n",
              "      display:flex;\n",
              "      flex-wrap:wrap;\n",
              "      gap: 12px;\n",
              "    }\n",
              "\n",
              "    .colab-df-convert {\n",
              "      background-color: #E8F0FE;\n",
              "      border: none;\n",
              "      border-radius: 50%;\n",
              "      cursor: pointer;\n",
              "      display: none;\n",
              "      fill: #1967D2;\n",
              "      height: 32px;\n",
              "      padding: 0 0 0 0;\n",
              "      width: 32px;\n",
              "    }\n",
              "\n",
              "    .colab-df-convert:hover {\n",
              "      background-color: #E2EBFA;\n",
              "      box-shadow: 0px 1px 2px rgba(60, 64, 67, 0.3), 0px 1px 3px 1px rgba(60, 64, 67, 0.15);\n",
              "      fill: #174EA6;\n",
              "    }\n",
              "\n",
              "    [theme=dark] .colab-df-convert {\n",
              "      background-color: #3B4455;\n",
              "      fill: #D2E3FC;\n",
              "    }\n",
              "\n",
              "    [theme=dark] .colab-df-convert:hover {\n",
              "      background-color: #434B5C;\n",
              "      box-shadow: 0px 1px 3px 1px rgba(0, 0, 0, 0.15);\n",
              "      filter: drop-shadow(0px 1px 2px rgba(0, 0, 0, 0.3));\n",
              "      fill: #FFFFFF;\n",
              "    }\n",
              "  </style>\n",
              "\n",
              "      <script>\n",
              "        const buttonEl =\n",
              "          document.querySelector('#df-d2d8ff97-38a7-482b-9779-7fa63fd3ea5f button.colab-df-convert');\n",
              "        buttonEl.style.display =\n",
              "          google.colab.kernel.accessAllowed ? 'block' : 'none';\n",
              "\n",
              "        async function convertToInteractive(key) {\n",
              "          const element = document.querySelector('#df-d2d8ff97-38a7-482b-9779-7fa63fd3ea5f');\n",
              "          const dataTable =\n",
              "            await google.colab.kernel.invokeFunction('convertToInteractive',\n",
              "                                                     [key], {});\n",
              "          if (!dataTable) return;\n",
              "\n",
              "          const docLinkHtml = 'Like what you see? Visit the ' +\n",
              "            '<a target=\"_blank\" href=https://colab.research.google.com/notebooks/data_table.ipynb>data table notebook</a>'\n",
              "            + ' to learn more about interactive tables.';\n",
              "          element.innerHTML = '';\n",
              "          dataTable['output_type'] = 'display_data';\n",
              "          await google.colab.output.renderOutput(dataTable, element);\n",
              "          const docLink = document.createElement('div');\n",
              "          docLink.innerHTML = docLinkHtml;\n",
              "          element.appendChild(docLink);\n",
              "        }\n",
              "      </script>\n",
              "    </div>\n",
              "  </div>\n",
              "  "
            ]
          },
          "metadata": {},
          "execution_count": 8
        }
      ]
    }
  ]
}