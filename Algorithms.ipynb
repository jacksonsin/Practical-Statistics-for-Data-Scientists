{
  "nbformat": 4,
  "nbformat_minor": 0,
  "metadata": {
    "colab": {
      "provenance": [],
      "authorship_tag": "ABX9TyPZqXXxZqw1GaHnTomsB3WO",
      "include_colab_link": true
    },
    "language_info": {
      "name": "python"
    },
    "kernelspec": {
      "name": "python3",
      "display_name": "Python 3"
    },
    "gpuClass": "standard"
  },
  "cells": [
    {
      "cell_type": "markdown",
      "metadata": {
        "id": "view-in-github",
        "colab_type": "text"
      },
      "source": [
        "<a href=\"https://colab.research.google.com/github/jacksonsin/data_science_with_python/blob/main/Algorithms.ipynb\" target=\"_parent\"><img src=\"https://colab.research.google.com/assets/colab-badge.svg\" alt=\"Open In Colab\"/></a>"
      ]
    },
    {
      "cell_type": "code",
      "execution_count": 1,
      "metadata": {
        "colab": {
          "base_uri": "https://localhost:8080/"
        },
        "id": "3Ps1ad9_tZea",
        "outputId": "68f5e6d7-c996-44a4-ec22-67132dcf8349"
      },
      "outputs": [
        {
          "output_type": "stream",
          "name": "stdout",
          "text": [
            "r0 c0 c1 c2 c3 c4 c5 c6 c7 c8 c9 \n",
            "r1 c0 c1 c2 c3 c4 c5 c6 c7 c8 c9 \n",
            "r2 c0 c1 c2 c3 c4 c5 c6 c7 c8 c9 \n",
            "r3 c0 c1 c2 c3 c4 c5 c6 c7 c8 c9 \n",
            "r4 c0 c1 c2 c3 c4 c5 c6 c7 c8 c9 \n",
            "r5 c0 c1 c2 c3 c4 c5 c6 c7 c8 c9 \n",
            "r6 c0 c1 c2 c3 c4 c5 c6 c7 c8 c9 \n",
            "r7 c0 c1 c2 c3 c4 c5 c6 c7 c8 c9 \n",
            "r8 c0 c1 c2 c3 c4 c5 c6 c7 c8 c9 \n",
            "r9 c0 c1 c2 c3 c4 c5 c6 c7 c8 c9 \n"
          ]
        }
      ],
      "source": [
        "for x in range(10):\n",
        "  print(f\"r{x}\", end=' ')\n",
        "  for y in range(10):\n",
        "    print(f\"c{y}\",end=' ')\n",
        "  print(\"\")"
      ]
    },
    {
      "cell_type": "code",
      "source": [
        "import time\n",
        "start_time = time.time()\n",
        "# Nested Loop\n",
        "for x in range(10):\n",
        "  for y in range(x+1):\n",
        "    print(f\"#\",end='')\n",
        "  print(\"\")\n",
        "\n",
        "print(\"{} seconds \".format(time.time() - start_time))"
      ],
      "metadata": {
        "colab": {
          "base_uri": "https://localhost:8080/"
        },
        "id": "ulVmmpmVwAqI",
        "outputId": "4b25ddea-092b-4710-f3b5-fcaac95f45dd"
      },
      "execution_count": 106,
      "outputs": [
        {
          "output_type": "stream",
          "name": "stdout",
          "text": [
            "#\n",
            "##\n",
            "###\n",
            "####\n",
            "#####\n",
            "######\n",
            "#######\n",
            "########\n",
            "#########\n",
            "##########\n",
            "0.008435726165771484 seconds \n"
          ]
        }
      ]
    },
    {
      "cell_type": "code",
      "source": [
        "start_time = time.time()\n",
        "# Recursion\n",
        "def recursion(num, char):\n",
        "    if num > 0:\n",
        "        recursion(num-1, char)\n",
        "        print(char*num)\n",
        "\n",
        "recursion(10, '#')\n",
        "print(\"{} seconds \".format(time.time() - start_time))"
      ],
      "metadata": {
        "colab": {
          "base_uri": "https://localhost:8080/"
        },
        "id": "8tnaEFe2wY__",
        "outputId": "f5be4da7-9624-4142-93f5-8c7ae45c2cfd"
      },
      "execution_count": 7,
      "outputs": [
        {
          "output_type": "stream",
          "name": "stdout",
          "text": [
            "#\n",
            "##\n",
            "###\n",
            "####\n",
            "#####\n",
            "######\n",
            "#######\n",
            "########\n",
            "#########\n",
            "##########\n",
            "0.0005152225494384766 seconds \n"
          ]
        }
      ]
    },
    {
      "cell_type": "code",
      "source": [
        "'''\n",
        "Collatz conjecture\n",
        "Definition: The Collatz conjecture stipulates that the 3n+1 algorithm will always reach the number 1.\n",
        "'''\n",
        "def collatz(n):\n",
        "  # base case\n",
        "  if n == 1:\n",
        "    return 1\n",
        "  # edge cases\n",
        "  elif n < 1:\n",
        "    return None\n",
        "  # even numbers\n",
        "  elif (n % 2) == 0:\n",
        "    return 1 + collatz(n / 2)\n",
        "  # odd numbers\n",
        "  elif (n % 2) != 0:\n",
        "    return 1 + collatz(3 * n + 1)\n",
        "\n",
        "number = int(input(\"Number = \"))\n",
        "print(f\"Total steps to reach 1 = {collatz(number)}\")"
      ],
      "metadata": {
        "colab": {
          "base_uri": "https://localhost:8080/"
        },
        "id": "HNUAzSG7_PVY",
        "outputId": "7539a6a5-c536-4e21-f34f-15fcfb0fa118"
      },
      "execution_count": 105,
      "outputs": [
        {
          "output_type": "stream",
          "name": "stdout",
          "text": [
            "Number = 33\n",
            "Total steps to reach 1 = 27\n"
          ]
        }
      ]
    },
    {
      "cell_type": "code",
      "source": [
        "import ctypes\n",
        "value = \"password\" # Secret passphase\n",
        "\n",
        "# locate the memory address\n",
        "address = id(value)\n",
        "print(f\"memory address: {address}\")\n",
        "\n",
        "# get the value through memory address\n",
        "In_memory_value = ctypes.cast(address, ctypes.py_object).value\n",
        "print(In_memory_value)"
      ],
      "metadata": {
        "colab": {
          "base_uri": "https://localhost:8080/"
        },
        "id": "so7CKyz4ZkIG",
        "outputId": "fdadf82f-72f6-40c2-dfe4-35d6ac043174"
      },
      "execution_count": 8,
      "outputs": [
        {
          "output_type": "stream",
          "name": "stdout",
          "text": [
            "memory address: 140500455587376\n",
            "password\n"
          ]
        }
      ]
    }
  ]
}