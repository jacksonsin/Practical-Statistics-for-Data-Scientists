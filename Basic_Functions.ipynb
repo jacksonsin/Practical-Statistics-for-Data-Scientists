{
  "nbformat": 4,
  "nbformat_minor": 0,
  "metadata": {
    "colab": {
      "name": "Basic Functions.ipynb",
      "provenance": [],
      "collapsed_sections": [],
      "authorship_tag": "ABX9TyPyTz/GR3dbjUsZnjPtjCQm",
      "include_colab_link": true
    },
    "kernelspec": {
      "name": "python3",
      "display_name": "Python 3"
    },
    "language_info": {
      "name": "python"
    }
  },
  "cells": [
    {
      "cell_type": "markdown",
      "metadata": {
        "id": "view-in-github",
        "colab_type": "text"
      },
      "source": [
        "<a href=\"https://colab.research.google.com/github/jacksonsin/Practical-Statistics-for-Data-Scientists/blob/main/Basic_Functions.ipynb\" target=\"_parent\"><img src=\"https://colab.research.google.com/assets/colab-badge.svg\" alt=\"Open In Colab\"/></a>"
      ]
    },
    {
      "cell_type": "markdown",
      "source": [
        "**Arithmetic with Python Functions**"
      ],
      "metadata": {
        "id": "uZ91oCnlRNyY"
      }
    },
    {
      "cell_type": "code",
      "source": [
        "def say_hello(name=\"User\"):\n",
        "  print(f\"Hello {name}\")"
      ],
      "metadata": {
        "id": "bJlRdd7jD_0D"
      },
      "execution_count": 1,
      "outputs": []
    },
    {
      "cell_type": "code",
      "source": [
        "say_hello(\"John\")"
      ],
      "metadata": {
        "colab": {
          "base_uri": "https://localhost:8080/"
        },
        "id": "kRHXRWJeEHju",
        "outputId": "f65a7d56-6713-440c-ac13-37af9c92eb63"
      },
      "execution_count": 2,
      "outputs": [
        {
          "output_type": "stream",
          "name": "stdout",
          "text": [
            "Hello John\n"
          ]
        }
      ]
    },
    {
      "cell_type": "code",
      "source": [
        "say_hello()"
      ],
      "metadata": {
        "colab": {
          "base_uri": "https://localhost:8080/"
        },
        "id": "vrGJVkvUE48M",
        "outputId": "d5c3b65c-7f8c-4921-b9b9-59d41d7b7fff"
      },
      "execution_count": 3,
      "outputs": [
        {
          "output_type": "stream",
          "name": "stdout",
          "text": [
            "Hello User\n"
          ]
        }
      ]
    },
    {
      "cell_type": "markdown",
      "source": [
        "Print() will not return any result, you will not be able to assign the result to any variable"
      ],
      "metadata": {
        "id": "vKfQU94mFwcI"
      }
    },
    {
      "cell_type": "code",
      "source": [
        "def add_func(num1,num2):\n",
        "  print(num1+num2)"
      ],
      "metadata": {
        "id": "oiJmbEmDFfZ0"
      },
      "execution_count": 4,
      "outputs": []
    },
    {
      "cell_type": "code",
      "source": [
        "result = add_func(1,2)\n",
        "result"
      ],
      "metadata": {
        "colab": {
          "base_uri": "https://localhost:8080/"
        },
        "id": "sBDyXzxSDLBa",
        "outputId": "635730e9-50ab-4b7b-a012-4c22a4cc8a47"
      },
      "execution_count": 5,
      "outputs": [
        {
          "output_type": "stream",
          "name": "stdout",
          "text": [
            "3\n"
          ]
        }
      ]
    },
    {
      "cell_type": "markdown",
      "source": [
        "Return() allows you to assign the result to any variable"
      ],
      "metadata": {
        "id": "d82mR-svFz6t"
      }
    },
    {
      "cell_type": "code",
      "execution_count": 6,
      "metadata": {
        "id": "g3PF2HpCp7u5"
      },
      "outputs": [],
      "source": [
        "def add_func(num1,num2):\n",
        "  return(num1+num2)"
      ]
    },
    {
      "cell_type": "code",
      "source": [
        "result = add_func(1,2)\n",
        "result"
      ],
      "metadata": {
        "colab": {
          "base_uri": "https://localhost:8080/"
        },
        "id": "FTBnFpQjFja8",
        "outputId": "447a31ec-17c0-4cfd-ebb7-9e1304c9b5fe"
      },
      "execution_count": 7,
      "outputs": [
        {
          "output_type": "execute_result",
          "data": {
            "text/plain": [
              "3"
            ]
          },
          "metadata": {},
          "execution_count": 7
        }
      ]
    },
    {
      "cell_type": "markdown",
      "source": [
        "Print and Return result"
      ],
      "metadata": {
        "id": "gv4lBwZAGibb"
      }
    },
    {
      "cell_type": "code",
      "source": [
        "def add_func(num1,num2):\n",
        "  print(num1+num2)\n",
        "  return(num1+num2)"
      ],
      "metadata": {
        "id": "xWWU99OSGaMw"
      },
      "execution_count": 8,
      "outputs": []
    },
    {
      "cell_type": "code",
      "source": [
        "result = add_func(1,2)"
      ],
      "metadata": {
        "colab": {
          "base_uri": "https://localhost:8080/"
        },
        "id": "7l4oMRYBGd_Q",
        "outputId": "c31eff22-f262-49ec-9bcc-b7bb78fff74e"
      },
      "execution_count": 9,
      "outputs": [
        {
          "output_type": "stream",
          "name": "stdout",
          "text": [
            "3\n"
          ]
        }
      ]
    },
    {
      "cell_type": "markdown",
      "source": [
        "**Logic with Python Functions**"
      ],
      "metadata": {
        "id": "JrCplHUURJDa"
      }
    },
    {
      "cell_type": "code",
      "source": [
        "def even_check(number):\n",
        "  return number % 2 == 0"
      ],
      "metadata": {
        "id": "fogDNK2nOLr9"
      },
      "execution_count": 10,
      "outputs": []
    },
    {
      "cell_type": "code",
      "source": [
        "even_check(40)"
      ],
      "metadata": {
        "colab": {
          "base_uri": "https://localhost:8080/"
        },
        "id": "F4JIKvtFOWE5",
        "outputId": "425364b5-40ac-45d8-fd71-bdac82d8d9d8"
      },
      "execution_count": 11,
      "outputs": [
        {
          "output_type": "execute_result",
          "data": {
            "text/plain": [
              "True"
            ]
          },
          "metadata": {},
          "execution_count": 11
        }
      ]
    },
    {
      "cell_type": "code",
      "source": [
        "even_check(41)"
      ],
      "metadata": {
        "colab": {
          "base_uri": "https://localhost:8080/"
        },
        "id": "5N6HwsMMPFCX",
        "outputId": "3fcebb1e-c845-4074-b217-6086dbaa8b05"
      },
      "execution_count": 12,
      "outputs": [
        {
          "output_type": "execute_result",
          "data": {
            "text/plain": [
              "False"
            ]
          },
          "metadata": {},
          "execution_count": 12
        }
      ]
    },
    {
      "cell_type": "code",
      "source": [
        "def check_even_list(num_list):\n",
        "  for num in num_list:\n",
        "    if num % 2 == 0:\n",
        "      return True\n",
        "    else:\n",
        "      pass"
      ],
      "metadata": {
        "id": "GmW4a9dHPGpr"
      },
      "execution_count": 13,
      "outputs": []
    },
    {
      "cell_type": "code",
      "source": [
        "check_even_list([1,3,5])"
      ],
      "metadata": {
        "id": "CgB1pm5UPS67"
      },
      "execution_count": 14,
      "outputs": []
    },
    {
      "cell_type": "code",
      "source": [
        "check_even_list([2,4,6])"
      ],
      "metadata": {
        "colab": {
          "base_uri": "https://localhost:8080/"
        },
        "id": "5qo4i2IYPe4T",
        "outputId": "6fdd8ff2-2c89-4096-c773-037e77990c23"
      },
      "execution_count": 15,
      "outputs": [
        {
          "output_type": "execute_result",
          "data": {
            "text/plain": [
              "True"
            ]
          },
          "metadata": {},
          "execution_count": 15
        }
      ]
    },
    {
      "cell_type": "code",
      "source": [
        "check_even_list([1,1,2])"
      ],
      "metadata": {
        "colab": {
          "base_uri": "https://localhost:8080/"
        },
        "id": "ew5t5J3OPmA6",
        "outputId": "f6829fda-bf40-4b76-9693-13e8719ee568"
      },
      "execution_count": 16,
      "outputs": [
        {
          "output_type": "execute_result",
          "data": {
            "text/plain": [
              "True"
            ]
          },
          "metadata": {},
          "execution_count": 16
        }
      ]
    },
    {
      "cell_type": "code",
      "source": [
        "check_even_list([2,1,1])"
      ],
      "metadata": {
        "colab": {
          "base_uri": "https://localhost:8080/"
        },
        "id": "43SteNOgPvSR",
        "outputId": "27e37779-a55e-49a8-eee3-d7614d45804e"
      },
      "execution_count": 17,
      "outputs": [
        {
          "output_type": "execute_result",
          "data": {
            "text/plain": [
              "True"
            ]
          },
          "metadata": {},
          "execution_count": 17
        }
      ]
    },
    {
      "cell_type": "markdown",
      "source": [
        "Return all the even numbers in the list"
      ],
      "metadata": {
        "id": "IK9r1CRwRcxp"
      }
    },
    {
      "cell_type": "code",
      "source": [
        "def check_even_list(num_list):\n",
        "  # return all the even numbers in the list\n",
        "  # placeholder variable\n",
        "  even_numbers = []\n",
        "\n",
        "  for num in num_list:\n",
        "    if num % 2 == 0:\n",
        "      even_numbers.append(num)\n",
        "    else:\n",
        "      pass\n",
        "  return even_numbers"
      ],
      "metadata": {
        "id": "jhR3033ZPyPn"
      },
      "execution_count": 18,
      "outputs": []
    },
    {
      "cell_type": "code",
      "source": [
        "check_even_list([1,1,2])"
      ],
      "metadata": {
        "colab": {
          "base_uri": "https://localhost:8080/"
        },
        "id": "7zOUwi_eQ0K0",
        "outputId": "d817d464-0e7c-4428-ac77-cafbf0fc6a64"
      },
      "execution_count": 19,
      "outputs": [
        {
          "output_type": "execute_result",
          "data": {
            "text/plain": [
              "[2]"
            ]
          },
          "metadata": {},
          "execution_count": 19
        }
      ]
    },
    {
      "cell_type": "markdown",
      "source": [
        "**Tuples with Python Functions**"
      ],
      "metadata": {
        "id": "vtTmD46lRvv4"
      }
    },
    {
      "cell_type": "markdown",
      "source": [
        "Example 1: Stock Prices"
      ],
      "metadata": {
        "id": "sKr7RbppUQJu"
      }
    },
    {
      "cell_type": "code",
      "source": [
        "stock_prices = [('APPL',169),('GOOG',2848),('MSFT',319)]"
      ],
      "metadata": {
        "id": "CtRDOYSESDH1"
      },
      "execution_count": 20,
      "outputs": []
    },
    {
      "cell_type": "code",
      "source": [
        "for ticker,price in stock_prices:\n",
        "  print(ticker)"
      ],
      "metadata": {
        "colab": {
          "base_uri": "https://localhost:8080/"
        },
        "id": "h2tKR1z-SREH",
        "outputId": "95ac8858-15b9-4e82-9080-ec02b11d1cfd"
      },
      "execution_count": 21,
      "outputs": [
        {
          "output_type": "stream",
          "name": "stdout",
          "text": [
            "APPL\n",
            "GOOG\n",
            "MSFT\n"
          ]
        }
      ]
    },
    {
      "cell_type": "code",
      "source": [
        "for ticker,price in stock_prices:\n",
        "  print(price)"
      ],
      "metadata": {
        "colab": {
          "base_uri": "https://localhost:8080/"
        },
        "id": "vzlMFJYuytPj",
        "outputId": "68556d16-5d01-4eec-ddd1-7be87ef63757"
      },
      "execution_count": 22,
      "outputs": [
        {
          "output_type": "stream",
          "name": "stdout",
          "text": [
            "169\n",
            "2848\n",
            "319\n"
          ]
        }
      ]
    },
    {
      "cell_type": "code",
      "source": [
        "for ticker,price in stock_prices:\n",
        "  print(round(price+(1.37*price),2))"
      ],
      "metadata": {
        "colab": {
          "base_uri": "https://localhost:8080/"
        },
        "id": "I4EqF4wuSgL1",
        "outputId": "0c51e1f9-f3a6-43ea-a521-c76ab7428826"
      },
      "execution_count": 23,
      "outputs": [
        {
          "output_type": "stream",
          "name": "stdout",
          "text": [
            "400.53\n",
            "6749.76\n",
            "756.03\n"
          ]
        }
      ]
    },
    {
      "cell_type": "markdown",
      "source": [
        "Example 2: Best Employee"
      ],
      "metadata": {
        "id": "ZDpWS41rUT0Q"
      }
    },
    {
      "cell_type": "code",
      "source": [
        "working_hours = [('Abby',100),('Billy',400),('Cassie',800)]"
      ],
      "metadata": {
        "id": "kJf12eS4T-LA"
      },
      "execution_count": 24,
      "outputs": []
    },
    {
      "cell_type": "code",
      "source": [
        "def employee_check(working_hours):\n",
        "  current_max = 0\n",
        "  employee_of_the_month = ''\n",
        "\n",
        "  for employee, hours in working_hours:\n",
        "    if hours > current_max:\n",
        "      current_max = hours\n",
        "      employee_of_the_month = employee\n",
        "    else:\n",
        "      pass \n",
        "\n",
        "  return (employee_of_the_month,current_max)"
      ],
      "metadata": {
        "id": "vJ2lK3clUX-8"
      },
      "execution_count": 25,
      "outputs": []
    },
    {
      "cell_type": "code",
      "source": [
        "employee_check(working_hours)"
      ],
      "metadata": {
        "colab": {
          "base_uri": "https://localhost:8080/"
        },
        "id": "9hZGKQVuVOon",
        "outputId": "85474565-041c-4bf0-cfbb-3124766d19d3"
      },
      "execution_count": 26,
      "outputs": [
        {
          "output_type": "execute_result",
          "data": {
            "text/plain": [
              "('Cassie', 800)"
            ]
          },
          "metadata": {},
          "execution_count": 26
        }
      ]
    },
    {
      "cell_type": "code",
      "source": [
        "name, hours = employee_check(working_hours)"
      ],
      "metadata": {
        "id": "pGd1q-alVYNg"
      },
      "execution_count": 27,
      "outputs": []
    },
    {
      "cell_type": "code",
      "source": [
        "print(f'The employee of the month goes to {name}, she has clocked {hours} hours on this month')"
      ],
      "metadata": {
        "colab": {
          "base_uri": "https://localhost:8080/"
        },
        "id": "UBF3lGLNV0NE",
        "outputId": "58f6c8d9-5710-4d89-f2c8-8044d4938fdd"
      },
      "execution_count": 28,
      "outputs": [
        {
          "output_type": "stream",
          "name": "stdout",
          "text": [
            "The employee of the month goes to Cassie, she has clocked 800 hours on this month\n"
          ]
        }
      ]
    },
    {
      "cell_type": "markdown",
      "source": [
        "**Interactions between Python Functions**"
      ],
      "metadata": {
        "id": "vmuibeA8WnwW"
      }
    },
    {
      "cell_type": "markdown",
      "source": [
        "Example: Shuffle list"
      ],
      "metadata": {
        "id": "Hdai_lwNjqXQ"
      }
    },
    {
      "cell_type": "code",
      "source": [
        "my_list = [1,2,3,4,5,6]"
      ],
      "metadata": {
        "id": "gxVS5hknWuf3"
      },
      "execution_count": 29,
      "outputs": []
    },
    {
      "cell_type": "code",
      "source": [
        "from random import shuffle"
      ],
      "metadata": {
        "id": "KMOg7KgMiYWD"
      },
      "execution_count": 30,
      "outputs": []
    },
    {
      "cell_type": "code",
      "source": [
        "def shuffle_list(example):\n",
        "  shuffle(example)\n",
        "  return example"
      ],
      "metadata": {
        "id": "xXxtUGkeiaUI"
      },
      "execution_count": 31,
      "outputs": []
    },
    {
      "cell_type": "code",
      "source": [
        "result = shuffle_list(my_list)\n",
        "result"
      ],
      "metadata": {
        "colab": {
          "base_uri": "https://localhost:8080/"
        },
        "id": "-GrZxEVNilJP",
        "outputId": "e6fd5dba-779c-4811-a6a3-0cf9192b6b81"
      },
      "execution_count": 32,
      "outputs": [
        {
          "output_type": "execute_result",
          "data": {
            "text/plain": [
              "[2, 5, 1, 6, 4, 3]"
            ]
          },
          "metadata": {},
          "execution_count": 32
        }
      ]
    },
    {
      "cell_type": "markdown",
      "source": [
        "Example: Player guess"
      ],
      "metadata": {
        "id": "7fg_4r8pjnkg"
      }
    },
    {
      "cell_type": "code",
      "source": [
        "def guess_player():\n",
        "  guess = ''\n",
        "  # elements in the list must be strings\n",
        "  while guess not in ['1','2','3']:\n",
        "    # input always return as string\n",
        "    guess = input(\"Pick a number between 1,2,3\")\n",
        "  return int(guess)"
      ],
      "metadata": {
        "id": "7FQxbY_FjtNL"
      },
      "execution_count": 33,
      "outputs": []
    },
    {
      "cell_type": "code",
      "source": [
        "guess_player()"
      ],
      "metadata": {
        "colab": {
          "base_uri": "https://localhost:8080/"
        },
        "id": "L4tVVSOkkErW",
        "outputId": "abd084a2-5c41-4aa0-9f8d-6e2b3ac33c21"
      },
      "execution_count": 34,
      "outputs": [
        {
          "name": "stdout",
          "output_type": "stream",
          "text": [
            "Pick a number between 1,2,31\n"
          ]
        },
        {
          "output_type": "execute_result",
          "data": {
            "text/plain": [
              "1"
            ]
          },
          "metadata": {},
          "execution_count": 34
        }
      ]
    },
    {
      "cell_type": "code",
      "source": [
        "def check_guess(my_list,guess):\n",
        "  if my_list[guess] == 'O':\n",
        "    print(\"correct\")\n",
        "  else:\n",
        "    print(\"Wrong guess\")\n",
        "    print(my_list)\n"
      ],
      "metadata": {
        "id": "g2V2iVb4vUyk"
      },
      "execution_count": 35,
      "outputs": []
    },
    {
      "cell_type": "code",
      "source": [
        "# Initial List\n",
        "my_list = ['','O','']\n",
        "# Shuffle List\n",
        "mixed_list = shuffle_list(my_list)\n",
        "# User \n",
        "guess = guess_player()\n",
        "# Check Guess\n",
        "check_guess(mixed_list,guess)"
      ],
      "metadata": {
        "colab": {
          "base_uri": "https://localhost:8080/"
        },
        "id": "iDIlFLbov3Je",
        "outputId": "6689fde6-2b67-405b-c556-62d8efca8fe7"
      },
      "execution_count": 36,
      "outputs": [
        {
          "output_type": "stream",
          "name": "stdout",
          "text": [
            "Pick a number between 1,2,31\n",
            "Wrong guess\n",
            "['O', '', '']\n"
          ]
        }
      ]
    }
  ]
}