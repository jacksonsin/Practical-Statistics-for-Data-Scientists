{
  "nbformat": 4,
  "nbformat_minor": 0,
  "metadata": {
    "colab": {
      "name": "Basic Functions.ipynb",
      "provenance": [],
      "collapsed_sections": [],
      "authorship_tag": "ABX9TyMo3AuhwECXaWuwOrZkD4m5",
      "include_colab_link": true
    },
    "kernelspec": {
      "name": "python3",
      "display_name": "Python 3"
    },
    "language_info": {
      "name": "python"
    }
  },
  "cells": [
    {
      "cell_type": "markdown",
      "metadata": {
        "id": "view-in-github",
        "colab_type": "text"
      },
      "source": [
        "<a href=\"https://colab.research.google.com/github/jacksonsin/Practical-Statistics-for-Data-Scientists/blob/main/Basic_Functions.ipynb\" target=\"_parent\"><img src=\"https://colab.research.google.com/assets/colab-badge.svg\" alt=\"Open In Colab\"/></a>"
      ]
    },
    {
      "cell_type": "markdown",
      "source": [
        "**Arithmetic with Python Functions**"
      ],
      "metadata": {
        "id": "uZ91oCnlRNyY"
      }
    },
    {
      "cell_type": "code",
      "source": [
        "def say_hello(name=\"User\"):\n",
        "  print(f\"Hello {name}\")"
      ],
      "metadata": {
        "id": "bJlRdd7jD_0D"
      },
      "execution_count": 1,
      "outputs": []
    },
    {
      "cell_type": "code",
      "source": [
        "say_hello(\"John\")"
      ],
      "metadata": {
        "colab": {
          "base_uri": "https://localhost:8080/"
        },
        "id": "kRHXRWJeEHju",
        "outputId": "8882f7c3-2d34-4ba6-bde9-cf78688117d5"
      },
      "execution_count": 2,
      "outputs": [
        {
          "output_type": "stream",
          "name": "stdout",
          "text": [
            "Hello John\n"
          ]
        }
      ]
    },
    {
      "cell_type": "code",
      "source": [
        "say_hello()"
      ],
      "metadata": {
        "colab": {
          "base_uri": "https://localhost:8080/"
        },
        "id": "vrGJVkvUE48M",
        "outputId": "b9811c2b-6d15-49ab-bd93-9607d7116f74"
      },
      "execution_count": 3,
      "outputs": [
        {
          "output_type": "stream",
          "name": "stdout",
          "text": [
            "Hello User\n"
          ]
        }
      ]
    },
    {
      "cell_type": "markdown",
      "source": [
        "Print() will not return any result, you will not be able to assign the result to any variable"
      ],
      "metadata": {
        "id": "vKfQU94mFwcI"
      }
    },
    {
      "cell_type": "code",
      "source": [
        "def add_func(num1,num2):\n",
        "  print(num1+num2)"
      ],
      "metadata": {
        "id": "oiJmbEmDFfZ0"
      },
      "execution_count": 4,
      "outputs": []
    },
    {
      "cell_type": "code",
      "source": [
        "result = add_func(1,2)\n",
        "result"
      ],
      "metadata": {
        "colab": {
          "base_uri": "https://localhost:8080/"
        },
        "id": "sBDyXzxSDLBa",
        "outputId": "2c1f72cc-0a13-424a-f6b1-634776de9a8f"
      },
      "execution_count": 5,
      "outputs": [
        {
          "output_type": "stream",
          "name": "stdout",
          "text": [
            "3\n"
          ]
        }
      ]
    },
    {
      "cell_type": "markdown",
      "source": [
        "Return() allows you to assign the result to any variable"
      ],
      "metadata": {
        "id": "d82mR-svFz6t"
      }
    },
    {
      "cell_type": "code",
      "execution_count": 6,
      "metadata": {
        "id": "g3PF2HpCp7u5"
      },
      "outputs": [],
      "source": [
        "def add_func(num1,num2):\n",
        "  return(num1+num2)"
      ]
    },
    {
      "cell_type": "code",
      "source": [
        "result = add_func(1,2)\n",
        "result"
      ],
      "metadata": {
        "colab": {
          "base_uri": "https://localhost:8080/"
        },
        "id": "FTBnFpQjFja8",
        "outputId": "ada555b6-478f-4bd3-a6fe-36ea27089e5c"
      },
      "execution_count": 7,
      "outputs": [
        {
          "output_type": "execute_result",
          "data": {
            "text/plain": [
              "3"
            ]
          },
          "metadata": {},
          "execution_count": 7
        }
      ]
    },
    {
      "cell_type": "markdown",
      "source": [
        "Print and Return result"
      ],
      "metadata": {
        "id": "gv4lBwZAGibb"
      }
    },
    {
      "cell_type": "code",
      "source": [
        "def add_func(num1,num2):\n",
        "  print(num1+num2)\n",
        "  return(num1+num2)"
      ],
      "metadata": {
        "id": "xWWU99OSGaMw"
      },
      "execution_count": 8,
      "outputs": []
    },
    {
      "cell_type": "code",
      "source": [
        "result = add_func(1,2)"
      ],
      "metadata": {
        "colab": {
          "base_uri": "https://localhost:8080/"
        },
        "id": "7l4oMRYBGd_Q",
        "outputId": "ba9fda2c-6210-46e4-cd82-665093e2b049"
      },
      "execution_count": 9,
      "outputs": [
        {
          "output_type": "stream",
          "name": "stdout",
          "text": [
            "3\n"
          ]
        }
      ]
    },
    {
      "cell_type": "markdown",
      "source": [
        "**Logic with Python Functions**"
      ],
      "metadata": {
        "id": "JrCplHUURJDa"
      }
    },
    {
      "cell_type": "code",
      "source": [
        "def even_check(number):\n",
        "  return number % 2 == 0"
      ],
      "metadata": {
        "id": "fogDNK2nOLr9"
      },
      "execution_count": 10,
      "outputs": []
    },
    {
      "cell_type": "code",
      "source": [
        "even_check(40)"
      ],
      "metadata": {
        "colab": {
          "base_uri": "https://localhost:8080/"
        },
        "id": "F4JIKvtFOWE5",
        "outputId": "44242443-0089-4b57-c979-8f295d887a66"
      },
      "execution_count": 11,
      "outputs": [
        {
          "output_type": "execute_result",
          "data": {
            "text/plain": [
              "True"
            ]
          },
          "metadata": {},
          "execution_count": 11
        }
      ]
    },
    {
      "cell_type": "code",
      "source": [
        "even_check(41)"
      ],
      "metadata": {
        "colab": {
          "base_uri": "https://localhost:8080/"
        },
        "id": "5N6HwsMMPFCX",
        "outputId": "0667d198-8a9e-4502-f354-ce91cc1c0a44"
      },
      "execution_count": 12,
      "outputs": [
        {
          "output_type": "execute_result",
          "data": {
            "text/plain": [
              "False"
            ]
          },
          "metadata": {},
          "execution_count": 12
        }
      ]
    },
    {
      "cell_type": "code",
      "source": [
        "def check_even_list(num_list):\n",
        "  for num in num_list:\n",
        "    if num % 2 == 0:\n",
        "      return True\n",
        "    else:\n",
        "      pass"
      ],
      "metadata": {
        "id": "GmW4a9dHPGpr"
      },
      "execution_count": 13,
      "outputs": []
    },
    {
      "cell_type": "code",
      "source": [
        "check_even_list([1,3,5])"
      ],
      "metadata": {
        "id": "CgB1pm5UPS67"
      },
      "execution_count": 14,
      "outputs": []
    },
    {
      "cell_type": "code",
      "source": [
        "check_even_list([2,4,6])"
      ],
      "metadata": {
        "colab": {
          "base_uri": "https://localhost:8080/"
        },
        "id": "5qo4i2IYPe4T",
        "outputId": "e1f80a2f-6bea-4f5c-91f9-db1967725061"
      },
      "execution_count": 15,
      "outputs": [
        {
          "output_type": "execute_result",
          "data": {
            "text/plain": [
              "True"
            ]
          },
          "metadata": {},
          "execution_count": 15
        }
      ]
    },
    {
      "cell_type": "code",
      "source": [
        "check_even_list([1,1,2])"
      ],
      "metadata": {
        "colab": {
          "base_uri": "https://localhost:8080/"
        },
        "id": "ew5t5J3OPmA6",
        "outputId": "5a95ea95-0274-4923-f8ec-944ac74c89bb"
      },
      "execution_count": 16,
      "outputs": [
        {
          "output_type": "execute_result",
          "data": {
            "text/plain": [
              "True"
            ]
          },
          "metadata": {},
          "execution_count": 16
        }
      ]
    },
    {
      "cell_type": "code",
      "source": [
        "check_even_list([2,1,1])"
      ],
      "metadata": {
        "colab": {
          "base_uri": "https://localhost:8080/"
        },
        "id": "43SteNOgPvSR",
        "outputId": "cd3ba86b-8366-4c2d-bfbb-fbb2b9f2f1c8"
      },
      "execution_count": 17,
      "outputs": [
        {
          "output_type": "execute_result",
          "data": {
            "text/plain": [
              "True"
            ]
          },
          "metadata": {},
          "execution_count": 17
        }
      ]
    },
    {
      "cell_type": "markdown",
      "source": [
        "Return all the even numbers in the list"
      ],
      "metadata": {
        "id": "IK9r1CRwRcxp"
      }
    },
    {
      "cell_type": "code",
      "source": [
        "def check_even_list(num_list):\n",
        "  # return all the even numbers in the list\n",
        "  # placeholder variable\n",
        "  even_numbers = []\n",
        "\n",
        "  for num in num_list:\n",
        "    if num % 2 == 0:\n",
        "      even_numbers.append(num)\n",
        "    else:\n",
        "      pass\n",
        "  return even_numbers"
      ],
      "metadata": {
        "id": "jhR3033ZPyPn"
      },
      "execution_count": 18,
      "outputs": []
    },
    {
      "cell_type": "code",
      "source": [
        "check_even_list([1,1,2])"
      ],
      "metadata": {
        "colab": {
          "base_uri": "https://localhost:8080/"
        },
        "id": "7zOUwi_eQ0K0",
        "outputId": "93add1e7-4f14-4bc1-aa58-f7969e75544d"
      },
      "execution_count": 19,
      "outputs": [
        {
          "output_type": "execute_result",
          "data": {
            "text/plain": [
              "[2]"
            ]
          },
          "metadata": {},
          "execution_count": 19
        }
      ]
    },
    {
      "cell_type": "markdown",
      "source": [
        "**Tuples with Python Functions**"
      ],
      "metadata": {
        "id": "vtTmD46lRvv4"
      }
    },
    {
      "cell_type": "markdown",
      "source": [
        "Example 1: Stock Prices"
      ],
      "metadata": {
        "id": "sKr7RbppUQJu"
      }
    },
    {
      "cell_type": "code",
      "source": [
        "stock_prices = [('APPL',169),('GOOG',2848),('MSFT',319)]"
      ],
      "metadata": {
        "id": "CtRDOYSESDH1"
      },
      "execution_count": 20,
      "outputs": []
    },
    {
      "cell_type": "code",
      "source": [
        "for ticker,price in stock_prices:\n",
        "  print(ticker)"
      ],
      "metadata": {
        "colab": {
          "base_uri": "https://localhost:8080/"
        },
        "id": "h2tKR1z-SREH",
        "outputId": "c3080c12-2699-4869-b854-7e95f12529c1"
      },
      "execution_count": 21,
      "outputs": [
        {
          "output_type": "stream",
          "name": "stdout",
          "text": [
            "APPL\n",
            "GOOG\n",
            "MSFT\n"
          ]
        }
      ]
    },
    {
      "cell_type": "code",
      "source": [
        "for ticker,price in stock_prices:\n",
        "  print(price)"
      ],
      "metadata": {
        "colab": {
          "base_uri": "https://localhost:8080/"
        },
        "id": "vzlMFJYuytPj",
        "outputId": "042e46b0-ba0c-410f-d6d3-83e521cb2180"
      },
      "execution_count": 22,
      "outputs": [
        {
          "output_type": "stream",
          "name": "stdout",
          "text": [
            "169\n",
            "2848\n",
            "319\n"
          ]
        }
      ]
    },
    {
      "cell_type": "code",
      "source": [
        "for ticker,price in stock_prices:\n",
        "  print(round(price+(1.37*price),2))"
      ],
      "metadata": {
        "colab": {
          "base_uri": "https://localhost:8080/"
        },
        "id": "I4EqF4wuSgL1",
        "outputId": "c984214a-fb63-42ba-a526-36d6fe746c78"
      },
      "execution_count": 23,
      "outputs": [
        {
          "output_type": "stream",
          "name": "stdout",
          "text": [
            "400.53\n",
            "6749.76\n",
            "756.03\n"
          ]
        }
      ]
    },
    {
      "cell_type": "markdown",
      "source": [
        "Example 2: Best Employee"
      ],
      "metadata": {
        "id": "ZDpWS41rUT0Q"
      }
    },
    {
      "cell_type": "code",
      "source": [
        "working_hours = [('Abby',100),('Billy',400),('Cassie',800)]"
      ],
      "metadata": {
        "id": "kJf12eS4T-LA"
      },
      "execution_count": 24,
      "outputs": []
    },
    {
      "cell_type": "code",
      "source": [
        "def employee_check(working_hours):\n",
        "  current_max = 0\n",
        "  employee_of_the_month = ''\n",
        "\n",
        "  for employee, hours in working_hours:\n",
        "    if hours > current_max:\n",
        "      current_max = hours\n",
        "      employee_of_the_month = employee\n",
        "    else:\n",
        "      pass \n",
        "\n",
        "  return (employee_of_the_month,current_max)"
      ],
      "metadata": {
        "id": "vJ2lK3clUX-8"
      },
      "execution_count": 25,
      "outputs": []
    },
    {
      "cell_type": "code",
      "source": [
        "employee_check(working_hours)"
      ],
      "metadata": {
        "colab": {
          "base_uri": "https://localhost:8080/"
        },
        "id": "9hZGKQVuVOon",
        "outputId": "f7c58948-c20e-45cc-821c-ba2502416a4c"
      },
      "execution_count": 26,
      "outputs": [
        {
          "output_type": "execute_result",
          "data": {
            "text/plain": [
              "('Cassie', 800)"
            ]
          },
          "metadata": {},
          "execution_count": 26
        }
      ]
    },
    {
      "cell_type": "code",
      "source": [
        "name, hours = employee_check(working_hours)"
      ],
      "metadata": {
        "id": "pGd1q-alVYNg"
      },
      "execution_count": 27,
      "outputs": []
    },
    {
      "cell_type": "code",
      "source": [
        "print(f'The employee of the month goes to {name}, she has clocked {hours} hours on this month')"
      ],
      "metadata": {
        "colab": {
          "base_uri": "https://localhost:8080/"
        },
        "id": "UBF3lGLNV0NE",
        "outputId": "64984a1a-061b-4a37-ce4d-da8ff4c76850"
      },
      "execution_count": 28,
      "outputs": [
        {
          "output_type": "stream",
          "name": "stdout",
          "text": [
            "The employee of the month goes to Cassie, she has clocked 800 hours on this month\n"
          ]
        }
      ]
    },
    {
      "cell_type": "markdown",
      "source": [
        "**Interactions between Python Functions**"
      ],
      "metadata": {
        "id": "vmuibeA8WnwW"
      }
    },
    {
      "cell_type": "markdown",
      "source": [
        "Example: Shuffle list"
      ],
      "metadata": {
        "id": "Hdai_lwNjqXQ"
      }
    },
    {
      "cell_type": "code",
      "source": [
        "my_list = [1,2,3,4,5,6]"
      ],
      "metadata": {
        "id": "gxVS5hknWuf3"
      },
      "execution_count": 29,
      "outputs": []
    },
    {
      "cell_type": "code",
      "source": [
        "from random import shuffle"
      ],
      "metadata": {
        "id": "KMOg7KgMiYWD"
      },
      "execution_count": 30,
      "outputs": []
    },
    {
      "cell_type": "code",
      "source": [
        "def shuffle_list(example):\n",
        "  shuffle(example)\n",
        "  return example"
      ],
      "metadata": {
        "id": "xXxtUGkeiaUI"
      },
      "execution_count": 31,
      "outputs": []
    },
    {
      "cell_type": "code",
      "source": [
        "result = shuffle_list(my_list)\n",
        "result"
      ],
      "metadata": {
        "colab": {
          "base_uri": "https://localhost:8080/"
        },
        "id": "-GrZxEVNilJP",
        "outputId": "5d8b1999-0c44-444e-e901-dc821a971651"
      },
      "execution_count": 32,
      "outputs": [
        {
          "output_type": "execute_result",
          "data": {
            "text/plain": [
              "[3, 1, 6, 4, 5, 2]"
            ]
          },
          "metadata": {},
          "execution_count": 32
        }
      ]
    },
    {
      "cell_type": "markdown",
      "source": [
        "Example: Player guess"
      ],
      "metadata": {
        "id": "7fg_4r8pjnkg"
      }
    },
    {
      "cell_type": "code",
      "source": [
        "def guess_player():\n",
        "  guess = ''\n",
        "  # elements in the list must be strings\n",
        "  while guess not in ['1','2','3']:\n",
        "    # input always return as string\n",
        "    guess = input(\"Pick a number between 1,2,3\")\n",
        "  return int(guess)"
      ],
      "metadata": {
        "id": "7FQxbY_FjtNL"
      },
      "execution_count": 33,
      "outputs": []
    },
    {
      "cell_type": "code",
      "source": [
        "guess_player()"
      ],
      "metadata": {
        "colab": {
          "base_uri": "https://localhost:8080/"
        },
        "id": "L4tVVSOkkErW",
        "outputId": "7737ab4b-ba80-4a94-b867-1df0fdb2ecfc"
      },
      "execution_count": 34,
      "outputs": [
        {
          "name": "stdout",
          "output_type": "stream",
          "text": [
            "Pick a number between 1,2,31\n"
          ]
        },
        {
          "output_type": "execute_result",
          "data": {
            "text/plain": [
              "1"
            ]
          },
          "metadata": {},
          "execution_count": 34
        }
      ]
    },
    {
      "cell_type": "code",
      "source": [
        "def check_guess(my_list,guess):\n",
        "  if my_list[guess] == 'O':\n",
        "    print(\"correct\")\n",
        "  else:\n",
        "    print(\"Wrong guess\")\n",
        "    print(my_list)\n"
      ],
      "metadata": {
        "id": "g2V2iVb4vUyk"
      },
      "execution_count": 35,
      "outputs": []
    },
    {
      "cell_type": "code",
      "source": [
        "# Initial List\n",
        "my_list = ['','O','']\n",
        "# Shuffle List\n",
        "mixed_list = shuffle_list(my_list)\n",
        "# User \n",
        "guess = guess_player()\n",
        "# Check Guess\n",
        "check_guess(mixed_list,guess)"
      ],
      "metadata": {
        "colab": {
          "base_uri": "https://localhost:8080/"
        },
        "id": "iDIlFLbov3Je",
        "outputId": "46698aae-7696-449a-80ca-4db318ff81fd"
      },
      "execution_count": 36,
      "outputs": [
        {
          "output_type": "stream",
          "name": "stdout",
          "text": [
            "Pick a number between 1,2,31\n",
            "Wrong guess\n",
            "['O', '', '']\n"
          ]
        }
      ]
    },
    {
      "cell_type": "code",
      "source": [
        "def myfunc(x):\n",
        "    out = []\n",
        "    for i in range(len(x)):\n",
        "        if i%2==0:\n",
        "            out.append(x[i].lower())\n",
        "        else:\n",
        "            out.append(x[i].upper())\n",
        "    return ''.join(out)"
      ],
      "metadata": {
        "id": "5UYUSkI0jxKk"
      },
      "execution_count": 37,
      "outputs": []
    },
    {
      "cell_type": "code",
      "source": [
        "myfunc('Tomorrow')"
      ],
      "metadata": {
        "colab": {
          "base_uri": "https://localhost:8080/",
          "height": 36
        },
        "id": "hOT8HmQqj2Eu",
        "outputId": "87d99d84-4c70-4dc6-c6e2-b267372fca57"
      },
      "execution_count": 38,
      "outputs": [
        {
          "output_type": "execute_result",
          "data": {
            "application/vnd.google.colaboratory.intrinsic+json": {
              "type": "string"
            },
            "text/plain": [
              "'tOmOrRoW'"
            ]
          },
          "metadata": {},
          "execution_count": 38
        }
      ]
    },
    {
      "cell_type": "code",
      "source": [
        "def myfunc(a,b,c,d=0):\n",
        "  # pass arguments as tuple\n",
        "  return sum((a,b,c,d))*0.05"
      ],
      "metadata": {
        "id": "eAx5xc4snY4h"
      },
      "execution_count": 39,
      "outputs": []
    },
    {
      "cell_type": "code",
      "source": [
        "# insert 3 arugments will not throw in an error since d is assigned as 0 by default\n",
        "myfunc(40,60,80)"
      ],
      "metadata": {
        "colab": {
          "base_uri": "https://localhost:8080/"
        },
        "id": "ROFtyK8Tnd-z",
        "outputId": "6601ad07-b197-48f7-8dae-206f063d301d"
      },
      "execution_count": 40,
      "outputs": [
        {
          "output_type": "execute_result",
          "data": {
            "text/plain": [
              "9.0"
            ]
          },
          "metadata": {},
          "execution_count": 40
        }
      ]
    },
    {
      "cell_type": "code",
      "source": [
        "# overwrite the value of d argument\n",
        "myfunc(40,60,80,10)"
      ],
      "metadata": {
        "colab": {
          "base_uri": "https://localhost:8080/"
        },
        "id": "H90MalXkoW5H",
        "outputId": "84aa8ec5-a092-4f92-a89b-afeb4476f13b"
      },
      "execution_count": 41,
      "outputs": [
        {
          "output_type": "execute_result",
          "data": {
            "text/plain": [
              "9.5"
            ]
          },
          "metadata": {},
          "execution_count": 41
        }
      ]
    },
    {
      "cell_type": "code",
      "source": [
        "# *args will take in all parameters as a tuple\n",
        "def myfunc(*args):\n",
        "  print(f\"This is a tuple of {args}\")\n",
        "  return sum(args) * 0.05"
      ],
      "metadata": {
        "id": "lXpv7mgUourg"
      },
      "execution_count": 42,
      "outputs": []
    },
    {
      "cell_type": "code",
      "source": [
        "myfunc(40,60,80,10)"
      ],
      "metadata": {
        "colab": {
          "base_uri": "https://localhost:8080/"
        },
        "id": "IT101b91pIux",
        "outputId": "25b163d4-8d45-495e-ce3e-a0dd191fe813"
      },
      "execution_count": 43,
      "outputs": [
        {
          "output_type": "stream",
          "name": "stdout",
          "text": [
            "This is a tuple of (40, 60, 80, 10)\n"
          ]
        },
        {
          "output_type": "execute_result",
          "data": {
            "text/plain": [
              "9.5"
            ]
          },
          "metadata": {},
          "execution_count": 43
        }
      ]
    },
    {
      "cell_type": "code",
      "source": [
        "def myfunc(*args):\n",
        "  for num in args:\n",
        "    print(num)"
      ],
      "metadata": {
        "id": "_rE0mLnEqSx9"
      },
      "execution_count": 44,
      "outputs": []
    },
    {
      "cell_type": "code",
      "source": [
        "myfunc(40,60,80,10)"
      ],
      "metadata": {
        "colab": {
          "base_uri": "https://localhost:8080/"
        },
        "id": "IubQ4FdAqYW7",
        "outputId": "f66b2484-9f91-4ef5-cb2b-c5b27e43a528"
      },
      "execution_count": 45,
      "outputs": [
        {
          "output_type": "stream",
          "name": "stdout",
          "text": [
            "40\n",
            "60\n",
            "80\n",
            "10\n"
          ]
        }
      ]
    },
    {
      "cell_type": "code",
      "source": [
        "def myfunc(**kwargs):\n",
        "  print(kwargs)\n",
        "  if 'B16172' in kwargs:\n",
        "    print(f\"This B.1.617.2 mutation is a {kwargs['B16172']} variant\")\n",
        "  elif 'B11529' in kwargs:\n",
        "    print(f\"This B.1.1.529 mutation is an {kwargs['B11529']} variant\")\n",
        "  else:\n",
        "    print(f'It is an unknown mutation')"
      ],
      "metadata": {
        "id": "Tyd6uzfzqki2"
      },
      "execution_count": 46,
      "outputs": []
    },
    {
      "cell_type": "code",
      "source": [
        "# pass in the dictionary\n",
        "myfunc(B16172='Delta',B11529='Omicron')"
      ],
      "metadata": {
        "colab": {
          "base_uri": "https://localhost:8080/"
        },
        "id": "hucEL91hrdI4",
        "outputId": "cdfe3283-4d6e-4e9e-ab7a-0472130a2b8b"
      },
      "execution_count": 47,
      "outputs": [
        {
          "output_type": "stream",
          "name": "stdout",
          "text": [
            "{'B16172': 'Delta', 'B11529': 'Omicron'}\n",
            "This B.1.617.2 mutation is a Delta variant\n"
          ]
        }
      ]
    },
    {
      "cell_type": "code",
      "source": [
        "# Test case 1: Assign B16172 to unknown\n",
        "myfunc(B11529='Unknown')"
      ],
      "metadata": {
        "colab": {
          "base_uri": "https://localhost:8080/"
        },
        "id": "n7Co3aRbwrOh",
        "outputId": "c2793b58-8e47-44af-ad59-00663fd9cc82"
      },
      "execution_count": 48,
      "outputs": [
        {
          "output_type": "stream",
          "name": "stdout",
          "text": [
            "{'B11529': 'Unknown'}\n",
            "This B.1.1.529 mutation is an Unknown variant\n"
          ]
        }
      ]
    },
    {
      "cell_type": "code",
      "source": [
        "# Test case 2: Assign an unknown mutation\n",
        "myfunc(B99999='Unknown')"
      ],
      "metadata": {
        "colab": {
          "base_uri": "https://localhost:8080/"
        },
        "id": "74kR7tuaxI8e",
        "outputId": "85aca416-a60a-47c1-a1fd-29e427bc6545"
      },
      "execution_count": 49,
      "outputs": [
        {
          "output_type": "stream",
          "name": "stdout",
          "text": [
            "{'B99999': 'Unknown'}\n",
            "It is an unknown mutation\n"
          ]
        }
      ]
    },
    {
      "cell_type": "markdown",
      "source": [
        "Complex example"
      ],
      "metadata": {
        "id": "y-udbm2cKhLt"
      }
    },
    {
      "cell_type": "code",
      "source": [
        "total_cases = 0\n",
        "input = 0"
      ],
      "metadata": {
        "id": "bPZG-kP4Cwm5"
      },
      "execution_count": 50,
      "outputs": []
    },
    {
      "cell_type": "code",
      "source": [
        "def myfunc(cases=total_cases, *args, **kwargs):\n",
        "  print(\"There are\",args[0],'/',cases,\"positive cases of\", kwargs['B2'])"
      ],
      "metadata": {
        "id": "Ow33kABl4-2S"
      },
      "execution_count": 51,
      "outputs": []
    },
    {
      "cell_type": "code",
      "source": [
        "def cases(*args):\n",
        "  return sum(args)"
      ],
      "metadata": {
        "id": "fR7ZC19m-Las"
      },
      "execution_count": 52,
      "outputs": []
    },
    {
      "cell_type": "code",
      "source": [
        "input += cases(total_cases,10)\n",
        "myfunc(input,10,20,30,B1='Variant A',B2='Variant B',B3='Unknown')\n",
        "input += cases(total_cases,20)\n",
        "myfunc(input,10,20,30,B1='Variant A',B2='Variant B',B3='Unknown')\n",
        "input += cases(total_cases,30)\n",
        "myfunc(input,10,20,30,B1='Variant A',B2='Variant B',B3='Unknown')\n",
        "input += cases(total_cases,40)\n",
        "myfunc(input,10,20,30,B1='Variant A',B2='Variant B',B3='Unknown')"
      ],
      "metadata": {
        "colab": {
          "base_uri": "https://localhost:8080/"
        },
        "id": "Ya0WLett5FpE",
        "outputId": "21b95b21-5a66-40f2-8e89-19eab5d5cd46"
      },
      "execution_count": 53,
      "outputs": [
        {
          "output_type": "stream",
          "name": "stdout",
          "text": [
            "There are 10 / 10 positive cases of Variant B\n",
            "There are 10 / 30 positive cases of Variant B\n",
            "There are 10 / 60 positive cases of Variant B\n",
            "There are 10 / 100 positive cases of Variant B\n"
          ]
        }
      ]
    }
  ]
}