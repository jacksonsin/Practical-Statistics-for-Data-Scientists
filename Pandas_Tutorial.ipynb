{
  "nbformat": 4,
  "nbformat_minor": 0,
  "metadata": {
    "colab": {
      "name": "Pandas_Tutorial.ipynb",
      "provenance": [],
      "authorship_tag": "ABX9TyPRvqzONfTX/hVxi25ctgbD",
      "include_colab_link": true
    },
    "language_info": {
      "name": "python"
    },
    "kernelspec": {
      "name": "python3",
      "display_name": "Python 3"
    },
    "gpuClass": "standard"
  },
  "cells": [
    {
      "cell_type": "markdown",
      "metadata": {
        "id": "view-in-github",
        "colab_type": "text"
      },
      "source": [
        "<a href=\"https://colab.research.google.com/github/jacksonsin/data_science_in_python/blob/main/Pandas_Tutorial.ipynb\" target=\"_parent\"><img src=\"https://colab.research.google.com/assets/colab-badge.svg\" alt=\"Open In Colab\"/></a>"
      ]
    },
    {
      "cell_type": "markdown",
      "source": [
        "#**Import Library**"
      ],
      "metadata": {
        "id": "ccjq-4kaBiea"
      }
    },
    {
      "cell_type": "code",
      "source": [
        "import pandas as pd"
      ],
      "metadata": {
        "id": "Rq6OTZokBk0D"
      },
      "execution_count": 1,
      "outputs": []
    },
    {
      "cell_type": "markdown",
      "source": [
        "Pandas Series"
      ],
      "metadata": {
        "id": "ye-h8IKMB2YZ"
      }
    },
    {
      "cell_type": "code",
      "source": [
        "g7_pop = pd.Series([35,63,80,60,127,64,318])\n",
        "g7_pop"
      ],
      "metadata": {
        "colab": {
          "base_uri": "https://localhost:8080/"
        },
        "id": "mx4cMFG-Bhv5",
        "outputId": "aec5cf3b-8b00-43b9-9627-1d65203dc1bb"
      },
      "execution_count": 2,
      "outputs": [
        {
          "output_type": "execute_result",
          "data": {
            "text/plain": [
              "0     35\n",
              "1     63\n",
              "2     80\n",
              "3     60\n",
              "4    127\n",
              "5     64\n",
              "6    318\n",
              "dtype: int64"
            ]
          },
          "metadata": {},
          "execution_count": 2
        }
      ]
    },
    {
      "cell_type": "code",
      "source": [
        "# Assign a name for this series\n",
        "g7_pop.name = \"G7 Population in millions\"\n",
        "g7_pop"
      ],
      "metadata": {
        "colab": {
          "base_uri": "https://localhost:8080/"
        },
        "id": "KBYJZHbaCIhH",
        "outputId": "aeaa54b0-5b20-4d4a-8a21-1bbc5a514c5c"
      },
      "execution_count": 3,
      "outputs": [
        {
          "output_type": "execute_result",
          "data": {
            "text/plain": [
              "0     35\n",
              "1     63\n",
              "2     80\n",
              "3     60\n",
              "4    127\n",
              "5     64\n",
              "6    318\n",
              "Name: G7 Population in millions, dtype: int64"
            ]
          },
          "metadata": {},
          "execution_count": 3
        }
      ]
    },
    {
      "cell_type": "code",
      "source": [
        "# Check datatype\n",
        "g7_pop.dtype"
      ],
      "metadata": {
        "colab": {
          "base_uri": "https://localhost:8080/"
        },
        "id": "yopu0Hy3CeOV",
        "outputId": "63f1a4de-9744-4071-ec55-d9c39c0196e7"
      },
      "execution_count": 4,
      "outputs": [
        {
          "output_type": "execute_result",
          "data": {
            "text/plain": [
              "dtype('int64')"
            ]
          },
          "metadata": {},
          "execution_count": 4
        }
      ]
    },
    {
      "cell_type": "code",
      "source": [
        "# Check values in the array\n",
        "g7_pop.values"
      ],
      "metadata": {
        "colab": {
          "base_uri": "https://localhost:8080/"
        },
        "id": "S6sq34AuCwGY",
        "outputId": "a06dce28-78ac-485b-d9a7-7dd494a5c265"
      },
      "execution_count": 5,
      "outputs": [
        {
          "output_type": "execute_result",
          "data": {
            "text/plain": [
              "array([ 35,  63,  80,  60, 127,  64, 318])"
            ]
          },
          "metadata": {},
          "execution_count": 5
        }
      ]
    },
    {
      "cell_type": "code",
      "source": [
        "# Check the type of object\n",
        "type(g7_pop.values)"
      ],
      "metadata": {
        "colab": {
          "base_uri": "https://localhost:8080/"
        },
        "id": "45LaqsHhC0Kp",
        "outputId": "85e1e5fa-3888-4b36-9f80-4eec2986942f"
      },
      "execution_count": 6,
      "outputs": [
        {
          "output_type": "execute_result",
          "data": {
            "text/plain": [
              "numpy.ndarray"
            ]
          },
          "metadata": {},
          "execution_count": 6
        }
      ]
    },
    {
      "cell_type": "code",
      "source": [
        "# Check the index of the series\n",
        "g7_pop.index"
      ],
      "metadata": {
        "colab": {
          "base_uri": "https://localhost:8080/"
        },
        "id": "nTL9LT_BDtEn",
        "outputId": "9a4fcc8d-449c-4066-b420-de0355f60025"
      },
      "execution_count": 7,
      "outputs": [
        {
          "output_type": "execute_result",
          "data": {
            "text/plain": [
              "RangeIndex(start=0, stop=7, step=1)"
            ]
          },
          "metadata": {},
          "execution_count": 7
        }
      ]
    },
    {
      "cell_type": "code",
      "source": [
        "# Assign Index/Label\n",
        "g7_pop.index = ['Canada','France','Germany','Italy','Japan','United Kingdom','United States']\n",
        "g7_pop"
      ],
      "metadata": {
        "colab": {
          "base_uri": "https://localhost:8080/"
        },
        "id": "rs4t0hJaDxk-",
        "outputId": "c7f8b03c-f0e7-4ef9-f414-7da37400b9b2"
      },
      "execution_count": 8,
      "outputs": [
        {
          "output_type": "execute_result",
          "data": {
            "text/plain": [
              "Canada             35\n",
              "France             63\n",
              "Germany            80\n",
              "Italy              60\n",
              "Japan             127\n",
              "United Kingdom     64\n",
              "United States     318\n",
              "Name: G7 Population in millions, dtype: int64"
            ]
          },
          "metadata": {},
          "execution_count": 8
        }
      ]
    },
    {
      "cell_type": "markdown",
      "source": [
        "#**Indexing**"
      ],
      "metadata": {
        "id": "193iaPI8E9z2"
      }
    },
    {
      "cell_type": "code",
      "source": [
        "# Return single element\n",
        "g7_pop['Canada']"
      ],
      "metadata": {
        "colab": {
          "base_uri": "https://localhost:8080/"
        },
        "id": "OG6jQYj_Ebrg",
        "outputId": "71a60991-97ac-4d7c-a2ea-7bec7616ad78"
      },
      "execution_count": 9,
      "outputs": [
        {
          "output_type": "execute_result",
          "data": {
            "text/plain": [
              "35"
            ]
          },
          "metadata": {},
          "execution_count": 9
        }
      ]
    },
    {
      "cell_type": "code",
      "source": [
        "# Return multi elements\n",
        "g7_pop[['Canada','France']]"
      ],
      "metadata": {
        "colab": {
          "base_uri": "https://localhost:8080/"
        },
        "id": "jRngPnsEPMd4",
        "outputId": "6d66f2b8-f051-4727-9249-b1552a662fdd"
      },
      "execution_count": 10,
      "outputs": [
        {
          "output_type": "execute_result",
          "data": {
            "text/plain": [
              "Canada    35\n",
              "France    63\n",
              "Name: G7 Population in millions, dtype: int64"
            ]
          },
          "metadata": {},
          "execution_count": 10
        }
      ]
    },
    {
      "cell_type": "code",
      "source": [
        "# Return first element of the series\n",
        "g7_pop.iloc[0]"
      ],
      "metadata": {
        "colab": {
          "base_uri": "https://localhost:8080/"
        },
        "id": "2f6n8zIRFF8F",
        "outputId": "dba57c9d-d66e-40a5-89fb-a95d7dd6b880"
      },
      "execution_count": 11,
      "outputs": [
        {
          "output_type": "execute_result",
          "data": {
            "text/plain": [
              "35"
            ]
          },
          "metadata": {},
          "execution_count": 11
        }
      ]
    },
    {
      "cell_type": "code",
      "source": [
        "# Return last element of the series\n",
        "g7_pop.iloc[-1]"
      ],
      "metadata": {
        "colab": {
          "base_uri": "https://localhost:8080/"
        },
        "id": "v5x-3oHrFQTK",
        "outputId": "28b2c43e-425a-427d-e011-0e4a46e6e787"
      },
      "execution_count": 12,
      "outputs": [
        {
          "output_type": "execute_result",
          "data": {
            "text/plain": [
              "318"
            ]
          },
          "metadata": {},
          "execution_count": 12
        }
      ]
    },
    {
      "cell_type": "code",
      "source": [
        "# Return first element of the series\n",
        "g7_pop.iloc[[0,1]]"
      ],
      "metadata": {
        "colab": {
          "base_uri": "https://localhost:8080/"
        },
        "id": "2liVjRWxPcc-",
        "outputId": "b3eb7a5a-643e-4964-f8f4-1ea4919f92c8"
      },
      "execution_count": 13,
      "outputs": [
        {
          "output_type": "execute_result",
          "data": {
            "text/plain": [
              "Canada    35\n",
              "France    63\n",
              "Name: G7 Population in millions, dtype: int64"
            ]
          },
          "metadata": {},
          "execution_count": 13
        }
      ]
    },
    {
      "cell_type": "code",
      "source": [
        "# Index selection, end index is inclusive\n",
        "g7_pop['Canada':'United Kingdom']"
      ],
      "metadata": {
        "colab": {
          "base_uri": "https://localhost:8080/"
        },
        "id": "cyNPFznGPuPG",
        "outputId": "b38e81ee-9625-42a8-b769-a517f06d2a8e"
      },
      "execution_count": 14,
      "outputs": [
        {
          "output_type": "execute_result",
          "data": {
            "text/plain": [
              "Canada             35\n",
              "France             63\n",
              "Germany            80\n",
              "Italy              60\n",
              "Japan             127\n",
              "United Kingdom     64\n",
              "Name: G7 Population in millions, dtype: int64"
            ]
          },
          "metadata": {},
          "execution_count": 14
        }
      ]
    },
    {
      "cell_type": "markdown",
      "source": [
        "#** Operations and methods**"
      ],
      "metadata": {
        "id": "9ib6n9NlQU63"
      }
    },
    {
      "cell_type": "code",
      "source": [
        "# Arithmetic \n",
        "g7_pop * 1000000"
      ],
      "metadata": {
        "colab": {
          "base_uri": "https://localhost:8080/"
        },
        "id": "I_CVzJtPQXWK",
        "outputId": "a7eb92b2-d67d-49b7-b2f2-20c8ad0ae9ff"
      },
      "execution_count": 15,
      "outputs": [
        {
          "output_type": "execute_result",
          "data": {
            "text/plain": [
              "Canada             35000000\n",
              "France             63000000\n",
              "Germany            80000000\n",
              "Italy              60000000\n",
              "Japan             127000000\n",
              "United Kingdom     64000000\n",
              "United States     318000000\n",
              "Name: G7 Population in millions, dtype: int64"
            ]
          },
          "metadata": {},
          "execution_count": 15
        }
      ]
    },
    {
      "cell_type": "markdown",
      "source": [
        "#** Statistical function**"
      ],
      "metadata": {
        "id": "sraUfs1bROkl"
      }
    },
    {
      "cell_type": "code",
      "source": [
        "# Return mean \n",
        "g7_pop.mean()"
      ],
      "metadata": {
        "colab": {
          "base_uri": "https://localhost:8080/"
        },
        "id": "K6nGp7JVQbka",
        "outputId": "673291bd-f713-4bbc-89d1-e98f46cfd27a"
      },
      "execution_count": 16,
      "outputs": [
        {
          "output_type": "execute_result",
          "data": {
            "text/plain": [
              "106.71428571428571"
            ]
          },
          "metadata": {},
          "execution_count": 16
        }
      ]
    },
    {
      "cell_type": "code",
      "source": [
        "# Return min \n",
        "g7_pop.min()"
      ],
      "metadata": {
        "colab": {
          "base_uri": "https://localhost:8080/"
        },
        "id": "P7d40uoRRZcp",
        "outputId": "1aa4a0c6-d656-4994-904f-70fdf7a2466d"
      },
      "execution_count": 17,
      "outputs": [
        {
          "output_type": "execute_result",
          "data": {
            "text/plain": [
              "35"
            ]
          },
          "metadata": {},
          "execution_count": 17
        }
      ]
    },
    {
      "cell_type": "code",
      "source": [
        "# Return max \n",
        "g7_pop.max()"
      ],
      "metadata": {
        "colab": {
          "base_uri": "https://localhost:8080/"
        },
        "id": "PlFW0C5URcHy",
        "outputId": "b4a8754e-99a0-44c3-90c6-788a1890840a"
      },
      "execution_count": 18,
      "outputs": [
        {
          "output_type": "execute_result",
          "data": {
            "text/plain": [
              "318"
            ]
          },
          "metadata": {},
          "execution_count": 18
        }
      ]
    },
    {
      "cell_type": "code",
      "source": [
        "# Return median \n",
        "g7_pop.median()"
      ],
      "metadata": {
        "colab": {
          "base_uri": "https://localhost:8080/"
        },
        "id": "_n04VjILRdpB",
        "outputId": "00238423-b9b4-43ad-d985-0f29b47ada9f"
      },
      "execution_count": 19,
      "outputs": [
        {
          "output_type": "execute_result",
          "data": {
            "text/plain": [
              "64.0"
            ]
          },
          "metadata": {},
          "execution_count": 19
        }
      ]
    },
    {
      "cell_type": "code",
      "source": [
        "# Return variance \n",
        "g7_pop.var()"
      ],
      "metadata": {
        "colab": {
          "base_uri": "https://localhost:8080/"
        },
        "id": "-6AgA-CORg5L",
        "outputId": "27181846-7ee8-4b8b-f4ae-8f9fe4ed38b5"
      },
      "execution_count": 20,
      "outputs": [
        {
          "output_type": "execute_result",
          "data": {
            "text/plain": [
              "9471.238095238094"
            ]
          },
          "metadata": {},
          "execution_count": 20
        }
      ]
    },
    {
      "cell_type": "code",
      "source": [
        "# Return standard deviation \n",
        "g7_pop.std()"
      ],
      "metadata": {
        "colab": {
          "base_uri": "https://localhost:8080/"
        },
        "id": "MzncLStfR5fD",
        "outputId": "d353f75f-fb11-43dc-c7e4-3483fc48caae"
      },
      "execution_count": 21,
      "outputs": [
        {
          "output_type": "execute_result",
          "data": {
            "text/plain": [
              "97.3202861444524"
            ]
          },
          "metadata": {},
          "execution_count": 21
        }
      ]
    },
    {
      "cell_type": "code",
      "source": [
        "# Return count \n",
        "g7_pop.count()"
      ],
      "metadata": {
        "colab": {
          "base_uri": "https://localhost:8080/"
        },
        "id": "Yi7eCMsERrVe",
        "outputId": "1ae24f32-fd08-48ab-f01e-ee3ccab3a10c"
      },
      "execution_count": 22,
      "outputs": [
        {
          "output_type": "execute_result",
          "data": {
            "text/plain": [
              "7"
            ]
          },
          "metadata": {},
          "execution_count": 22
        }
      ]
    },
    {
      "cell_type": "markdown",
      "source": [
        "# **Conditional Selection**"
      ],
      "metadata": {
        "id": "666e64jIRFrz"
      }
    },
    {
      "cell_type": "code",
      "source": [
        "# Conditions\n",
        "g7_pop > 70"
      ],
      "metadata": {
        "colab": {
          "base_uri": "https://localhost:8080/"
        },
        "id": "Mkb5TxinQf9m",
        "outputId": "bc4c560d-bf01-42b6-e145-59d5edd1537a"
      },
      "execution_count": 23,
      "outputs": [
        {
          "output_type": "execute_result",
          "data": {
            "text/plain": [
              "Canada            False\n",
              "France            False\n",
              "Germany            True\n",
              "Italy             False\n",
              "Japan              True\n",
              "United Kingdom    False\n",
              "United States      True\n",
              "Name: G7 Population in millions, dtype: bool"
            ]
          },
          "metadata": {},
          "execution_count": 23
        }
      ]
    },
    {
      "cell_type": "code",
      "source": [
        "# Conditions and selection\n",
        "g7_pop[g7_pop > 70]"
      ],
      "metadata": {
        "colab": {
          "base_uri": "https://localhost:8080/"
        },
        "id": "hGGcH163Q62s",
        "outputId": "d22d9c34-e957-4442-a8df-d12040c7c400"
      },
      "execution_count": 24,
      "outputs": [
        {
          "output_type": "execute_result",
          "data": {
            "text/plain": [
              "Germany           80\n",
              "Japan            127\n",
              "United States    318\n",
              "Name: G7 Population in millions, dtype: int64"
            ]
          },
          "metadata": {},
          "execution_count": 24
        }
      ]
    },
    {
      "cell_type": "code",
      "source": [
        "# Logic operators\n",
        "'''\n",
        "~ not\n",
        "| or\n",
        "& and\n",
        "'''"
      ],
      "metadata": {
        "colab": {
          "base_uri": "https://localhost:8080/",
          "height": 36
        },
        "id": "YdJ1IssYQ-tU",
        "outputId": "279ecfa8-0027-461f-bb54-0f38049eaf14"
      },
      "execution_count": 25,
      "outputs": [
        {
          "output_type": "execute_result",
          "data": {
            "text/plain": [
              "'\\n~ not\\n| or\\n& and\\n'"
            ],
            "application/vnd.google.colaboratory.intrinsic+json": {
              "type": "string"
            }
          },
          "metadata": {},
          "execution_count": 25
        }
      ]
    },
    {
      "cell_type": "code",
      "source": [
        "# OR Boolean Selection\n",
        "g7_pop[(g7_pop > 80) | (g7_pop < 40)]"
      ],
      "metadata": {
        "colab": {
          "base_uri": "https://localhost:8080/"
        },
        "id": "KUz6bvWcSxg1",
        "outputId": "f8daf3e2-5897-4877-b17c-57fbbc28866b"
      },
      "execution_count": 26,
      "outputs": [
        {
          "output_type": "execute_result",
          "data": {
            "text/plain": [
              "Canada            35\n",
              "Japan            127\n",
              "United States    318\n",
              "Name: G7 Population in millions, dtype: int64"
            ]
          },
          "metadata": {},
          "execution_count": 26
        }
      ]
    },
    {
      "cell_type": "code",
      "source": [
        "# AND Boolean Selection\n",
        "g7_pop[(g7_pop > 80) & (g7_pop < 200)]"
      ],
      "metadata": {
        "colab": {
          "base_uri": "https://localhost:8080/"
        },
        "id": "Ns7QPpTDSgVl",
        "outputId": "e6e51448-d1fc-4529-d014-eed817cde2ed"
      },
      "execution_count": 27,
      "outputs": [
        {
          "output_type": "execute_result",
          "data": {
            "text/plain": [
              "Japan    127\n",
              "Name: G7 Population in millions, dtype: int64"
            ]
          },
          "metadata": {},
          "execution_count": 27
        }
      ]
    },
    {
      "cell_type": "markdown",
      "source": [
        "# **Modifying Series**"
      ],
      "metadata": {
        "id": "T72hDjuBTHp5"
      }
    },
    {
      "cell_type": "code",
      "source": [
        "# Modiify value of Canada\n",
        "g7_pop['Canada'] = 40.5\n",
        "g7_pop"
      ],
      "metadata": {
        "colab": {
          "base_uri": "https://localhost:8080/"
        },
        "id": "qAn4VZJyTAWn",
        "outputId": "984acae2-32ea-49da-8bfc-ba3f7640078a"
      },
      "execution_count": 28,
      "outputs": [
        {
          "output_type": "execute_result",
          "data": {
            "text/plain": [
              "Canada             40\n",
              "France             63\n",
              "Germany            80\n",
              "Italy              60\n",
              "Japan             127\n",
              "United Kingdom     64\n",
              "United States     318\n",
              "Name: G7 Population in millions, dtype: int64"
            ]
          },
          "metadata": {},
          "execution_count": 28
        }
      ]
    },
    {
      "cell_type": "code",
      "source": [
        "# Modiify value of last element\n",
        "g7_pop.iloc[-1] = 500\n",
        "g7_pop"
      ],
      "metadata": {
        "colab": {
          "base_uri": "https://localhost:8080/"
        },
        "id": "s5hTztcMTU1p",
        "outputId": "61cfeaac-6c9b-42d7-c1eb-2275bbf3925f"
      },
      "execution_count": 29,
      "outputs": [
        {
          "output_type": "execute_result",
          "data": {
            "text/plain": [
              "Canada             40\n",
              "France             63\n",
              "Germany            80\n",
              "Italy              60\n",
              "Japan             127\n",
              "United Kingdom     64\n",
              "United States     500\n",
              "Name: G7 Population in millions, dtype: int64"
            ]
          },
          "metadata": {},
          "execution_count": 29
        }
      ]
    },
    {
      "cell_type": "code",
      "source": [
        "# Modiify value using condition\n",
        "g7_pop[g7_pop < 70] = 99.9\n",
        "g7_pop"
      ],
      "metadata": {
        "colab": {
          "base_uri": "https://localhost:8080/"
        },
        "id": "KNX5DBJ4TljF",
        "outputId": "4019c6c6-5972-485f-ebce-2a27ba01b18a"
      },
      "execution_count": 30,
      "outputs": [
        {
          "output_type": "execute_result",
          "data": {
            "text/plain": [
              "Canada             99.9\n",
              "France             99.9\n",
              "Germany            80.0\n",
              "Italy              99.9\n",
              "Japan             127.0\n",
              "United Kingdom     99.9\n",
              "United States     500.0\n",
              "Name: G7 Population in millions, dtype: float64"
            ]
          },
          "metadata": {},
          "execution_count": 30
        }
      ]
    }
  ]
}