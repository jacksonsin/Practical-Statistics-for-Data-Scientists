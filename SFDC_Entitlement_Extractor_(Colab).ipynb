{
  "nbformat": 4,
  "nbformat_minor": 0,
  "metadata": {
    "colab": {
      "name": "SFDC Entitlement Extractor (Colab).ipynb",
      "provenance": [],
      "authorship_tag": "ABX9TyPwd6HPzv9COd6HazFLamWb",
      "include_colab_link": true
    },
    "kernelspec": {
      "display_name": "Python 3",
      "name": "python3"
    },
    "language_info": {
      "name": "python"
    }
  },
  "cells": [
    {
      "cell_type": "markdown",
      "metadata": {
        "id": "view-in-github",
        "colab_type": "text"
      },
      "source": [
        "<a href=\"https://colab.research.google.com/github/jacksonsin/Practical-Statistics-for-Data-Scientists/blob/main/SFDC_Entitlement_Extractor_(Colab).ipynb\" target=\"_parent\"><img src=\"https://colab.research.google.com/assets/colab-badge.svg\" alt=\"Open In Colab\"/></a>"
      ]
    },
    {
      "cell_type": "markdown",
      "metadata": {
        "id": "uzpebMiZWax9"
      },
      "source": [
        "Data Processing\n"
      ]
    },
    {
      "cell_type": "code",
      "metadata": {
        "colab": {
          "base_uri": "https://localhost:8080/"
        },
        "id": "Wh2l5w8RqKPk",
        "outputId": "c3f3b7d0-74e6-4e0f-9206-173b0513fe93"
      },
      "source": [
        "import pandas as pd\n",
        "import os\n",
        "import re\n",
        "import numpy as np\n",
        "#pd.set_option('display.max_rows', 500)\n",
        "pd.options.display.max_rows"
      ],
      "execution_count": 1,
      "outputs": [
        {
          "output_type": "execute_result",
          "data": {
            "text/plain": [
              "60"
            ]
          },
          "metadata": {},
          "execution_count": 1
        }
      ]
    },
    {
      "cell_type": "code",
      "metadata": {
        "id": "fHGmbdb2wIQX"
      },
      "source": [
        "#Load dataset\n",
        "data = pd.read_csv('https://bit.ly/30Pm1dY')"
      ],
      "execution_count": 2,
      "outputs": []
    },
    {
      "cell_type": "code",
      "metadata": {
        "colab": {
          "base_uri": "https://localhost:8080/"
        },
        "id": "6g2k3EKyxoHE",
        "outputId": "38ba669e-29e8-46e0-ac24-b008d2c8a2e5"
      },
      "source": [
        "# Check missing values\n",
        "data.isnull().sum()"
      ],
      "execution_count": 3,
      "outputs": [
        {
          "output_type": "execute_result",
          "data": {
            "text/plain": [
              "Create Date            0\n",
              "Last Name              0\n",
              "Company / Account      0\n",
              "Entitlement Details    0\n",
              "dtype: int64"
            ]
          },
          "metadata": {},
          "execution_count": 3
        }
      ]
    },
    {
      "cell_type": "code",
      "metadata": {
        "colab": {
          "base_uri": "https://localhost:8080/",
          "height": 204
        },
        "id": "PGs6DEe-xulZ",
        "outputId": "dd6a5874-64dc-4acf-bfed-5e6bca079cc5"
      },
      "source": [
        "#Convert to date\n",
        "data[\"Create Date\"] = pd.to_datetime(data[\"Create Date\"], format='%d/%m/%Y')\n",
        "\n",
        "#Filtering rule\n",
        "data[(data[\"Create Date\"] >= \"2021-02-01\") & (data[\"Create Date\"] <= \"2022-12-31\")]\n",
        "data.head()"
      ],
      "execution_count": 4,
      "outputs": [
        {
          "output_type": "execute_result",
          "data": {
            "text/html": [
              "<div>\n",
              "<style scoped>\n",
              "    .dataframe tbody tr th:only-of-type {\n",
              "        vertical-align: middle;\n",
              "    }\n",
              "\n",
              "    .dataframe tbody tr th {\n",
              "        vertical-align: top;\n",
              "    }\n",
              "\n",
              "    .dataframe thead th {\n",
              "        text-align: right;\n",
              "    }\n",
              "</style>\n",
              "<table border=\"1\" class=\"dataframe\">\n",
              "  <thead>\n",
              "    <tr style=\"text-align: right;\">\n",
              "      <th></th>\n",
              "      <th>Create Date</th>\n",
              "      <th>Last Name</th>\n",
              "      <th>Company / Account</th>\n",
              "      <th>Entitlement Details</th>\n",
              "    </tr>\n",
              "  </thead>\n",
              "  <tbody>\n",
              "    <tr>\n",
              "      <th>0</th>\n",
              "      <td>2021-08-02</td>\n",
              "      <td>Micron FAB10A - YK-50611F-97125495 - L&amp;M</td>\n",
              "      <td>EXYTE SINGAPORE PTE. LTD.</td>\n",
              "      <td>Lubrication Oil Replacement(R) - 5000;Oil Filt...</td>\n",
              "    </tr>\n",
              "    <tr>\n",
              "      <th>1</th>\n",
              "      <td>2021-08-02</td>\n",
              "      <td>Micron FAB10A - YK-50611F-97125503 - L&amp;M</td>\n",
              "      <td>EXYTE SINGAPORE PTE. LTD.</td>\n",
              "      <td>Lubrication Oil Replacement(R) - 5000;Oil Filt...</td>\n",
              "    </tr>\n",
              "    <tr>\n",
              "      <th>2</th>\n",
              "      <td>2021-08-02</td>\n",
              "      <td>Linxens Singapore Pte Ltd - YMC2-50611L-856256...</td>\n",
              "      <td>LINXENS SINGAPORE PTE LTD</td>\n",
              "      <td>Lubrication Oil Replacement(R) - 5000;Oil Filt...</td>\n",
              "    </tr>\n",
              "    <tr>\n",
              "      <th>3</th>\n",
              "      <td>2021-08-02</td>\n",
              "      <td>GE Aviation - YK-50611-M54274744 - L&amp;M</td>\n",
              "      <td>PENG YAP M&amp;E SYSTEMS PTE LTD</td>\n",
              "      <td>Lubrication Oil Replacement(R) - 5000;Oil Filt...</td>\n",
              "    </tr>\n",
              "    <tr>\n",
              "      <th>4</th>\n",
              "      <td>2021-08-02</td>\n",
              "      <td>Micron FAB10A - YK-50611A95979755 - L&amp;M</td>\n",
              "      <td>EXYTE SINGAPORE PTE. LTD.</td>\n",
              "      <td>Lubrication Oil Replacement(R) - 5000;Oil Filt...</td>\n",
              "    </tr>\n",
              "  </tbody>\n",
              "</table>\n",
              "</div>"
            ],
            "text/plain": [
              "  Create Date  ...                                Entitlement Details\n",
              "0  2021-08-02  ...  Lubrication Oil Replacement(R) - 5000;Oil Filt...\n",
              "1  2021-08-02  ...  Lubrication Oil Replacement(R) - 5000;Oil Filt...\n",
              "2  2021-08-02  ...  Lubrication Oil Replacement(R) - 5000;Oil Filt...\n",
              "3  2021-08-02  ...  Lubrication Oil Replacement(R) - 5000;Oil Filt...\n",
              "4  2021-08-02  ...  Lubrication Oil Replacement(R) - 5000;Oil Filt...\n",
              "\n",
              "[5 rows x 4 columns]"
            ]
          },
          "metadata": {},
          "execution_count": 4
        }
      ]
    },
    {
      "cell_type": "code",
      "metadata": {
        "colab": {
          "base_uri": "https://localhost:8080/"
        },
        "id": "UGDcwsOwwNYB",
        "outputId": "b4534c6f-6472-46b7-a11c-8249f0a6eb68"
      },
      "source": [
        "# number of records\n",
        "data.shape"
      ],
      "execution_count": 5,
      "outputs": [
        {
          "output_type": "execute_result",
          "data": {
            "text/plain": [
              "(3908, 4)"
            ]
          },
          "metadata": {},
          "execution_count": 5
        }
      ]
    },
    {
      "cell_type": "code",
      "metadata": {
        "id": "hzg4tOg_wOly"
      },
      "source": [
        "df=pd.DataFrame()\n",
        "a=['created_date','campaign','account','entitlement','value']\n",
        "for i in a:\n",
        "    df[i]=np.nan"
      ],
      "execution_count": 6,
      "outputs": []
    },
    {
      "cell_type": "code",
      "metadata": {
        "colab": {
          "base_uri": "https://localhost:8080/"
        },
        "id": "XhIdhochwQMN",
        "outputId": "1c3e6b6a-9262-481f-85d7-c633f43818e6"
      },
      "source": [
        "datetime=data[\"Create Date\"]\n",
        "data[\"Create Date\"] = datetime.dt.strftime('%Y-%m-%d')\n",
        "data[\"Create Date\"].head()"
      ],
      "execution_count": 7,
      "outputs": [
        {
          "output_type": "execute_result",
          "data": {
            "text/plain": [
              "0    2021-08-02\n",
              "1    2021-08-02\n",
              "2    2021-08-02\n",
              "3    2021-08-02\n",
              "4    2021-08-02\n",
              "Name: Create Date, dtype: object"
            ]
          },
          "metadata": {},
          "execution_count": 7
        }
      ]
    },
    {
      "cell_type": "code",
      "metadata": {
        "id": "XkQmIoaPwR-z"
      },
      "source": [
        "# Data-Processing\n",
        "created_date = []\n",
        "campaign= []\n",
        "account = []\n",
        "entitlement = []\n",
        "value = []\n",
        "values = []\n",
        "\n",
        "columns = ['Created Date','Campaign','Account',\"Entitlement\",\"Value\"]\n",
        "\n",
        "for row in [data[\"Entitlement Details\"]]:\n",
        "    for z in range(len(row)):\n",
        "        for i in [row[z][:-1]]:\n",
        "            x = i.split(\";\")\n",
        "        for j in x:\n",
        "            entitlement += j.split(' - ')[-2:-1]\n",
        "            value += j.split(' - ')[-1:]\n",
        "        for k in range(len(x)):\n",
        "            created_date += [data[\"Create Date\"][z]]\n",
        "            campaign += [data[\"Last Name\"][z]]\n",
        "            account += [data[\"Company / Account\"][z]] \n",
        "                \n",
        "values += [created_date,campaign,account,entitlement,value]\n",
        "zipped = zip(columns,values)\n",
        "a_dictionary = dict(zipped)"
      ],
      "execution_count": 8,
      "outputs": []
    },
    {
      "cell_type": "code",
      "metadata": {
        "colab": {
          "base_uri": "https://localhost:8080/",
          "height": 419
        },
        "id": "_hshqNe6wTZO",
        "outputId": "de56cbd4-ac80-4105-b79b-b778d6689792"
      },
      "source": [
        "pd.DataFrame.from_dict(a_dictionary)"
      ],
      "execution_count": 9,
      "outputs": [
        {
          "output_type": "execute_result",
          "data": {
            "text/html": [
              "<div>\n",
              "<style scoped>\n",
              "    .dataframe tbody tr th:only-of-type {\n",
              "        vertical-align: middle;\n",
              "    }\n",
              "\n",
              "    .dataframe tbody tr th {\n",
              "        vertical-align: top;\n",
              "    }\n",
              "\n",
              "    .dataframe thead th {\n",
              "        text-align: right;\n",
              "    }\n",
              "</style>\n",
              "<table border=\"1\" class=\"dataframe\">\n",
              "  <thead>\n",
              "    <tr style=\"text-align: right;\">\n",
              "      <th></th>\n",
              "      <th>Created Date</th>\n",
              "      <th>Campaign</th>\n",
              "      <th>Account</th>\n",
              "      <th>Entitlement</th>\n",
              "      <th>Value</th>\n",
              "    </tr>\n",
              "  </thead>\n",
              "  <tbody>\n",
              "    <tr>\n",
              "      <th>0</th>\n",
              "      <td>2021-08-02</td>\n",
              "      <td>Micron FAB10A - YK-50611F-97125495 - L&amp;M</td>\n",
              "      <td>EXYTE SINGAPORE PTE. LTD.</td>\n",
              "      <td>Lubrication Oil Replacement(R)</td>\n",
              "      <td>5000</td>\n",
              "    </tr>\n",
              "    <tr>\n",
              "      <th>1</th>\n",
              "      <td>2021-08-02</td>\n",
              "      <td>Micron FAB10A - YK-50611F-97125495 - L&amp;M</td>\n",
              "      <td>EXYTE SINGAPORE PTE. LTD.</td>\n",
              "      <td>Oil Filter Replacement(R)</td>\n",
              "      <td>400</td>\n",
              "    </tr>\n",
              "    <tr>\n",
              "      <th>2</th>\n",
              "      <td>2021-08-02</td>\n",
              "      <td>Micron FAB10A - YK-50611F-97125495 - L&amp;M</td>\n",
              "      <td>EXYTE SINGAPORE PTE. LTD.</td>\n",
              "      <td>Dryer Filter Replacement(R)</td>\n",
              "      <td>400</td>\n",
              "    </tr>\n",
              "    <tr>\n",
              "      <th>3</th>\n",
              "      <td>2021-08-02</td>\n",
              "      <td>Micron FAB10A - YK-50611F-97125495 - L&amp;M</td>\n",
              "      <td>EXYTE SINGAPORE PTE. LTD.</td>\n",
              "      <td>Coolant Liquid (VSD) Replacement(R)</td>\n",
              "      <td>500</td>\n",
              "    </tr>\n",
              "    <tr>\n",
              "      <th>4</th>\n",
              "      <td>2021-08-02</td>\n",
              "      <td>Micron FAB10A - YK-50611F-97125495 - L&amp;M</td>\n",
              "      <td>EXYTE SINGAPORE PTE. LTD.</td>\n",
              "      <td>Shaft Seal Replacement(V)</td>\n",
              "      <td>15000</td>\n",
              "    </tr>\n",
              "    <tr>\n",
              "      <th>...</th>\n",
              "      <td>...</td>\n",
              "      <td>...</td>\n",
              "      <td>...</td>\n",
              "      <td>...</td>\n",
              "      <td>...</td>\n",
              "    </tr>\n",
              "    <tr>\n",
              "      <th>40118</th>\n",
              "      <td>2021-10-05</td>\n",
              "      <td>Adelphi-Service L&amp;M</td>\n",
              "      <td>COMFORT MANAGEMENT PTE LTD</td>\n",
              "      <td>OBEM (PM/CUP)</td>\n",
              "      <td>50000</td>\n",
              "    </tr>\n",
              "    <tr>\n",
              "      <th>40119</th>\n",
              "      <td>2021-10-05</td>\n",
              "      <td>Adelphi-Service L&amp;M</td>\n",
              "      <td>COMFORT MANAGEMENT PTE LTD</td>\n",
              "      <td>Chiller Plant Control</td>\n",
              "      <td>15000</td>\n",
              "    </tr>\n",
              "    <tr>\n",
              "      <th>40120</th>\n",
              "      <td>2021-10-05</td>\n",
              "      <td>Adelphi-Service L&amp;M</td>\n",
              "      <td>COMFORT MANAGEMENT PTE LTD</td>\n",
              "      <td>AHU UV Light/t/Trion ESP inspection</td>\n",
              "      <td>10000</td>\n",
              "    </tr>\n",
              "    <tr>\n",
              "      <th>40121</th>\n",
              "      <td>2021-10-05</td>\n",
              "      <td>Adelphi-Service L&amp;M</td>\n",
              "      <td>COMFORT MANAGEMENT PTE LTD</td>\n",
              "      <td>HEPA inspection</td>\n",
              "      <td>18000</td>\n",
              "    </tr>\n",
              "    <tr>\n",
              "      <th>40122</th>\n",
              "      <td>2021-10-05</td>\n",
              "      <td>Adelphi-Service L&amp;M</td>\n",
              "      <td>COMFORT MANAGEMENT PTE LTD</td>\n",
              "      <td>EC Fan inspection</td>\n",
              "      <td>1000</td>\n",
              "    </tr>\n",
              "  </tbody>\n",
              "</table>\n",
              "<p>40123 rows × 5 columns</p>\n",
              "</div>"
            ],
            "text/plain": [
              "      Created Date  ...  Value\n",
              "0       2021-08-02  ...   5000\n",
              "1       2021-08-02  ...    400\n",
              "2       2021-08-02  ...    400\n",
              "3       2021-08-02  ...    500\n",
              "4       2021-08-02  ...  15000\n",
              "...            ...  ...    ...\n",
              "40118   2021-10-05  ...  50000\n",
              "40119   2021-10-05  ...  15000\n",
              "40120   2021-10-05  ...  10000\n",
              "40121   2021-10-05  ...  18000\n",
              "40122   2021-10-05  ...   1000\n",
              "\n",
              "[40123 rows x 5 columns]"
            ]
          },
          "metadata": {},
          "execution_count": 9
        }
      ]
    },
    {
      "cell_type": "code",
      "metadata": {
        "colab": {
          "base_uri": "https://localhost:8080/",
          "height": 17
        },
        "id": "o5Oi5h4SwVf8",
        "outputId": "21a2cf17-a833-4818-c666-0c4934094c8a"
      },
      "source": [
        "# Export to csv\n",
        "export_file = pd.DataFrame.from_dict(a_dictionary)\n",
        "from google.colab import files\n",
        "export_file.to_csv('data.csv')\n",
        "files.download(\"data.csv\")"
      ],
      "execution_count": 10,
      "outputs": [
        {
          "output_type": "display_data",
          "data": {
            "application/javascript": [
              "\n",
              "    async function download(id, filename, size) {\n",
              "      if (!google.colab.kernel.accessAllowed) {\n",
              "        return;\n",
              "      }\n",
              "      const div = document.createElement('div');\n",
              "      const label = document.createElement('label');\n",
              "      label.textContent = `Downloading \"${filename}\": `;\n",
              "      div.appendChild(label);\n",
              "      const progress = document.createElement('progress');\n",
              "      progress.max = size;\n",
              "      div.appendChild(progress);\n",
              "      document.body.appendChild(div);\n",
              "\n",
              "      const buffers = [];\n",
              "      let downloaded = 0;\n",
              "\n",
              "      const channel = await google.colab.kernel.comms.open(id);\n",
              "      // Send a message to notify the kernel that we're ready.\n",
              "      channel.send({})\n",
              "\n",
              "      for await (const message of channel.messages) {\n",
              "        // Send a message to notify the kernel that we're ready.\n",
              "        channel.send({})\n",
              "        if (message.buffers) {\n",
              "          for (const buffer of message.buffers) {\n",
              "            buffers.push(buffer);\n",
              "            downloaded += buffer.byteLength;\n",
              "            progress.value = downloaded;\n",
              "          }\n",
              "        }\n",
              "      }\n",
              "      const blob = new Blob(buffers, {type: 'application/binary'});\n",
              "      const a = document.createElement('a');\n",
              "      a.href = window.URL.createObjectURL(blob);\n",
              "      a.download = filename;\n",
              "      div.appendChild(a);\n",
              "      a.click();\n",
              "      div.remove();\n",
              "    }\n",
              "  "
            ],
            "text/plain": [
              "<IPython.core.display.Javascript object>"
            ]
          },
          "metadata": {}
        },
        {
          "output_type": "display_data",
          "data": {
            "application/javascript": [
              "download(\"download_a020ca10-03ea-4399-91e9-4f7327fdd0f3\", \"data.csv\", 5361147)"
            ],
            "text/plain": [
              "<IPython.core.display.Javascript object>"
            ]
          },
          "metadata": {}
        }
      ]
    }
  ]
}