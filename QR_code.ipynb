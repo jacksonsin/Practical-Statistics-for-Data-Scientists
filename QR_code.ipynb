{
  "nbformat": 4,
  "nbformat_minor": 0,
  "metadata": {
    "colab": {
      "provenance": [],
      "authorship_tag": "ABX9TyP5hC7m99uIPhql8QElB743",
      "include_colab_link": true
    },
    "language_info": {
      "name": "python"
    },
    "kernelspec": {
      "name": "python3",
      "display_name": "Python 3"
    }
  },
  "cells": [
    {
      "cell_type": "markdown",
      "metadata": {
        "id": "view-in-github",
        "colab_type": "text"
      },
      "source": [
        "<a href=\"https://colab.research.google.com/github/jacksonsin/data_science_with_python/blob/main/QR_code.ipynb\" target=\"_parent\"><img src=\"https://colab.research.google.com/assets/colab-badge.svg\" alt=\"Open In Colab\"/></a>"
      ]
    },
    {
      "cell_type": "code",
      "source": [
        "!pip install qrcode"
      ],
      "metadata": {
        "colab": {
          "base_uri": "https://localhost:8080/"
        },
        "id": "maV9VpzIVFDu",
        "outputId": "8ac7185b-d539-4ec7-af50-9aa7fedd3a68"
      },
      "execution_count": 1,
      "outputs": [
        {
          "output_type": "stream",
          "name": "stdout",
          "text": [
            "Looking in indexes: https://pypi.org/simple, https://us-python.pkg.dev/colab-wheels/public/simple/\n",
            "Requirement already satisfied: qrcode in /usr/local/lib/python3.7/dist-packages (7.3.1)\n"
          ]
        }
      ]
    },
    {
      "cell_type": "code",
      "execution_count": 2,
      "metadata": {
        "id": "tbzJcXeiS5tp"
      },
      "outputs": [],
      "source": [
        "import os\n",
        "import qrcode"
      ]
    },
    {
      "cell_type": "code",
      "source": [
        "img = qrcode.make(\"https://www.youtube.com/watch?v=ciCJdSxJi1w\")\n",
        "img.save(\"qr.png\", \"PNG\")\n",
        "os.system(\"open qr.png\")"
      ],
      "metadata": {
        "colab": {
          "base_uri": "https://localhost:8080/"
        },
        "id": "Js-NkY7HS9DM",
        "outputId": "d18c01cf-f5ad-4a46-fa18-414139e602ee"
      },
      "execution_count": 3,
      "outputs": [
        {
          "output_type": "execute_result",
          "data": {
            "text/plain": [
              "32512"
            ]
          },
          "metadata": {},
          "execution_count": 3
        }
      ]
    }
  ]
}