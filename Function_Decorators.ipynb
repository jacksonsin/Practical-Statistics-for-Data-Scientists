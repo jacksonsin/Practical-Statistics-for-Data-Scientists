{
  "nbformat": 4,
  "nbformat_minor": 0,
  "metadata": {
    "colab": {
      "name": "Function Decorators.ipynb",
      "provenance": [],
      "authorship_tag": "ABX9TyMgojINq6qkPgA+XvcvPZu2",
      "include_colab_link": true
    },
    "language_info": {
      "name": "python"
    },
    "kernelspec": {
      "name": "python3",
      "display_name": "Python 3"
    },
    "gpuClass": "standard"
  },
  "cells": [
    {
      "cell_type": "markdown",
      "metadata": {
        "id": "view-in-github",
        "colab_type": "text"
      },
      "source": [
        "<a href=\"https://colab.research.google.com/github/jacksonsin/data_science_with_python/blob/main/Function_Decorators.ipynb\" target=\"_parent\"><img src=\"https://colab.research.google.com/assets/colab-badge.svg\" alt=\"Open In Colab\"/></a>"
      ]
    },
    {
      "cell_type": "code",
      "execution_count": 1,
      "metadata": {
        "id": "TWWwIYIP4gv5"
      },
      "outputs": [],
      "source": [
        "def decorator(function): # This is a decorator \n",
        "    def UpperCase(*args, **kwargs): # This is a wrapper function \n",
        "        return_value = function(*args, **kwargs) # Calling the actual function  inside the wrapper function\n",
        "        print(f\"Transforming {return_value} into {return_value.upper()}\")\n",
        "        return return_value.upper()\n",
        "    return UpperCase"
      ]
    },
    {
      "cell_type": "code",
      "source": [
        "def name(person): # Defining a function to be called inside a wrapper \n",
        "    print(f\"Input name: {person}\")\n",
        "    return person\n",
        "\n",
        "decorator(name)(\"Jackson\") # Passing a function inside a decorator"
      ],
      "metadata": {
        "colab": {
          "base_uri": "https://localhost:8080/",
          "height": 70
        },
        "id": "8DBMMC8Y4j6h",
        "outputId": "36f71430-5491-4321-aaef-5a12be0bb9be"
      },
      "execution_count": 2,
      "outputs": [
        {
          "output_type": "stream",
          "name": "stdout",
          "text": [
            "Input name: Jackson\n",
            "Transforming Jackson into JACKSON\n"
          ]
        },
        {
          "output_type": "execute_result",
          "data": {
            "text/plain": [
              "'JACKSON'"
            ],
            "application/vnd.google.colaboratory.intrinsic+json": {
              "type": "string"
            }
          },
          "metadata": {},
          "execution_count": 2
        }
      ]
    },
    {
      "cell_type": "code",
      "source": [
        "@decorator # Adding a decorator to the function\n",
        "def name(person): # This function will be passed an argument to another decorator function\n",
        "    print(f\"Input name: {person}\")\n",
        "    return person\n",
        "\n",
        "name(\"Jackson\")"
      ],
      "metadata": {
        "colab": {
          "base_uri": "https://localhost:8080/",
          "height": 70
        },
        "id": "CzLybIEJ4nqt",
        "outputId": "673b6acc-87f8-43ea-c627-5a4d3bf16764"
      },
      "execution_count": 3,
      "outputs": [
        {
          "output_type": "stream",
          "name": "stdout",
          "text": [
            "Input name: Jackson\n",
            "Transforming Jackson into JACKSON\n"
          ]
        },
        {
          "output_type": "execute_result",
          "data": {
            "text/plain": [
              "'JACKSON'"
            ],
            "application/vnd.google.colaboratory.intrinsic+json": {
              "type": "string"
            }
          },
          "metadata": {},
          "execution_count": 3
        }
      ]
    }
  ]
}