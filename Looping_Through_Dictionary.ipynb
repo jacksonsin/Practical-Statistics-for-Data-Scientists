{
  "nbformat": 4,
  "nbformat_minor": 0,
  "metadata": {
    "colab": {
      "name": "Looping Through Dictionary.ipynb",
      "provenance": [],
      "authorship_tag": "ABX9TyNEzPQFetxg3Meet0xQVOw2",
      "include_colab_link": true
    },
    "kernelspec": {
      "name": "python3",
      "display_name": "Python 3"
    },
    "language_info": {
      "name": "python"
    }
  },
  "cells": [
    {
      "cell_type": "markdown",
      "metadata": {
        "id": "view-in-github",
        "colab_type": "text"
      },
      "source": [
        "<a href=\"https://colab.research.google.com/github/jacksonsin/data_science_with_python/blob/main/Looping_Through_Dictionary.ipynb\" target=\"_parent\"><img src=\"https://colab.research.google.com/assets/colab-badge.svg\" alt=\"Open In Colab\"/></a>"
      ]
    },
    {
      "cell_type": "code",
      "execution_count": 1,
      "metadata": {
        "id": "2enCm-YnsosH"
      },
      "outputs": [],
      "source": [
        "d = {\"A\":1,\"B\":2,\"C\":3}"
      ]
    },
    {
      "cell_type": "code",
      "source": [
        "for keys in d.keys(): # Instead of doing this\n",
        "  print(keys)  \n",
        "for keys in d: # Do this\n",
        "  print(keys)"
      ],
      "metadata": {
        "colab": {
          "base_uri": "https://localhost:8080/"
        },
        "id": "ArbHucXhsv2A",
        "outputId": "16313e4e-9bb2-4f73-dea2-f948bb875724"
      },
      "execution_count": 2,
      "outputs": [
        {
          "output_type": "stream",
          "name": "stdout",
          "text": [
            "A\n",
            "B\n",
            "C\n",
            "A\n",
            "B\n",
            "C\n"
          ]
        }
      ]
    },
    {
      "cell_type": "code",
      "source": [
        "for v in d.values(): # Instead of doing this\n",
        "  print(v)\n",
        "for k,v in d.items(): # Do this\n",
        "  print(v)"
      ],
      "metadata": {
        "colab": {
          "base_uri": "https://localhost:8080/"
        },
        "id": "VWYFj57Ks8iM",
        "outputId": "669902b0-d57e-438d-bf4c-0705d1ac29d7"
      },
      "execution_count": 3,
      "outputs": [
        {
          "output_type": "stream",
          "name": "stdout",
          "text": [
            "1\n",
            "2\n",
            "3\n",
            "1\n",
            "2\n",
            "3\n"
          ]
        }
      ]
    }
  ]
}