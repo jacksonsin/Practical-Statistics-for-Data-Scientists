{
  "nbformat": 4,
  "nbformat_minor": 0,
  "metadata": {
    "colab": {
      "name": "Useful Operators.ipynb",
      "provenance": [],
      "authorship_tag": "ABX9TyNmd9sTFpNkMzHaxhh59EdK",
      "include_colab_link": true
    },
    "kernelspec": {
      "name": "python3",
      "display_name": "Python 3"
    },
    "language_info": {
      "name": "python"
    }
  },
  "cells": [
    {
      "cell_type": "markdown",
      "metadata": {
        "id": "view-in-github",
        "colab_type": "text"
      },
      "source": [
        "<a href=\"https://colab.research.google.com/github/jacksonsin/Practical-Statistics-for-Data-Scientists/blob/main/Useful_Operators.ipynb\" target=\"_parent\"><img src=\"https://colab.research.google.com/assets/colab-badge.svg\" alt=\"Open In Colab\"/></a>"
      ]
    },
    {
      "cell_type": "markdown",
      "source": [
        "Iterate through dictionary\n",
        "\n",
        "Return key and value"
      ],
      "metadata": {
        "id": "CAzVHC7c0KCm"
      }
    },
    {
      "cell_type": "code",
      "execution_count": 1,
      "metadata": {
        "colab": {
          "base_uri": "https://localhost:8080/"
        },
        "id": "hCGlW_g0vKss",
        "outputId": "4d847cf7-5d65-40b0-cdef-03a9bf750b74"
      },
      "outputs": [
        {
          "output_type": "stream",
          "name": "stdout",
          "text": [
            "A 1\n",
            "B 2\n"
          ]
        }
      ],
      "source": [
        "for key, value in {\"A\":1,\"B\":2}.items():\n",
        "  print(key,value)"
      ]
    },
    {
      "cell_type": "markdown",
      "source": [
        "Iterate through dictionary\n",
        "\n",
        "Conver into dataframe"
      ],
      "metadata": {
        "id": "K1jBdThJQ2DY"
      }
    },
    {
      "cell_type": "code",
      "source": [
        "import pandas as pd\n",
        "df = []\n",
        "mydict = {\"A\":1,\"B\":2}\n",
        "for key, value in mydict.items(): \n",
        "    col1 = key\n",
        "    col2 = value\n",
        "    df.append([col1, col2])\n",
        "df = pd.DataFrame(df, columns=[\"Key\",\"Value\"])\n",
        "df"
      ],
      "metadata": {
        "colab": {
          "base_uri": "https://localhost:8080/",
          "height": 112
        },
        "id": "A03cr9b4PNKX",
        "outputId": "be191f22-347c-4dc5-c6f8-db234a760007"
      },
      "execution_count": 2,
      "outputs": [
        {
          "output_type": "execute_result",
          "data": {
            "text/html": [
              "<div>\n",
              "<style scoped>\n",
              "    .dataframe tbody tr th:only-of-type {\n",
              "        vertical-align: middle;\n",
              "    }\n",
              "\n",
              "    .dataframe tbody tr th {\n",
              "        vertical-align: top;\n",
              "    }\n",
              "\n",
              "    .dataframe thead th {\n",
              "        text-align: right;\n",
              "    }\n",
              "</style>\n",
              "<table border=\"1\" class=\"dataframe\">\n",
              "  <thead>\n",
              "    <tr style=\"text-align: right;\">\n",
              "      <th></th>\n",
              "      <th>Key</th>\n",
              "      <th>Value</th>\n",
              "    </tr>\n",
              "  </thead>\n",
              "  <tbody>\n",
              "    <tr>\n",
              "      <th>0</th>\n",
              "      <td>A</td>\n",
              "      <td>1</td>\n",
              "    </tr>\n",
              "    <tr>\n",
              "      <th>1</th>\n",
              "      <td>B</td>\n",
              "      <td>2</td>\n",
              "    </tr>\n",
              "  </tbody>\n",
              "</table>\n",
              "</div>"
            ],
            "text/plain": [
              "  Key  Value\n",
              "0   A      1\n",
              "1   B      2"
            ]
          },
          "metadata": {},
          "execution_count": 2
        }
      ]
    },
    {
      "cell_type": "markdown",
      "source": [
        "Iterate through enumerate\n",
        "\n",
        "Return index and value"
      ],
      "metadata": {
        "id": "_t459GQN0AxO"
      }
    },
    {
      "cell_type": "code",
      "source": [
        "for index,value in enumerate ({\"A\":1,\"B\":2}):\n",
        "  print(index,value)"
      ],
      "metadata": {
        "colab": {
          "base_uri": "https://localhost:8080/"
        },
        "id": "SxgwYXcIzfKe",
        "outputId": "3c671df9-d164-4859-80ca-87df0ad70abf"
      },
      "execution_count": 3,
      "outputs": [
        {
          "output_type": "stream",
          "name": "stdout",
          "text": [
            "0 A\n",
            "1 B\n"
          ]
        }
      ]
    },
    {
      "cell_type": "markdown",
      "source": [
        "Iterate through enumerate\n",
        "\n",
        "Return index and tuple"
      ],
      "metadata": {
        "id": "N6EiA04Rz696"
      }
    },
    {
      "cell_type": "code",
      "source": [
        "for index,value in enumerate ({\"A\":1,\"B\":2}.items()):\n",
        "  print(index,value)"
      ],
      "metadata": {
        "colab": {
          "base_uri": "https://localhost:8080/"
        },
        "id": "-5_H7LrEz3PL",
        "outputId": "58c6611a-3c70-4e72-99aa-da60ffce6abe"
      },
      "execution_count": 4,
      "outputs": [
        {
          "output_type": "stream",
          "name": "stdout",
          "text": [
            "0 ('A', 1)\n",
            "1 ('B', 2)\n"
          ]
        }
      ]
    },
    {
      "cell_type": "markdown",
      "source": [
        "Iterate through zip"
      ],
      "metadata": {
        "id": "x2i2Vn_n0Yte"
      }
    },
    {
      "cell_type": "code",
      "source": [
        "keys = ['A','B','C']\n",
        "values = [1,2,3]"
      ],
      "metadata": {
        "id": "wyXJJE_S0aVf"
      },
      "execution_count": 5,
      "outputs": []
    },
    {
      "cell_type": "code",
      "source": [
        "for item in zip(keys,values):\n",
        "  print(item)"
      ],
      "metadata": {
        "colab": {
          "base_uri": "https://localhost:8080/"
        },
        "id": "TLHRVx160nSt",
        "outputId": "8f3cc1aa-d62e-4ad2-cb3c-8574f92a2b1b"
      },
      "execution_count": 6,
      "outputs": [
        {
          "output_type": "stream",
          "name": "stdout",
          "text": [
            "('A', 1)\n",
            "('B', 2)\n",
            "('C', 3)\n"
          ]
        }
      ]
    },
    {
      "cell_type": "markdown",
      "source": [
        "Iterate through zip uneven lengths"
      ],
      "metadata": {
        "id": "vgDNSlSq1oUe"
      }
    },
    {
      "cell_type": "code",
      "source": [
        "keys = ['A','B','C','D']\n",
        "values = [1,2,3]"
      ],
      "metadata": {
        "id": "mmGoB_fb1vGk"
      },
      "execution_count": 7,
      "outputs": []
    },
    {
      "cell_type": "code",
      "source": [
        "for item in zip(keys,values):\n",
        "  print(item)"
      ],
      "metadata": {
        "colab": {
          "base_uri": "https://localhost:8080/"
        },
        "id": "4POxi4Bt1y14",
        "outputId": "04f81975-eda4-4ba6-8381-5c6084659d04"
      },
      "execution_count": 8,
      "outputs": [
        {
          "output_type": "stream",
          "name": "stdout",
          "text": [
            "('A', 1)\n",
            "('B', 2)\n",
            "('C', 3)\n"
          ]
        }
      ]
    },
    {
      "cell_type": "markdown",
      "source": [
        "Unpacking zip values"
      ],
      "metadata": {
        "id": "mMyja6_l2aqF"
      }
    },
    {
      "cell_type": "code",
      "source": [
        "for key,value in zip(keys,values):\n",
        "  print(value)"
      ],
      "metadata": {
        "colab": {
          "base_uri": "https://localhost:8080/"
        },
        "id": "4-y4drxU2NGR",
        "outputId": "fd501c03-7547-4f71-8f99-41c1746e01e0"
      },
      "execution_count": 9,
      "outputs": [
        {
          "output_type": "stream",
          "name": "stdout",
          "text": [
            "1\n",
            "2\n",
            "3\n"
          ]
        }
      ]
    },
    {
      "cell_type": "markdown",
      "source": [
        "List of zip"
      ],
      "metadata": {
        "id": "8a70EIEg17rw"
      }
    },
    {
      "cell_type": "code",
      "source": [
        "list(zip(keys,values))"
      ],
      "metadata": {
        "colab": {
          "base_uri": "https://localhost:8080/"
        },
        "id": "CxSBdtC710EN",
        "outputId": "3ef8b241-6aa9-443f-9166-31ca058fbecc"
      },
      "execution_count": 10,
      "outputs": [
        {
          "output_type": "execute_result",
          "data": {
            "text/plain": [
              "[('A', 1), ('B', 2), ('C', 3)]"
            ]
          },
          "metadata": {},
          "execution_count": 10
        }
      ]
    },
    {
      "cell_type": "markdown",
      "source": [
        "Check something in the list"
      ],
      "metadata": {
        "id": "ELTQ0n552oJf"
      }
    },
    {
      "cell_type": "code",
      "source": [
        "\"x\" in [\"A\",\"B\",'C']"
      ],
      "metadata": {
        "colab": {
          "base_uri": "https://localhost:8080/"
        },
        "id": "bzVR283u2ppx",
        "outputId": "6fab96d6-ccb4-4687-e353-6bf038e9a013"
      },
      "execution_count": 11,
      "outputs": [
        {
          "output_type": "execute_result",
          "data": {
            "text/plain": [
              "False"
            ]
          },
          "metadata": {},
          "execution_count": 11
        }
      ]
    },
    {
      "cell_type": "code",
      "source": [
        "\"C\" in [\"A\",\"B\",'C']"
      ],
      "metadata": {
        "colab": {
          "base_uri": "https://localhost:8080/"
        },
        "id": "iH2E2Ksa2v-M",
        "outputId": "1a819321-d3fa-4bf3-8df9-ea03e5bfb855"
      },
      "execution_count": 12,
      "outputs": [
        {
          "output_type": "execute_result",
          "data": {
            "text/plain": [
              "True"
            ]
          },
          "metadata": {},
          "execution_count": 12
        }
      ]
    },
    {
      "cell_type": "code",
      "source": [
        "\"C\" in keys"
      ],
      "metadata": {
        "colab": {
          "base_uri": "https://localhost:8080/"
        },
        "id": "C4Ha1G3o21zX",
        "outputId": "9746985b-9cea-4795-96bf-aaa244f6f7bd"
      },
      "execution_count": 13,
      "outputs": [
        {
          "output_type": "execute_result",
          "data": {
            "text/plain": [
              "True"
            ]
          },
          "metadata": {},
          "execution_count": 13
        }
      ]
    },
    {
      "cell_type": "markdown",
      "source": [
        "Check something in the dictionary"
      ],
      "metadata": {
        "id": "t26aorgC3BUk"
      }
    },
    {
      "cell_type": "code",
      "source": [
        "# Check for a key\n",
        "\"A\" in {\"A\":1,\"B\":2}"
      ],
      "metadata": {
        "colab": {
          "base_uri": "https://localhost:8080/"
        },
        "id": "GL4fOXLO3CpO",
        "outputId": "dd14c8d3-89ba-4598-ef6c-0a3444fe7fcd"
      },
      "execution_count": 14,
      "outputs": [
        {
          "output_type": "execute_result",
          "data": {
            "text/plain": [
              "True"
            ]
          },
          "metadata": {},
          "execution_count": 14
        }
      ]
    },
    {
      "cell_type": "code",
      "source": [
        "#Check for a key\n",
        "d = {\"A\":1,\"B\":2}\n",
        "\"A\" in d"
      ],
      "metadata": {
        "colab": {
          "base_uri": "https://localhost:8080/"
        },
        "id": "vnweEqTC3Orw",
        "outputId": "807a7b02-cdc7-4878-8fbe-33707c02c183"
      },
      "execution_count": 15,
      "outputs": [
        {
          "output_type": "execute_result",
          "data": {
            "text/plain": [
              "True"
            ]
          },
          "metadata": {},
          "execution_count": 15
        }
      ]
    },
    {
      "cell_type": "code",
      "source": [
        "#Check for a key\n",
        "d = {\"A\":1,\"B\":2}\n",
        "\"A\" in d.keys()"
      ],
      "metadata": {
        "colab": {
          "base_uri": "https://localhost:8080/"
        },
        "id": "fTiJ4jN_3chD",
        "outputId": "04bea242-3dd4-4213-c91b-012934c1c728"
      },
      "execution_count": 16,
      "outputs": [
        {
          "output_type": "execute_result",
          "data": {
            "text/plain": [
              "True"
            ]
          },
          "metadata": {},
          "execution_count": 16
        }
      ]
    },
    {
      "cell_type": "code",
      "source": [
        "#Check for a value\n",
        "d = {\"A\":1,\"B\":2}\n",
        "1 in d.values()"
      ],
      "metadata": {
        "colab": {
          "base_uri": "https://localhost:8080/"
        },
        "id": "XBHEK6uK3p9u",
        "outputId": "7c8777e7-bf0c-437d-c054-deed005a57aa"
      },
      "execution_count": 17,
      "outputs": [
        {
          "output_type": "execute_result",
          "data": {
            "text/plain": [
              "True"
            ]
          },
          "metadata": {},
          "execution_count": 17
        }
      ]
    }
  ]
}