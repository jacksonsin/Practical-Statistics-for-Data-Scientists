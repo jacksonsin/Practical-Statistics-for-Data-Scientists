{
  "nbformat": 4,
  "nbformat_minor": 0,
  "metadata": {
    "colab": {
      "name": "Useful Operators.ipynb",
      "provenance": [],
      "authorship_tag": "ABX9TyO8jg0AyCkvJU8iL2eFBtfB",
      "include_colab_link": true
    },
    "kernelspec": {
      "name": "python3",
      "display_name": "Python 3"
    },
    "language_info": {
      "name": "python"
    }
  },
  "cells": [
    {
      "cell_type": "markdown",
      "metadata": {
        "id": "view-in-github",
        "colab_type": "text"
      },
      "source": [
        "<a href=\"https://colab.research.google.com/github/jacksonsin/Practical-Statistics-for-Data-Scientists/blob/main/Useful_Operators.ipynb\" target=\"_parent\"><img src=\"https://colab.research.google.com/assets/colab-badge.svg\" alt=\"Open In Colab\"/></a>"
      ]
    },
    {
      "cell_type": "markdown",
      "source": [
        "Iterate through dictionary\n",
        "\n",
        "Return key and value"
      ],
      "metadata": {
        "id": "CAzVHC7c0KCm"
      }
    },
    {
      "cell_type": "code",
      "execution_count": 1,
      "metadata": {
        "colab": {
          "base_uri": "https://localhost:8080/"
        },
        "id": "hCGlW_g0vKss",
        "outputId": "64694503-c0c0-437e-d5a6-e58ece268474"
      },
      "outputs": [
        {
          "output_type": "stream",
          "name": "stdout",
          "text": [
            "A 1\n",
            "B 2\n"
          ]
        }
      ],
      "source": [
        "for key, value in {\"A\":1,\"B\":2}.items():\n",
        "  print(key,value)"
      ]
    },
    {
      "cell_type": "markdown",
      "source": [
        "Iterate through enumerate\n",
        "\n",
        "Return index and value"
      ],
      "metadata": {
        "id": "_t459GQN0AxO"
      }
    },
    {
      "cell_type": "code",
      "source": [
        "for index,value in enumerate ({\"A\":1,\"B\":2}):\n",
        "  print(index,value)"
      ],
      "metadata": {
        "colab": {
          "base_uri": "https://localhost:8080/"
        },
        "id": "SxgwYXcIzfKe",
        "outputId": "02d187ea-830e-465e-c7e8-fbd56eded4fa"
      },
      "execution_count": 2,
      "outputs": [
        {
          "output_type": "stream",
          "name": "stdout",
          "text": [
            "0 A\n",
            "1 B\n"
          ]
        }
      ]
    },
    {
      "cell_type": "markdown",
      "source": [
        "Iterate through enumerate\n",
        "\n",
        "Return index and tuple"
      ],
      "metadata": {
        "id": "N6EiA04Rz696"
      }
    },
    {
      "cell_type": "code",
      "source": [
        "for index,value in enumerate ({\"A\":1,\"B\":2}.items()):\n",
        "  print(index,value)"
      ],
      "metadata": {
        "colab": {
          "base_uri": "https://localhost:8080/"
        },
        "id": "-5_H7LrEz3PL",
        "outputId": "38470690-9340-4e86-d9be-1b05335a52af"
      },
      "execution_count": 3,
      "outputs": [
        {
          "output_type": "stream",
          "name": "stdout",
          "text": [
            "0 ('A', 1)\n",
            "1 ('B', 2)\n"
          ]
        }
      ]
    },
    {
      "cell_type": "markdown",
      "source": [
        "Iterate through zip"
      ],
      "metadata": {
        "id": "x2i2Vn_n0Yte"
      }
    },
    {
      "cell_type": "code",
      "source": [
        "keys = ['A','B','C']\n",
        "values = [1,2,3]"
      ],
      "metadata": {
        "id": "wyXJJE_S0aVf"
      },
      "execution_count": 4,
      "outputs": []
    },
    {
      "cell_type": "code",
      "source": [
        "for item in zip(keys,values):\n",
        "  print(item)"
      ],
      "metadata": {
        "colab": {
          "base_uri": "https://localhost:8080/"
        },
        "id": "TLHRVx160nSt",
        "outputId": "f5ccfe54-f955-453b-c1e6-c403f8c35def"
      },
      "execution_count": 5,
      "outputs": [
        {
          "output_type": "stream",
          "name": "stdout",
          "text": [
            "('A', 1)\n",
            "('B', 2)\n",
            "('C', 3)\n"
          ]
        }
      ]
    },
    {
      "cell_type": "markdown",
      "source": [
        "Iterate through zip uneven lengths"
      ],
      "metadata": {
        "id": "vgDNSlSq1oUe"
      }
    },
    {
      "cell_type": "code",
      "source": [
        "keys = ['A','B','C','D']\n",
        "values = [1,2,3]"
      ],
      "metadata": {
        "id": "mmGoB_fb1vGk"
      },
      "execution_count": 6,
      "outputs": []
    },
    {
      "cell_type": "code",
      "source": [
        "for item in zip(keys,values):\n",
        "  print(item)"
      ],
      "metadata": {
        "colab": {
          "base_uri": "https://localhost:8080/"
        },
        "id": "4POxi4Bt1y14",
        "outputId": "15df6b44-d3f4-4bc2-add2-3db7cb1dc6ce"
      },
      "execution_count": 7,
      "outputs": [
        {
          "output_type": "stream",
          "name": "stdout",
          "text": [
            "('A', 1)\n",
            "('B', 2)\n",
            "('C', 3)\n"
          ]
        }
      ]
    },
    {
      "cell_type": "markdown",
      "source": [
        "Unpacking zip values"
      ],
      "metadata": {
        "id": "mMyja6_l2aqF"
      }
    },
    {
      "cell_type": "code",
      "source": [
        "for key,value in zip(keys,values):\n",
        "  print(value)"
      ],
      "metadata": {
        "colab": {
          "base_uri": "https://localhost:8080/"
        },
        "id": "4-y4drxU2NGR",
        "outputId": "42e67dd3-0859-46fa-ca6d-2dbfcc6b1e8f"
      },
      "execution_count": 8,
      "outputs": [
        {
          "output_type": "stream",
          "name": "stdout",
          "text": [
            "1\n",
            "2\n",
            "3\n"
          ]
        }
      ]
    },
    {
      "cell_type": "markdown",
      "source": [
        "List of zip"
      ],
      "metadata": {
        "id": "8a70EIEg17rw"
      }
    },
    {
      "cell_type": "code",
      "source": [
        "list(zip(keys,values))"
      ],
      "metadata": {
        "colab": {
          "base_uri": "https://localhost:8080/"
        },
        "id": "CxSBdtC710EN",
        "outputId": "161e681c-81b4-4193-f5be-1186eb772c61"
      },
      "execution_count": 9,
      "outputs": [
        {
          "output_type": "execute_result",
          "data": {
            "text/plain": [
              "[('A', 1), ('B', 2), ('C', 3)]"
            ]
          },
          "metadata": {},
          "execution_count": 9
        }
      ]
    },
    {
      "cell_type": "markdown",
      "source": [
        "Check something in the list"
      ],
      "metadata": {
        "id": "ELTQ0n552oJf"
      }
    },
    {
      "cell_type": "code",
      "source": [
        "\"x\" in [\"A\",\"B\",'C']"
      ],
      "metadata": {
        "colab": {
          "base_uri": "https://localhost:8080/"
        },
        "id": "bzVR283u2ppx",
        "outputId": "01551588-251d-4662-dcff-47464390c2c7"
      },
      "execution_count": 10,
      "outputs": [
        {
          "output_type": "execute_result",
          "data": {
            "text/plain": [
              "False"
            ]
          },
          "metadata": {},
          "execution_count": 10
        }
      ]
    },
    {
      "cell_type": "code",
      "source": [
        "\"C\" in [\"A\",\"B\",'C']"
      ],
      "metadata": {
        "colab": {
          "base_uri": "https://localhost:8080/"
        },
        "id": "iH2E2Ksa2v-M",
        "outputId": "b4448336-3f32-4061-d550-e4a22d8eb096"
      },
      "execution_count": 11,
      "outputs": [
        {
          "output_type": "execute_result",
          "data": {
            "text/plain": [
              "True"
            ]
          },
          "metadata": {},
          "execution_count": 11
        }
      ]
    },
    {
      "cell_type": "code",
      "source": [
        "\"C\" in keys"
      ],
      "metadata": {
        "colab": {
          "base_uri": "https://localhost:8080/"
        },
        "id": "C4Ha1G3o21zX",
        "outputId": "d83c88c7-df2a-4e98-fe5d-6418a4f10d18"
      },
      "execution_count": 12,
      "outputs": [
        {
          "output_type": "execute_result",
          "data": {
            "text/plain": [
              "True"
            ]
          },
          "metadata": {},
          "execution_count": 12
        }
      ]
    },
    {
      "cell_type": "markdown",
      "source": [
        "Check something in the dictionary"
      ],
      "metadata": {
        "id": "t26aorgC3BUk"
      }
    },
    {
      "cell_type": "code",
      "source": [
        "# Check for a key\n",
        "\"A\" in {\"A\":1,\"B\":2}"
      ],
      "metadata": {
        "colab": {
          "base_uri": "https://localhost:8080/"
        },
        "id": "GL4fOXLO3CpO",
        "outputId": "e822852a-e7a2-45df-f263-8a69511470a9"
      },
      "execution_count": 13,
      "outputs": [
        {
          "output_type": "execute_result",
          "data": {
            "text/plain": [
              "True"
            ]
          },
          "metadata": {},
          "execution_count": 13
        }
      ]
    },
    {
      "cell_type": "code",
      "source": [
        "#Check for a key\n",
        "d = {\"A\":1,\"B\":2}\n",
        "\"A\" in d"
      ],
      "metadata": {
        "colab": {
          "base_uri": "https://localhost:8080/"
        },
        "id": "vnweEqTC3Orw",
        "outputId": "45bf3bd4-b954-4f6d-f445-8b8bedb8c75f"
      },
      "execution_count": 14,
      "outputs": [
        {
          "output_type": "execute_result",
          "data": {
            "text/plain": [
              "True"
            ]
          },
          "metadata": {},
          "execution_count": 14
        }
      ]
    },
    {
      "cell_type": "code",
      "source": [
        "#Check for a key\n",
        "d = {\"A\":1,\"B\":2}\n",
        "\"A\" in d.keys()"
      ],
      "metadata": {
        "colab": {
          "base_uri": "https://localhost:8080/"
        },
        "id": "fTiJ4jN_3chD",
        "outputId": "c4e0a49a-bd7e-4a0f-d237-bdbaed4439db"
      },
      "execution_count": 15,
      "outputs": [
        {
          "output_type": "execute_result",
          "data": {
            "text/plain": [
              "True"
            ]
          },
          "metadata": {},
          "execution_count": 15
        }
      ]
    },
    {
      "cell_type": "code",
      "source": [
        "#Check for a value\n",
        "d = {\"A\":1,\"B\":2}\n",
        "1 in d.values()"
      ],
      "metadata": {
        "colab": {
          "base_uri": "https://localhost:8080/"
        },
        "id": "XBHEK6uK3p9u",
        "outputId": "7fd49796-d23a-4b4c-f93a-373841f26571"
      },
      "execution_count": 16,
      "outputs": [
        {
          "output_type": "execute_result",
          "data": {
            "text/plain": [
              "True"
            ]
          },
          "metadata": {},
          "execution_count": 16
        }
      ]
    }
  ]
}