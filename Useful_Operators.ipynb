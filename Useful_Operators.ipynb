{
  "nbformat": 4,
  "nbformat_minor": 0,
  "metadata": {
    "colab": {
      "name": "Useful Operators.ipynb",
      "provenance": [],
      "authorship_tag": "ABX9TyPStmdfnnfjwzc2l5xCkUp/",
      "include_colab_link": true
    },
    "kernelspec": {
      "name": "python3",
      "display_name": "Python 3"
    },
    "language_info": {
      "name": "python"
    }
  },
  "cells": [
    {
      "cell_type": "markdown",
      "metadata": {
        "id": "view-in-github",
        "colab_type": "text"
      },
      "source": [
        "<a href=\"https://colab.research.google.com/github/jacksonsin/Practical-Statistics-for-Data-Scientists/blob/main/Useful_Operators.ipynb\" target=\"_parent\"><img src=\"https://colab.research.google.com/assets/colab-badge.svg\" alt=\"Open In Colab\"/></a>"
      ]
    },
    {
      "cell_type": "markdown",
      "source": [
        "Iterate through dictionary\n",
        "\n",
        "Return key and value"
      ],
      "metadata": {
        "id": "CAzVHC7c0KCm"
      }
    },
    {
      "cell_type": "code",
      "execution_count": 1,
      "metadata": {
        "colab": {
          "base_uri": "https://localhost:8080/"
        },
        "id": "hCGlW_g0vKss",
        "outputId": "ae9ddd9d-6dce-49d1-f19a-0e45a9cc47f1"
      },
      "outputs": [
        {
          "output_type": "stream",
          "name": "stdout",
          "text": [
            "A 1\n",
            "B 2\n"
          ]
        }
      ],
      "source": [
        "for key, value in {\"A\":1,\"B\":2}.items():\n",
        "  print(key,value)"
      ]
    },
    {
      "cell_type": "markdown",
      "source": [
        "Iterate through dictionary\n",
        "\n",
        "Conver into dataframe"
      ],
      "metadata": {
        "id": "K1jBdThJQ2DY"
      }
    },
    {
      "cell_type": "code",
      "source": [
        "import pandas as pd\n",
        "df = []\n",
        "mydict = {\"A\":1,\"B\":2}\n",
        "for key, value in mydict.items(): \n",
        "    col1 = key\n",
        "    col2 = value\n",
        "    df.append([col1, col2])\n",
        "df = pd.DataFrame(df, columns=[\"Key\",\"Value\"])\n",
        "print(df)"
      ],
      "metadata": {
        "colab": {
          "base_uri": "https://localhost:8080/",
          "height": 112
        },
        "id": "A03cr9b4PNKX",
        "outputId": "fc36e24f-debe-41fd-ccc9-e358005a29d4"
      },
      "execution_count": 2,
      "outputs": [
        {
          "output_type": "execute_result",
          "data": {
            "text/html": [
              "<div>\n",
              "<style scoped>\n",
              "    .dataframe tbody tr th:only-of-type {\n",
              "        vertical-align: middle;\n",
              "    }\n",
              "\n",
              "    .dataframe tbody tr th {\n",
              "        vertical-align: top;\n",
              "    }\n",
              "\n",
              "    .dataframe thead th {\n",
              "        text-align: right;\n",
              "    }\n",
              "</style>\n",
              "<table border=\"1\" class=\"dataframe\">\n",
              "  <thead>\n",
              "    <tr style=\"text-align: right;\">\n",
              "      <th></th>\n",
              "      <th>Key</th>\n",
              "      <th>Value</th>\n",
              "    </tr>\n",
              "  </thead>\n",
              "  <tbody>\n",
              "    <tr>\n",
              "      <th>0</th>\n",
              "      <td>A</td>\n",
              "      <td>1</td>\n",
              "    </tr>\n",
              "    <tr>\n",
              "      <th>1</th>\n",
              "      <td>B</td>\n",
              "      <td>2</td>\n",
              "    </tr>\n",
              "  </tbody>\n",
              "</table>\n",
              "</div>"
            ],
            "text/plain": [
              "  Key  Value\n",
              "0   A      1\n",
              "1   B      2"
            ]
          },
          "metadata": {},
          "execution_count": 2
        }
      ]
    },
    {
      "cell_type": "markdown",
      "source": [
        "Iterate through enumerate\n",
        "\n",
        "Return index and value"
      ],
      "metadata": {
        "id": "_t459GQN0AxO"
      }
    },
    {
      "cell_type": "code",
      "source": [
        "for index,value in enumerate ({\"A\":1,\"B\":2}):\n",
        "  print(index,value)"
      ],
      "metadata": {
        "colab": {
          "base_uri": "https://localhost:8080/"
        },
        "id": "SxgwYXcIzfKe",
        "outputId": "10fd17ec-5875-4d7e-d19a-f60fb9bf8192"
      },
      "execution_count": 3,
      "outputs": [
        {
          "output_type": "stream",
          "name": "stdout",
          "text": [
            "0 A\n",
            "1 B\n"
          ]
        }
      ]
    },
    {
      "cell_type": "markdown",
      "source": [
        "Iterate through enumerate\n",
        "\n",
        "Return index and tuple"
      ],
      "metadata": {
        "id": "N6EiA04Rz696"
      }
    },
    {
      "cell_type": "code",
      "source": [
        "for index,value in enumerate ({\"A\":1,\"B\":2}.items()):\n",
        "  print(index,value)"
      ],
      "metadata": {
        "colab": {
          "base_uri": "https://localhost:8080/"
        },
        "id": "-5_H7LrEz3PL",
        "outputId": "4fbe531e-981c-47ca-8d4e-73da4a5f9c2c"
      },
      "execution_count": 4,
      "outputs": [
        {
          "output_type": "stream",
          "name": "stdout",
          "text": [
            "0 ('A', 1)\n",
            "1 ('B', 2)\n"
          ]
        }
      ]
    },
    {
      "cell_type": "markdown",
      "source": [
        "Iterate through zip"
      ],
      "metadata": {
        "id": "x2i2Vn_n0Yte"
      }
    },
    {
      "cell_type": "code",
      "source": [
        "keys = ['A','B','C']\n",
        "values = [1,2,3]"
      ],
      "metadata": {
        "id": "wyXJJE_S0aVf"
      },
      "execution_count": 5,
      "outputs": []
    },
    {
      "cell_type": "code",
      "source": [
        "for item in zip(keys,values):\n",
        "  print(item)"
      ],
      "metadata": {
        "colab": {
          "base_uri": "https://localhost:8080/"
        },
        "id": "TLHRVx160nSt",
        "outputId": "e675a7bb-2626-4d6f-81a3-346f2f6da894"
      },
      "execution_count": 6,
      "outputs": [
        {
          "output_type": "stream",
          "name": "stdout",
          "text": [
            "('A', 1)\n",
            "('B', 2)\n",
            "('C', 3)\n"
          ]
        }
      ]
    },
    {
      "cell_type": "markdown",
      "source": [
        "Iterate through zip uneven lengths"
      ],
      "metadata": {
        "id": "vgDNSlSq1oUe"
      }
    },
    {
      "cell_type": "code",
      "source": [
        "keys = ['A','B','C','D']\n",
        "values = [1,2,3]"
      ],
      "metadata": {
        "id": "mmGoB_fb1vGk"
      },
      "execution_count": 7,
      "outputs": []
    },
    {
      "cell_type": "code",
      "source": [
        "for item in zip(keys,values):\n",
        "  print(item)"
      ],
      "metadata": {
        "colab": {
          "base_uri": "https://localhost:8080/"
        },
        "id": "4POxi4Bt1y14",
        "outputId": "86ca090f-2dac-403a-df76-086d36dc04d5"
      },
      "execution_count": 8,
      "outputs": [
        {
          "output_type": "stream",
          "name": "stdout",
          "text": [
            "('A', 1)\n",
            "('B', 2)\n",
            "('C', 3)\n"
          ]
        }
      ]
    },
    {
      "cell_type": "markdown",
      "source": [
        "Unpacking zip values"
      ],
      "metadata": {
        "id": "mMyja6_l2aqF"
      }
    },
    {
      "cell_type": "code",
      "source": [
        "for key,value in zip(keys,values):\n",
        "  print(value)"
      ],
      "metadata": {
        "colab": {
          "base_uri": "https://localhost:8080/"
        },
        "id": "4-y4drxU2NGR",
        "outputId": "bcdad51c-c3dd-4996-b74d-dcad6bb1505b"
      },
      "execution_count": 9,
      "outputs": [
        {
          "output_type": "stream",
          "name": "stdout",
          "text": [
            "1\n",
            "2\n",
            "3\n"
          ]
        }
      ]
    },
    {
      "cell_type": "markdown",
      "source": [
        "List of zip"
      ],
      "metadata": {
        "id": "8a70EIEg17rw"
      }
    },
    {
      "cell_type": "code",
      "source": [
        "list(zip(keys,values))"
      ],
      "metadata": {
        "colab": {
          "base_uri": "https://localhost:8080/"
        },
        "id": "CxSBdtC710EN",
        "outputId": "7e0e0aaa-1b9d-4028-eee1-ec751e9bea0b"
      },
      "execution_count": 10,
      "outputs": [
        {
          "output_type": "execute_result",
          "data": {
            "text/plain": [
              "[('A', 1), ('B', 2), ('C', 3)]"
            ]
          },
          "metadata": {},
          "execution_count": 10
        }
      ]
    },
    {
      "cell_type": "markdown",
      "source": [
        "Check something in the list"
      ],
      "metadata": {
        "id": "ELTQ0n552oJf"
      }
    },
    {
      "cell_type": "code",
      "source": [
        "\"x\" in [\"A\",\"B\",'C']"
      ],
      "metadata": {
        "colab": {
          "base_uri": "https://localhost:8080/"
        },
        "id": "bzVR283u2ppx",
        "outputId": "edf3adc0-29c8-47c3-9cec-8e1435f3e8a4"
      },
      "execution_count": 11,
      "outputs": [
        {
          "output_type": "execute_result",
          "data": {
            "text/plain": [
              "False"
            ]
          },
          "metadata": {},
          "execution_count": 11
        }
      ]
    },
    {
      "cell_type": "code",
      "source": [
        "\"C\" in [\"A\",\"B\",'C']"
      ],
      "metadata": {
        "colab": {
          "base_uri": "https://localhost:8080/"
        },
        "id": "iH2E2Ksa2v-M",
        "outputId": "100d51dc-2319-40c5-9c02-49b2031292c0"
      },
      "execution_count": 12,
      "outputs": [
        {
          "output_type": "execute_result",
          "data": {
            "text/plain": [
              "True"
            ]
          },
          "metadata": {},
          "execution_count": 12
        }
      ]
    },
    {
      "cell_type": "code",
      "source": [
        "\"C\" in keys"
      ],
      "metadata": {
        "colab": {
          "base_uri": "https://localhost:8080/"
        },
        "id": "C4Ha1G3o21zX",
        "outputId": "e5796ea1-bf2c-47c6-cafe-ab1c3b98982e"
      },
      "execution_count": 13,
      "outputs": [
        {
          "output_type": "execute_result",
          "data": {
            "text/plain": [
              "True"
            ]
          },
          "metadata": {},
          "execution_count": 13
        }
      ]
    },
    {
      "cell_type": "markdown",
      "source": [
        "Check something in the dictionary"
      ],
      "metadata": {
        "id": "t26aorgC3BUk"
      }
    },
    {
      "cell_type": "code",
      "source": [
        "# Check for a key\n",
        "\"A\" in {\"A\":1,\"B\":2}"
      ],
      "metadata": {
        "colab": {
          "base_uri": "https://localhost:8080/"
        },
        "id": "GL4fOXLO3CpO",
        "outputId": "58212f37-2df1-4bca-cff0-cf319987fb95"
      },
      "execution_count": 14,
      "outputs": [
        {
          "output_type": "execute_result",
          "data": {
            "text/plain": [
              "True"
            ]
          },
          "metadata": {},
          "execution_count": 14
        }
      ]
    },
    {
      "cell_type": "code",
      "source": [
        "#Check for a key\n",
        "d = {\"A\":1,\"B\":2}\n",
        "\"A\" in d"
      ],
      "metadata": {
        "colab": {
          "base_uri": "https://localhost:8080/"
        },
        "id": "vnweEqTC3Orw",
        "outputId": "5ac0f446-0423-4f8c-aa81-924c9b66b3ab"
      },
      "execution_count": 15,
      "outputs": [
        {
          "output_type": "execute_result",
          "data": {
            "text/plain": [
              "True"
            ]
          },
          "metadata": {},
          "execution_count": 15
        }
      ]
    },
    {
      "cell_type": "code",
      "source": [
        "#Check for a key\n",
        "d = {\"A\":1,\"B\":2}\n",
        "\"A\" in d.keys()"
      ],
      "metadata": {
        "colab": {
          "base_uri": "https://localhost:8080/"
        },
        "id": "fTiJ4jN_3chD",
        "outputId": "3cae1a73-9e36-4814-ca7c-196131ee8428"
      },
      "execution_count": 16,
      "outputs": [
        {
          "output_type": "execute_result",
          "data": {
            "text/plain": [
              "True"
            ]
          },
          "metadata": {},
          "execution_count": 16
        }
      ]
    },
    {
      "cell_type": "code",
      "source": [
        "#Check for a value\n",
        "d = {\"A\":1,\"B\":2}\n",
        "1 in d.values()"
      ],
      "metadata": {
        "colab": {
          "base_uri": "https://localhost:8080/"
        },
        "id": "XBHEK6uK3p9u",
        "outputId": "3795a37f-076c-4461-bd76-c79172a3876f"
      },
      "execution_count": 17,
      "outputs": [
        {
          "output_type": "execute_result",
          "data": {
            "text/plain": [
              "True"
            ]
          },
          "metadata": {},
          "execution_count": 17
        }
      ]
    }
  ]
}