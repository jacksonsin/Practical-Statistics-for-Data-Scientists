{
  "nbformat": 4,
  "nbformat_minor": 0,
  "metadata": {
    "colab": {
      "name": "Useful Operators.ipynb",
      "provenance": [],
      "authorship_tag": "ABX9TyO8jg0AyCkvJU8iL2eFBtfB",
      "include_colab_link": true
    },
    "kernelspec": {
      "name": "python3",
      "display_name": "Python 3"
    },
    "language_info": {
      "name": "python"
    }
  },
  "cells": [
    {
      "cell_type": "markdown",
      "metadata": {
        "id": "view-in-github",
        "colab_type": "text"
      },
      "source": [
        "<a href=\"https://colab.research.google.com/github/jacksonsin/Practical-Statistics-for-Data-Scientists/blob/main/Useful_Operators.ipynb\" target=\"_parent\"><img src=\"https://colab.research.google.com/assets/colab-badge.svg\" alt=\"Open In Colab\"/></a>"
      ]
    },
    {
      "cell_type": "markdown",
      "source": [
        "Iterate through dictionary\n",
        "\n",
        "Return key and value"
      ],
      "metadata": {
        "id": "CAzVHC7c0KCm"
      }
    },
    {
      "cell_type": "code",
      "execution_count": 1,
      "metadata": {
        "colab": {
          "base_uri": "https://localhost:8080/"
        },
        "id": "hCGlW_g0vKss",
        "outputId": "5c9b3af5-7700-4ea4-c741-608f6fefefac"
      },
      "outputs": [
        {
          "output_type": "stream",
          "name": "stdout",
          "text": [
            "A 1\n",
            "B 2\n"
          ]
        }
      ],
      "source": [
        "for key, value in {\"A\":1,\"B\":2}.items():\n",
        "  print(key,value)"
      ]
    },
    {
      "cell_type": "markdown",
      "source": [
        "Iterate through enumerate\n",
        "\n",
        "Return index and value"
      ],
      "metadata": {
        "id": "_t459GQN0AxO"
      }
    },
    {
      "cell_type": "code",
      "source": [
        "for index,value in enumerate ({\"A\":1,\"B\":2}):\n",
        "  print(index,value)"
      ],
      "metadata": {
        "colab": {
          "base_uri": "https://localhost:8080/"
        },
        "id": "SxgwYXcIzfKe",
        "outputId": "4fa93272-6cc8-4d21-9843-d63065ac9aa8"
      },
      "execution_count": 2,
      "outputs": [
        {
          "output_type": "stream",
          "name": "stdout",
          "text": [
            "0 A\n",
            "1 B\n"
          ]
        }
      ]
    },
    {
      "cell_type": "markdown",
      "source": [
        "Iterate through enumerate\n",
        "\n",
        "Return index and tuple"
      ],
      "metadata": {
        "id": "N6EiA04Rz696"
      }
    },
    {
      "cell_type": "code",
      "source": [
        "for index,value in enumerate ({\"A\":1,\"B\":2}.items()):\n",
        "  print(index,value)"
      ],
      "metadata": {
        "colab": {
          "base_uri": "https://localhost:8080/"
        },
        "id": "-5_H7LrEz3PL",
        "outputId": "ff36ecde-fad9-4774-ae90-3f937a396e4a"
      },
      "execution_count": 3,
      "outputs": [
        {
          "output_type": "stream",
          "name": "stdout",
          "text": [
            "0 ('A', 1)\n",
            "1 ('B', 2)\n"
          ]
        }
      ]
    },
    {
      "cell_type": "markdown",
      "source": [
        "Iterate through zip"
      ],
      "metadata": {
        "id": "x2i2Vn_n0Yte"
      }
    },
    {
      "cell_type": "code",
      "source": [
        "keys = ['A','B','C']\n",
        "values = [1,2,3]"
      ],
      "metadata": {
        "id": "wyXJJE_S0aVf"
      },
      "execution_count": 4,
      "outputs": []
    },
    {
      "cell_type": "code",
      "source": [
        "for item in zip(keys,values):\n",
        "  print(item)"
      ],
      "metadata": {
        "colab": {
          "base_uri": "https://localhost:8080/"
        },
        "id": "TLHRVx160nSt",
        "outputId": "6805b377-2f1c-4210-97c0-a023f13b81f8"
      },
      "execution_count": 5,
      "outputs": [
        {
          "output_type": "stream",
          "name": "stdout",
          "text": [
            "('A', 1)\n",
            "('B', 2)\n",
            "('C', 3)\n"
          ]
        }
      ]
    },
    {
      "cell_type": "markdown",
      "source": [
        "Iterate through zip uneven lengths"
      ],
      "metadata": {
        "id": "vgDNSlSq1oUe"
      }
    },
    {
      "cell_type": "code",
      "source": [
        "keys = ['A','B','C','D']\n",
        "values = [1,2,3]"
      ],
      "metadata": {
        "id": "mmGoB_fb1vGk"
      },
      "execution_count": 6,
      "outputs": []
    },
    {
      "cell_type": "code",
      "source": [
        "for item in zip(keys,values):\n",
        "  print(item)"
      ],
      "metadata": {
        "colab": {
          "base_uri": "https://localhost:8080/"
        },
        "id": "4POxi4Bt1y14",
        "outputId": "7842ca6e-e0da-4abd-ec08-75c248313532"
      },
      "execution_count": 7,
      "outputs": [
        {
          "output_type": "stream",
          "name": "stdout",
          "text": [
            "('A', 1)\n",
            "('B', 2)\n",
            "('C', 3)\n"
          ]
        }
      ]
    },
    {
      "cell_type": "markdown",
      "source": [
        "Unpacking zip values"
      ],
      "metadata": {
        "id": "mMyja6_l2aqF"
      }
    },
    {
      "cell_type": "code",
      "source": [
        "for key,value in zip(keys,values):\n",
        "  print(value)"
      ],
      "metadata": {
        "colab": {
          "base_uri": "https://localhost:8080/"
        },
        "id": "4-y4drxU2NGR",
        "outputId": "1c216dee-20f6-4668-c853-50c41174ec70"
      },
      "execution_count": 8,
      "outputs": [
        {
          "output_type": "stream",
          "name": "stdout",
          "text": [
            "1\n",
            "2\n",
            "3\n"
          ]
        }
      ]
    },
    {
      "cell_type": "markdown",
      "source": [
        "List of zip"
      ],
      "metadata": {
        "id": "8a70EIEg17rw"
      }
    },
    {
      "cell_type": "code",
      "source": [
        "list(zip(keys,values))"
      ],
      "metadata": {
        "colab": {
          "base_uri": "https://localhost:8080/"
        },
        "id": "CxSBdtC710EN",
        "outputId": "7bec3807-ff30-4027-bed3-80f1fde1facc"
      },
      "execution_count": 9,
      "outputs": [
        {
          "output_type": "execute_result",
          "data": {
            "text/plain": [
              "[('A', 1), ('B', 2), ('C', 3)]"
            ]
          },
          "metadata": {},
          "execution_count": 9
        }
      ]
    },
    {
      "cell_type": "markdown",
      "source": [
        "Check something in the list"
      ],
      "metadata": {
        "id": "ELTQ0n552oJf"
      }
    },
    {
      "cell_type": "code",
      "source": [
        "\"x\" in [\"A\",\"B\",'C']"
      ],
      "metadata": {
        "colab": {
          "base_uri": "https://localhost:8080/"
        },
        "id": "bzVR283u2ppx",
        "outputId": "61af6743-6cd1-459b-b62f-205005552d47"
      },
      "execution_count": 10,
      "outputs": [
        {
          "output_type": "execute_result",
          "data": {
            "text/plain": [
              "False"
            ]
          },
          "metadata": {},
          "execution_count": 10
        }
      ]
    },
    {
      "cell_type": "code",
      "source": [
        "\"C\" in [\"A\",\"B\",'C']"
      ],
      "metadata": {
        "colab": {
          "base_uri": "https://localhost:8080/"
        },
        "id": "iH2E2Ksa2v-M",
        "outputId": "dc08cdb4-b771-46e4-b333-946e8afe331d"
      },
      "execution_count": 11,
      "outputs": [
        {
          "output_type": "execute_result",
          "data": {
            "text/plain": [
              "True"
            ]
          },
          "metadata": {},
          "execution_count": 11
        }
      ]
    },
    {
      "cell_type": "code",
      "source": [
        "\"C\" in keys"
      ],
      "metadata": {
        "colab": {
          "base_uri": "https://localhost:8080/"
        },
        "id": "C4Ha1G3o21zX",
        "outputId": "f24a53ec-1908-4ab7-e792-3987c555e680"
      },
      "execution_count": 12,
      "outputs": [
        {
          "output_type": "execute_result",
          "data": {
            "text/plain": [
              "True"
            ]
          },
          "metadata": {},
          "execution_count": 12
        }
      ]
    },
    {
      "cell_type": "markdown",
      "source": [
        "Check something in the dictionary"
      ],
      "metadata": {
        "id": "t26aorgC3BUk"
      }
    },
    {
      "cell_type": "code",
      "source": [
        "# Check for a key\n",
        "\"A\" in {\"A\":1,\"B\":2}"
      ],
      "metadata": {
        "colab": {
          "base_uri": "https://localhost:8080/"
        },
        "id": "GL4fOXLO3CpO",
        "outputId": "836fa469-fc7c-4b34-de88-2aafe12851a6"
      },
      "execution_count": 13,
      "outputs": [
        {
          "output_type": "execute_result",
          "data": {
            "text/plain": [
              "True"
            ]
          },
          "metadata": {},
          "execution_count": 13
        }
      ]
    },
    {
      "cell_type": "code",
      "source": [
        "#Check for a key\n",
        "d = {\"A\":1,\"B\":2}\n",
        "\"A\" in d"
      ],
      "metadata": {
        "colab": {
          "base_uri": "https://localhost:8080/"
        },
        "id": "vnweEqTC3Orw",
        "outputId": "3e6534d4-ef74-48dd-9552-8defa12f5a8d"
      },
      "execution_count": 14,
      "outputs": [
        {
          "output_type": "execute_result",
          "data": {
            "text/plain": [
              "True"
            ]
          },
          "metadata": {},
          "execution_count": 14
        }
      ]
    },
    {
      "cell_type": "code",
      "source": [
        "#Check for a key\n",
        "d = {\"A\":1,\"B\":2}\n",
        "\"A\" in d.keys()"
      ],
      "metadata": {
        "colab": {
          "base_uri": "https://localhost:8080/"
        },
        "id": "fTiJ4jN_3chD",
        "outputId": "7afaa344-5aa7-4819-9a62-0e67ab41d38b"
      },
      "execution_count": 15,
      "outputs": [
        {
          "output_type": "execute_result",
          "data": {
            "text/plain": [
              "True"
            ]
          },
          "metadata": {},
          "execution_count": 15
        }
      ]
    },
    {
      "cell_type": "code",
      "source": [
        "#Check for a value\n",
        "d = {\"A\":1,\"B\":2}\n",
        "1 in d.values()"
      ],
      "metadata": {
        "colab": {
          "base_uri": "https://localhost:8080/"
        },
        "id": "XBHEK6uK3p9u",
        "outputId": "e6a2e67b-b9c3-4b05-ca87-947a0ef0d860"
      },
      "execution_count": 16,
      "outputs": [
        {
          "output_type": "execute_result",
          "data": {
            "text/plain": [
              "True"
            ]
          },
          "metadata": {},
          "execution_count": 16
        }
      ]
    }
  ]
}