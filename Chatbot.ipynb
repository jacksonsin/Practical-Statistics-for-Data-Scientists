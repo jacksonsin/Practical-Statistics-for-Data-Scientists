{
  "nbformat": 4,
  "nbformat_minor": 0,
  "metadata": {
    "colab": {
      "name": "Chatbot.ipynb",
      "provenance": [],
      "authorship_tag": "ABX9TyNBX2Rd9dGVcBDlrTACCV1b",
      "include_colab_link": true
    },
    "kernelspec": {
      "name": "python3",
      "display_name": "Python 3"
    },
    "language_info": {
      "name": "python"
    }
  },
  "cells": [
    {
      "cell_type": "markdown",
      "metadata": {
        "id": "view-in-github",
        "colab_type": "text"
      },
      "source": [
        "<a href=\"https://colab.research.google.com/github/jacksonsin/Practical-Statistics-for-Data-Scientists/blob/main/Chatbot.ipynb\" target=\"_parent\"><img src=\"https://colab.research.google.com/assets/colab-badge.svg\" alt=\"Open In Colab\"/></a>"
      ]
    },
    {
      "cell_type": "code",
      "metadata": {
        "id": "hMC25Ro_iR_F",
        "colab": {
          "base_uri": "https://localhost:8080/"
        },
        "outputId": "a37216a6-1cd4-4d6d-dfd2-b82d12f8f428"
      },
      "source": [
        "!pip install chatterbot\n",
        "!pip install chatterbot_corpus"
      ],
      "execution_count": null,
      "outputs": [
        {
          "output_type": "stream",
          "name": "stdout",
          "text": [
            "Requirement already satisfied: chatterbot in /usr/local/lib/python3.7/dist-packages (1.0.8)\n",
            "Requirement already satisfied: pytz in /usr/local/lib/python3.7/dist-packages (from chatterbot) (2018.9)\n",
            "Requirement already satisfied: python-dateutil<2.9,>=2.8 in /usr/local/lib/python3.7/dist-packages (from chatterbot) (2.8.2)\n",
            "Requirement already satisfied: sqlalchemy<1.4,>=1.3 in /usr/local/lib/python3.7/dist-packages (from chatterbot) (1.3.24)\n",
            "Requirement already satisfied: mathparse<0.2,>=0.1 in /usr/local/lib/python3.7/dist-packages (from chatterbot) (0.1.2)\n",
            "Requirement already satisfied: six>=1.5 in /usr/local/lib/python3.7/dist-packages (from python-dateutil<2.9,>=2.8->chatterbot) (1.15.0)\n",
            "Requirement already satisfied: chatterbot_corpus in /usr/local/lib/python3.7/dist-packages (1.2.0)\n",
            "Requirement already satisfied: PyYAML<4.0,>=3.12 in /usr/local/lib/python3.7/dist-packages (from chatterbot_corpus) (3.13)\n"
          ]
        }
      ]
    },
    {
      "cell_type": "code",
      "metadata": {
        "id": "W4NE3HR9iNY-"
      },
      "source": [
        "from chatterbot import ChatBot\n",
        "from chatterbot.trainers import ListTrainer\n",
        "from chatterbot.comparisons import LevenshteinDistance\n",
        "from chatterbot.response_selection import get_first_response\n",
        "from chatterbot.logic import BestMatch\n",
        "from bs4 import BeautifulSoup\n",
        "import pandas as pd\n",
        "import requests"
      ],
      "execution_count": null,
      "outputs": []
    },
    {
      "cell_type": "code",
      "metadata": {
        "id": "u5tOzZ910JE7"
      },
      "source": [
        "headers = {'User-Agent': 'Chrome'}"
      ],
      "execution_count": null,
      "outputs": []
    },
    {
      "cell_type": "code",
      "metadata": {
        "id": "KhI7nYNfkKEO",
        "colab": {
          "base_uri": "https://localhost:8080/"
        },
        "outputId": "13453f1a-85e6-41af-922b-e1ebe39a8239"
      },
      "source": [
        "html_text = requests.get('https://www.channelnewsasia.com', headers=headers)\n",
        "html = html_text.content\n",
        "soup = BeautifulSoup(html,\"html.parser\")\n",
        "header = soup.find_all('h6', class_ =\"h6 h6-- list-object__heading\")\n",
        "news = []\n",
        "for x in range(len(header)):\n",
        "  for y in header[x].a:\n",
        "    news.append(y.strip())\n",
        "print(news)"
      ],
      "execution_count": null,
      "outputs": [
        {
          "output_type": "stream",
          "name": "stdout",
          "text": [
            "[\"Philippines rejects China's demand to remove grounded navy ship\", 'Table tennis-Busan to host 2024 World Championships', \"I'd rather lead team song than be captain, says Australia's Lyon\", 'S Korean game producers chase NFTs in real-money boost for players and firms', 'Singapore affiliate of Chinese firm Corad Technology placed on US trade blacklist', \"Germany's COVID-19 death toll passes 100,000\", 'Baidu, Pony.ai approved for robotaxi services in Beijing', 'Indonesia court orders government to amend controversial labour law', 'Johor police say viral statement of snatch thieves waiting for travellers with Malaysia-Singapore border reopening is fake', \"DBS digital banking services 'returning to normal' after two days of disruptions\", 'Novavax applies to have non-mRNA COVID-19 vaccine approved for use in Singapore', 'Commentary: Singapore and Germany, two countries and one aim of living normally with COVID-19', 'Singapore affiliate of Chinese firm Corad Technology placed on US trade blacklist', 'What Singaporeans planning an Australian holiday can expect: ‘We’re waiting with open arms’', 'Where is Zhang Gaoli? Chinese politician accused by tennis star Peng Shuai keeps out of sight', 'Teen pleads guilty to trespassing into rhino pen, killing frog, smoking cannabis', 'A month after reopening, Thailand sees gradual tourism recovery', \"Train journeys a 'possibility' under Singapore-Malaysia VTL, 'some time' before private vehicles allowed: Gan Kim Yong\", 'FAQ: What you need to know about the Singapore-Malaysia land VTL', \"'A different element of stress', say parents of first batch of PSLE students under new scoring system\", 'Commentary: After PSLE, the big headache is choosing a secondary school', 'Vaccines reduce COVID-19 transmission by 40%: WHO', 'Dyson dumps Malaysian supplier ATA over labour concerns: Report', 'Singapore reports 2,079 new COVID-19 cases and 6 deaths; ICU utilisation rate rises slightly', '10 applicants per four-room BTO flat in Rochor under new prime area model', 'Singapore-Malaysia land VTL to be launched on Nov 29, travellers must use designated bus services', 'Australia considers unofficial boycott of Beijing Winter Olympics: Report', \"Lithuania urges Europe to increase Indo-Pacific ties in face of Chinese 'coercion'\", 'Lithuanian lawmakers to visit Taiwan, deepening China spat', 'US puts Chinese firms helping military on trade blacklist', 'Commentary: Western luxury brands enter risky pact with China influencers', 'China reports 24 new COVID-19 cases', 'Europe rethinks booster shot policy as COVID-19 cases hit records', 'Children at lower risk from COVID-19, vaccines should go to poor: WHO', 'Fall in COVID-19 testing worries Indian authorities', 'Australia introduces contentious religious anti-discrimination legislation', 'New German government vows to tackle wide gender pay gap', 'Portugal expands booster shots as COVID-19 cases rise', \"New Zealand's main opposition party ousts leader\", 'New Swedish PM resigns on first day in job, hopes for swift return', 'Fresh rioting hits Solomon Islands capital Honiara: Witnesses', 'Commentary: Parents and students are anxious over the release of the PSLE results. So are teachers', 'Commentary: Work colleagues need new ways to feel like a team again', 'Commentary: Why asthma sufferers aren’t getting sicker from COVID-19', 'Commentary: The biggest test on PSLE results day is one for parents', 'Commentary: How is Cambodia last to lock down yet among first few to reopen in Southeast Asia?', 'Commentary: Austrian lockdown for unvaccinated comes close to mandatory COVID-19 vaccination', 'Lisa of Blackpink tests positive for COVID-19; Jisoo, Jennie, Rosé are negative', 'The Taste of Memories | CNA Luxury', 'She makes artisanal goat’s cheese in Thailand | CNA Luxury', 'China regulator seeks to avoid US delistings of Chinese firms', 'Shell ponders biofuels plant to meet rising Asian aviation demand', \"China so far non-committal to Washington's oil release, OPEC+ unmoved\", 'AT&T, Verizon agree to new precautions to address 5G air safety concerns', 'US weekly jobless claims hit 52-year low, economy regaining speed', \"JPMorgan's Dimon says he regrets China Communist Party comment\", 'Dzeko double downs Shakhtar to send Inter to brink of Last-16', 'Australian bowlers want Paine as wicketkeeper for Ashes: Lyon', 'Paine scandal will be a distraction during Ashes: Ponting', 'Sobolev double earns Spartak victory over Napoli', 'Haller at the double as Ajax maintain 100% record', 'Liverpool maintain perfect record with 2-0 win over Porto', \"Philippines rejects China's demand to remove grounded navy ship\", 'Table tennis-Busan to host 2024 World Championships', \"I'd rather lead team song than be captain, says Australia's Lyon\", 'S Korean game producers chase NFTs in real-money boost for players and firms', 'Singapore affiliate of Chinese firm Corad Technology placed on US trade blacklist', \"Germany's COVID-19 death toll passes 100,000\", 'Baidu, Pony.ai approved for robotaxi services in Beijing', 'Indonesia court orders government to amend controversial labour law']\n"
          ]
        }
      ]
    },
    {
      "cell_type": "code",
      "metadata": {
        "id": "I4v_cSfpiekD"
      },
      "source": [
        "# chatbot = ChatBot(name='PyBot', read_only=True,\n",
        "#                 #storage_adapter='chatterbot.storage.SQLStorageAdapter',\n",
        "#                 logic_adapters=['chatterbot.logic.MathematicalEvaluation',\n",
        "#                                 'chatterbot.logic.BestMatch',\n",
        "#                                 'chatterbot.logic.TimeLogicAdapter',\n",
        "#                                 ]\n",
        "#)"
      ],
      "execution_count": null,
      "outputs": []
    },
    {
      "cell_type": "code",
      "metadata": {
        "id": "5S-Sm6cPjABo"
      },
      "source": [
        "chatbot = ChatBot(name='PyBot', read_only=True,\n",
        "                #storage_adapter='chatterbot.storage.SQLStorageAdapter',\n",
        "    logic_adapters=[\n",
        "        {\n",
        "            'import_path': 'chatterbot.logic.BestMatch',\n",
        "            'default_response': 'I am sorry, but I do not understand.',\n",
        "            'maximum_similarity_threshold': 0.95\n",
        "        }\n",
        "    ]\n",
        ")"
      ],
      "execution_count": null,
      "outputs": []
    },
    {
      "cell_type": "code",
      "metadata": {
        "id": "IDZak309mSrJ"
      },
      "source": [
        "# chatbot = ChatBot(name='PyBot', read_only=True,\n",
        "#     logic_adapters=[\n",
        "#        {\n",
        "#             \"import_path\": \"chatterbot.logic.BestMatch\",\n",
        "#             \"statement_comparison_function\": LevenshteinDistance,\n",
        "#             \"response_selection_method\": get_first_response\n",
        "#         }    ]\n",
        "# )"
      ],
      "execution_count": null,
      "outputs": []
    },
    {
      "cell_type": "code",
      "metadata": {
        "id": "o1YFw4w9ij79"
      },
      "source": [
        "small_talk = ['hi there!',\n",
        "              'hi!',\n",
        "              'how do you do?',\n",
        "              'how are you?',\n",
        "              'i\\'m cool.',\n",
        "              'fine, you?',\n",
        "              'always cool.',\n",
        "              'i\\'m ok',\n",
        "              'glad to hear that.',\n",
        "              'i\\'m fine',\n",
        "              'glad to hear that.',\n",
        "              'i feel awesome',\n",
        "              'excellent, glad to hear that.',\n",
        "              'not so good',\n",
        "              'sorry to hear that.',\n",
        "              'what\\'s your name?',\n",
        "              'i\\'m pybot. ask me a math question, please.']"
      ],
      "execution_count": null,
      "outputs": []
    },
    {
      "cell_type": "code",
      "metadata": {
        "id": "OxJJ1Cy2in2p"
      },
      "source": [
        "list_trainer = ListTrainer(chatbot)"
      ],
      "execution_count": null,
      "outputs": []
    },
    {
      "cell_type": "code",
      "metadata": {
        "colab": {
          "base_uri": "https://localhost:8080/"
        },
        "id": "meUUxTikzf76",
        "outputId": "96edc28d-8d61-4e5b-e9ea-276ad572e8ca"
      },
      "source": [
        "for item in (small_talk, news):\n",
        "    list_trainer.train(item)"
      ],
      "execution_count": null,
      "outputs": [
        {
          "output_type": "stream",
          "name": "stdout",
          "text": [
            "List Trainer: [####################] 100%\n",
            "List Trainer: [####################] 100%\n"
          ]
        }
      ]
    },
    {
      "cell_type": "code",
      "metadata": {
        "colab": {
          "base_uri": "https://localhost:8080/"
        },
        "id": "EHhGtvcxisbO",
        "outputId": "4c94d727-7cdc-471a-f9b4-76c8b6d47ea8"
      },
      "source": [
        "print(chatbot.get_response('singapore'))\n",
        "print(chatbot.get_response(\"HDB\"))\n",
        "print(chatbot.get_response(\"COVID\"))\n",
        "print(chatbot.get_response(\"government\"))\n",
        "print(chatbot.get_response(\"food\"))"
      ],
      "execution_count": null,
      "outputs": [
        {
          "output_type": "stream",
          "name": "stdout",
          "text": [
            "DBS digital banking services 'returning to normal' after two days of disruptions\n",
            "I am sorry, but I do not understand.\n",
            "I am sorry, but I do not understand.\n",
            "Johor police say viral statement of snatch thieves waiting for travellers with Malaysia-Singapore border reopening is fake\n",
            "I am sorry, but I do not understand.\n"
          ]
        }
      ]
    },
    {
      "cell_type": "code",
      "metadata": {
        "id": "rwcCSiS0ovx5",
        "colab": {
          "base_uri": "https://localhost:8080/"
        },
        "outputId": "ddefff6f-b9dd-4116-ad5f-736be956e35a"
      },
      "source": [
        "news # Scrap from CNA news"
      ],
      "execution_count": null,
      "outputs": [
        {
          "output_type": "execute_result",
          "data": {
            "text/plain": [
              "[\"Philippines rejects China's demand to remove grounded navy ship\",\n",
              " 'Table tennis-Busan to host 2024 World Championships',\n",
              " \"I'd rather lead team song than be captain, says Australia's Lyon\",\n",
              " 'S Korean game producers chase NFTs in real-money boost for players and firms',\n",
              " 'Singapore affiliate of Chinese firm Corad Technology placed on US trade blacklist',\n",
              " \"Germany's COVID-19 death toll passes 100,000\",\n",
              " 'Baidu, Pony.ai approved for robotaxi services in Beijing',\n",
              " 'Indonesia court orders government to amend controversial labour law',\n",
              " 'Johor police say viral statement of snatch thieves waiting for travellers with Malaysia-Singapore border reopening is fake',\n",
              " \"DBS digital banking services 'returning to normal' after two days of disruptions\",\n",
              " 'Novavax applies to have non-mRNA COVID-19 vaccine approved for use in Singapore',\n",
              " 'Commentary: Singapore and Germany, two countries and one aim of living normally with COVID-19',\n",
              " 'Singapore affiliate of Chinese firm Corad Technology placed on US trade blacklist',\n",
              " 'What Singaporeans planning an Australian holiday can expect: ‘We’re waiting with open arms’',\n",
              " 'Where is Zhang Gaoli? Chinese politician accused by tennis star Peng Shuai keeps out of sight',\n",
              " 'Teen pleads guilty to trespassing into rhino pen, killing frog, smoking cannabis',\n",
              " 'A month after reopening, Thailand sees gradual tourism recovery',\n",
              " \"Train journeys a 'possibility' under Singapore-Malaysia VTL, 'some time' before private vehicles allowed: Gan Kim Yong\",\n",
              " 'FAQ: What you need to know about the Singapore-Malaysia land VTL',\n",
              " \"'A different element of stress', say parents of first batch of PSLE students under new scoring system\",\n",
              " 'Commentary: After PSLE, the big headache is choosing a secondary school',\n",
              " 'Vaccines reduce COVID-19 transmission by 40%: WHO',\n",
              " 'Dyson dumps Malaysian supplier ATA over labour concerns: Report',\n",
              " 'Singapore reports 2,079 new COVID-19 cases and 6 deaths; ICU utilisation rate rises slightly',\n",
              " '10 applicants per four-room BTO flat in Rochor under new prime area model',\n",
              " 'Singapore-Malaysia land VTL to be launched on Nov 29, travellers must use designated bus services',\n",
              " 'Australia considers unofficial boycott of Beijing Winter Olympics: Report',\n",
              " \"Lithuania urges Europe to increase Indo-Pacific ties in face of Chinese 'coercion'\",\n",
              " 'Lithuanian lawmakers to visit Taiwan, deepening China spat',\n",
              " 'US puts Chinese firms helping military on trade blacklist',\n",
              " 'Commentary: Western luxury brands enter risky pact with China influencers',\n",
              " 'China reports 24 new COVID-19 cases',\n",
              " 'Europe rethinks booster shot policy as COVID-19 cases hit records',\n",
              " 'Children at lower risk from COVID-19, vaccines should go to poor: WHO',\n",
              " 'Fall in COVID-19 testing worries Indian authorities',\n",
              " 'Australia introduces contentious religious anti-discrimination legislation',\n",
              " 'New German government vows to tackle wide gender pay gap',\n",
              " 'Portugal expands booster shots as COVID-19 cases rise',\n",
              " \"New Zealand's main opposition party ousts leader\",\n",
              " 'New Swedish PM resigns on first day in job, hopes for swift return',\n",
              " 'Fresh rioting hits Solomon Islands capital Honiara: Witnesses',\n",
              " 'Commentary: Parents and students are anxious over the release of the PSLE results. So are teachers',\n",
              " 'Commentary: Work colleagues need new ways to feel like a team again',\n",
              " 'Commentary: Why asthma sufferers aren’t getting sicker from COVID-19',\n",
              " 'Commentary: The biggest test on PSLE results day is one for parents',\n",
              " 'Commentary: How is Cambodia last to lock down yet among first few to reopen in Southeast Asia?',\n",
              " 'Commentary: Austrian lockdown for unvaccinated comes close to mandatory COVID-19 vaccination',\n",
              " 'Lisa of Blackpink tests positive for COVID-19; Jisoo, Jennie, Rosé are negative',\n",
              " 'The Taste of Memories | CNA Luxury',\n",
              " 'She makes artisanal goat’s cheese in Thailand | CNA Luxury',\n",
              " 'China regulator seeks to avoid US delistings of Chinese firms',\n",
              " 'Shell ponders biofuels plant to meet rising Asian aviation demand',\n",
              " \"China so far non-committal to Washington's oil release, OPEC+ unmoved\",\n",
              " 'AT&T, Verizon agree to new precautions to address 5G air safety concerns',\n",
              " 'US weekly jobless claims hit 52-year low, economy regaining speed',\n",
              " \"JPMorgan's Dimon says he regrets China Communist Party comment\",\n",
              " 'Dzeko double downs Shakhtar to send Inter to brink of Last-16',\n",
              " 'Australian bowlers want Paine as wicketkeeper for Ashes: Lyon',\n",
              " 'Paine scandal will be a distraction during Ashes: Ponting',\n",
              " 'Sobolev double earns Spartak victory over Napoli',\n",
              " 'Haller at the double as Ajax maintain 100% record',\n",
              " 'Liverpool maintain perfect record with 2-0 win over Porto',\n",
              " \"Philippines rejects China's demand to remove grounded navy ship\",\n",
              " 'Table tennis-Busan to host 2024 World Championships',\n",
              " \"I'd rather lead team song than be captain, says Australia's Lyon\",\n",
              " 'S Korean game producers chase NFTs in real-money boost for players and firms',\n",
              " 'Singapore affiliate of Chinese firm Corad Technology placed on US trade blacklist',\n",
              " \"Germany's COVID-19 death toll passes 100,000\",\n",
              " 'Baidu, Pony.ai approved for robotaxi services in Beijing',\n",
              " 'Indonesia court orders government to amend controversial labour law']"
            ]
          },
          "metadata": {},
          "execution_count": 12
        }
      ]
    }
  ]
}