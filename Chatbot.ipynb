{
  "nbformat": 4,
  "nbformat_minor": 0,
  "metadata": {
    "colab": {
      "name": "Chatbot.ipynb",
      "provenance": [],
      "authorship_tag": "ABX9TyNL+rhvBaqxdIPl5i1ACt14",
      "include_colab_link": true
    },
    "kernelspec": {
      "name": "python3",
      "display_name": "Python 3"
    },
    "language_info": {
      "name": "python"
    }
  },
  "cells": [
    {
      "cell_type": "markdown",
      "metadata": {
        "id": "view-in-github",
        "colab_type": "text"
      },
      "source": [
        "<a href=\"https://colab.research.google.com/github/jacksonsin/Practical-Statistics-for-Data-Scientists/blob/main/Chatbot.ipynb\" target=\"_parent\"><img src=\"https://colab.research.google.com/assets/colab-badge.svg\" alt=\"Open In Colab\"/></a>"
      ]
    },
    {
      "cell_type": "code",
      "metadata": {
        "id": "hMC25Ro_iR_F",
        "colab": {
          "base_uri": "https://localhost:8080/"
        },
        "outputId": "8611932b-f34d-4938-c2b4-00ad499d94e9"
      },
      "source": [
        "!pip install chatterbot\n",
        "!pip install chatterbot_corpus"
      ],
      "execution_count": 1,
      "outputs": [
        {
          "output_type": "stream",
          "name": "stdout",
          "text": [
            "Requirement already satisfied: chatterbot in /usr/local/lib/python3.7/dist-packages (1.0.8)\n",
            "Requirement already satisfied: pytz in /usr/local/lib/python3.7/dist-packages (from chatterbot) (2018.9)\n",
            "Requirement already satisfied: python-dateutil<2.9,>=2.8 in /usr/local/lib/python3.7/dist-packages (from chatterbot) (2.8.2)\n",
            "Requirement already satisfied: mathparse<0.2,>=0.1 in /usr/local/lib/python3.7/dist-packages (from chatterbot) (0.1.2)\n",
            "Requirement already satisfied: sqlalchemy<1.4,>=1.3 in /usr/local/lib/python3.7/dist-packages (from chatterbot) (1.3.24)\n",
            "Requirement already satisfied: six>=1.5 in /usr/local/lib/python3.7/dist-packages (from python-dateutil<2.9,>=2.8->chatterbot) (1.15.0)\n",
            "Requirement already satisfied: chatterbot_corpus in /usr/local/lib/python3.7/dist-packages (1.2.0)\n",
            "Requirement already satisfied: PyYAML<4.0,>=3.12 in /usr/local/lib/python3.7/dist-packages (from chatterbot_corpus) (3.13)\n"
          ]
        }
      ]
    },
    {
      "cell_type": "code",
      "metadata": {
        "id": "W4NE3HR9iNY-"
      },
      "source": [
        "from chatterbot import ChatBot\n",
        "from chatterbot.trainers import ListTrainer\n",
        "from chatterbot.comparisons import LevenshteinDistance\n",
        "from chatterbot.response_selection import get_first_response\n",
        "from chatterbot.logic import BestMatch\n",
        "from bs4 import BeautifulSoup\n",
        "import pandas as pd\n",
        "import requests"
      ],
      "execution_count": 2,
      "outputs": []
    },
    {
      "cell_type": "code",
      "metadata": {
        "id": "KhI7nYNfkKEO",
        "colab": {
          "base_uri": "https://localhost:8080/"
        },
        "outputId": "9f483e1d-fb4a-4c45-bcbf-01e2ace33770"
      },
      "source": [
        "html_text = requests.get('https://www.channelnewsasia.com')\n",
        "html = html_text.content\n",
        "soup = BeautifulSoup(html,\"html.parser\")\n",
        "header = soup.find_all('h6', class_ =\"h6 h6-- list-object__heading\")\n",
        "news = []\n",
        "for x in range(len(header)):\n",
        "  for y in header[x].a:\n",
        "    news.append(y.strip())\n",
        "print(news)"
      ],
      "execution_count": 3,
      "outputs": [
        {
          "output_type": "stream",
          "name": "stdout",
          "text": [
            "[\"Goldman Sachs says global oil reserves release 'a drop in the ocean'\", 'Exclusive-Major Toshiba shareholder objects to break-up, urges board to solicit offers', 'Singapore economy grows 7.1% in Q3, full-year GDP growth narrowed to about 7%: MTI', \"Japan's factory activity grows at fastest pace in nearly four years - Flash PMI\", \"WTA's stance on Peng has made it human rights champion, says former US official\", 'Dollar rests after Powell push, NZ rates in focus', 'Fauci says vast majority of vaccinated Americans should get a COVID-19 booster', \"'Future husband': world number one Barty announces engagement\", \"Some parents have 'a sense of hopelessness': The challenges of reintegrating youth offenders\", 'Singapore-Malaysia air VTL: Workers look forward to reunion but travel cost a hurdle for some', \"'Dry run' for Singapore-Malaysia land VTL held at Johor Causeway, says Khairy\", 'Singapore reports 1,782 new COVID-19 cases and 5 deaths; ICU utilisation rate at 55.2%', '‘Radical’ suggestions to level the playing field in Primary 1 registration', 'What exactly does being green mean to today’s youth?', 'Commentary: Parents and students are anxious over the release of the PSLE results. So are teachers', 'Why you should start investing in your 20s and 30s for retirement – and how', 'Hot demand expected for future HDB flats in Mount Pleasant: Analysts', 'New HDB estate with 5,000 flats to be built in Mount Pleasant at Old Police Academy site', 'Jemaah Islamiyah infiltrating Indonesian religious, civic institutions: Senior counterterror official', 'Commentary: Work colleagues need new ways to feel like a team again', 'Total COVID-19 deaths in Europe could exceed 2.2 million by March: WHO', 'China stuns West with hypersonic missile test', \"Merkel's husband calls COVID-19 unvaccinated Germans 'lazy'\", 'Trying fishing for the first time at Bedok Jetty – and learning how to do it sustainably', \"2 teenage girls 'located' after going missing on Nov 11: Police\", 'Jail for former RSAF regular who helped illegal bookie take sports bets, gambled S$876,000 himself', 'Former Hong Kong independence group leader gets 43 months under security law', 'Indonesia mulls media Bill seeking fairer share from big tech', 'India seeks to block most cryptocurrencies in new Bill, government says', \"China urges 'certain people' to stop 'malicious hyping' of tennis star Peng Shuai\", 'Stabbing sparks debate in South Korea over passive policing and female officers', 'Philippine presidential aspirant Marcos Jr tested for cocaine', 'Germany considers more COVID-19 curbs as US advises against travel there', \"Spain's regions seek tighter restrictions as COVID-19 cases tick up\", 'Global licence deal to provide COVID-19 antibody test tech free to poorer countries: WHO', 'Fauci says vast majority of vaccinated Americans should get a COVID-19 booster', 'EU vows unity on Belarus as Poland flags more border incidents', 'International alarm grows over escalating Ethiopia war', 'EU observers report irregularities in Venezuela vote', 'Immigration out of control in France, says presidency hopeful Barnier', 'German parties agree on 2030 coal phase-out in coalition talks: Report', 'Commentary: The biggest test on PSLE results day is one for parents', 'Commentary: How is Cambodia last to lock down yet among first few to reopen in Southeast Asia?', 'Commentary: Austrian lockdown for unvaccinated comes close to mandatory COVID-19 vaccination', 'Commentary: Incoming US ambassador to Singapore confirmed at key time in US re-engagement with Asia-Pacific', \"Commentary: Why food shouldn't be left to pile up in fridges and go to waste\", 'Commentary: Almost one year on, what has livestreaming of Parliament achieved?', 'The best places to eat and drink in London, according to top chef Clare Smyth', 'Korean actors Park Shin-hye and Choi Tae-joon to marry after 4 years of dating', 'Bling Empire star Kelly Mi Li spotted with handbag from Singapore label Kwanpen', 'Reddit to shut down Dubsmash app, integrate video tools with platform', \"JPMorgan CEO Dimon jokes his bank will outlast China's Communist Party\", \"Spotify launches 'Netflix Hub' on its app to attract fans\", 'Zoom shares tumble as revenue growth slows', 'Musk chides Binance CEO on dogecoin glitch', 'Prolific David strikes again to take Lille top', 'Solid Benfica defence hold Barcelona to scoreless draw at Camp Nou', 'Jordan sinks Wolfsburg as Sevilla stay in hunt for knockout phase', 'New manager, same performance level as Ronaldo again masks United flaws', \"European parliament opposes 'breakaway leagues', Super League backers hit back\", \"Al Dawsari's early goal spurs Al Hilal to record fourth Asian title\", \"Goldman Sachs says global oil reserves release 'a drop in the ocean'\", 'Exclusive-Major Toshiba shareholder objects to break-up, urges board to solicit offers', 'Singapore economy grows 7.1% in Q3, full-year GDP growth narrowed to about 7%: MTI', \"Japan's factory activity grows at fastest pace in nearly four years - Flash PMI\", \"WTA's stance on Peng has made it human rights champion, says former US official\", 'Dollar rests after Powell push, NZ rates in focus', 'Fauci says vast majority of vaccinated Americans should get a COVID-19 booster', \"'Future husband': world number one Barty announces engagement\"]\n"
          ]
        }
      ]
    },
    {
      "cell_type": "code",
      "metadata": {
        "id": "I4v_cSfpiekD"
      },
      "source": [
        "# chatbot = ChatBot(name='PyBot', read_only=True,\n",
        "#                 #storage_adapter='chatterbot.storage.SQLStorageAdapter',\n",
        "#                 logic_adapters=['chatterbot.logic.MathematicalEvaluation',\n",
        "#                                 'chatterbot.logic.BestMatch',\n",
        "#                                 'chatterbot.logic.TimeLogicAdapter',\n",
        "#                                 ]\n",
        "#)"
      ],
      "execution_count": 4,
      "outputs": []
    },
    {
      "cell_type": "code",
      "metadata": {
        "id": "5S-Sm6cPjABo"
      },
      "source": [
        "chatbot = ChatBot(name='PyBot', read_only=True,\n",
        "                #storage_adapter='chatterbot.storage.SQLStorageAdapter',\n",
        "    logic_adapters=[\n",
        "        {\n",
        "            'import_path': 'chatterbot.logic.BestMatch',\n",
        "            'default_response': 'I am sorry, but I do not understand.',\n",
        "            'maximum_similarity_threshold': 0.95\n",
        "        }\n",
        "    ]\n",
        ")"
      ],
      "execution_count": 12,
      "outputs": []
    },
    {
      "cell_type": "code",
      "metadata": {
        "id": "IDZak309mSrJ"
      },
      "source": [
        "# chatbot = ChatBot(name='PyBot', read_only=True,\n",
        "#     logic_adapters=[\n",
        "#        {\n",
        "#             \"import_path\": \"chatterbot.logic.BestMatch\",\n",
        "#             \"statement_comparison_function\": LevenshteinDistance,\n",
        "#             \"response_selection_method\": get_first_response\n",
        "#         }    ]\n",
        "# )"
      ],
      "execution_count": 6,
      "outputs": []
    },
    {
      "cell_type": "code",
      "metadata": {
        "id": "o1YFw4w9ij79"
      },
      "source": [
        "small_talk = ['hi there!',\n",
        "              'hi!',\n",
        "              'how do you do?',\n",
        "              'how are you?',\n",
        "              'i\\'m cool.',\n",
        "              'fine, you?',\n",
        "              'always cool.',\n",
        "              'i\\'m ok',\n",
        "              'glad to hear that.',\n",
        "              'i\\'m fine',\n",
        "              'glad to hear that.',\n",
        "              'i feel awesome',\n",
        "              'excellent, glad to hear that.',\n",
        "              'not so good',\n",
        "              'sorry to hear that.',\n",
        "              'what\\'s your name?',\n",
        "              'i\\'m pybot. ask me a math question, please.']"
      ],
      "execution_count": 13,
      "outputs": []
    },
    {
      "cell_type": "code",
      "metadata": {
        "id": "OxJJ1Cy2in2p"
      },
      "source": [
        "list_trainer = ListTrainer(chatbot)"
      ],
      "execution_count": 14,
      "outputs": []
    },
    {
      "cell_type": "code",
      "metadata": {
        "colab": {
          "base_uri": "https://localhost:8080/"
        },
        "id": "meUUxTikzf76",
        "outputId": "6f1a17b4-1dd9-44fc-a666-ef2d60931201"
      },
      "source": [
        "for item in (small_talk, news):\n",
        "    list_trainer.train(item)"
      ],
      "execution_count": 15,
      "outputs": [
        {
          "output_type": "stream",
          "name": "stdout",
          "text": [
            "List Trainer: [####################] 100%\n",
            "List Trainer: [####################] 100%\n"
          ]
        }
      ]
    },
    {
      "cell_type": "code",
      "metadata": {
        "colab": {
          "base_uri": "https://localhost:8080/"
        },
        "id": "EHhGtvcxisbO",
        "outputId": "5e122836-cbf3-4e4b-be28-a687d8b4b3e8"
      },
      "source": [
        "print(chatbot.get_response('singapore'))\n",
        "print(chatbot.get_response(\"HDB\"))\n",
        "print(chatbot.get_response(\"COVID-19\"))\n",
        "print(chatbot.get_response(\"government\"))\n",
        "print(chatbot.get_response(\"big tech\"))"
      ],
      "execution_count": 16,
      "outputs": [
        {
          "output_type": "stream",
          "name": "stdout",
          "text": [
            "Singapore reports 1,782 new COVID-19 cases and 5 deaths; ICU utilisation rate at 55.2%\n",
            "New HDB estate with 5,000 flats to be built in Mount Pleasant at Old Police Academy site\n",
            "I am sorry, but I do not understand.\n",
            "China urges 'certain people' to stop 'malicious hyping' of tennis star Peng Shuai\n",
            "I am sorry, but I do not understand.\n"
          ]
        }
      ]
    },
    {
      "cell_type": "code",
      "metadata": {
        "id": "rwcCSiS0ovx5",
        "colab": {
          "base_uri": "https://localhost:8080/"
        },
        "outputId": "d989aa28-b353-4fb5-8023-9f7258441903"
      },
      "source": [
        "news # Scrap from CNA news"
      ],
      "execution_count": 11,
      "outputs": [
        {
          "output_type": "execute_result",
          "data": {
            "text/plain": [
              "[\"Goldman Sachs says global oil reserves release 'a drop in the ocean'\",\n",
              " 'Exclusive-Major Toshiba shareholder objects to break-up, urges board to solicit offers',\n",
              " 'Singapore economy grows 7.1% in Q3, full-year GDP growth narrowed to about 7%: MTI',\n",
              " \"Japan's factory activity grows at fastest pace in nearly four years - Flash PMI\",\n",
              " \"WTA's stance on Peng has made it human rights champion, says former US official\",\n",
              " 'Dollar rests after Powell push, NZ rates in focus',\n",
              " 'Fauci says vast majority of vaccinated Americans should get a COVID-19 booster',\n",
              " \"'Future husband': world number one Barty announces engagement\",\n",
              " \"Some parents have 'a sense of hopelessness': The challenges of reintegrating youth offenders\",\n",
              " 'Singapore-Malaysia air VTL: Workers look forward to reunion but travel cost a hurdle for some',\n",
              " \"'Dry run' for Singapore-Malaysia land VTL held at Johor Causeway, says Khairy\",\n",
              " 'Singapore reports 1,782 new COVID-19 cases and 5 deaths; ICU utilisation rate at 55.2%',\n",
              " '‘Radical’ suggestions to level the playing field in Primary 1 registration',\n",
              " 'What exactly does being green mean to today’s youth?',\n",
              " 'Commentary: Parents and students are anxious over the release of the PSLE results. So are teachers',\n",
              " 'Why you should start investing in your 20s and 30s for retirement – and how',\n",
              " 'Hot demand expected for future HDB flats in Mount Pleasant: Analysts',\n",
              " 'New HDB estate with 5,000 flats to be built in Mount Pleasant at Old Police Academy site',\n",
              " 'Jemaah Islamiyah infiltrating Indonesian religious, civic institutions: Senior counterterror official',\n",
              " 'Commentary: Work colleagues need new ways to feel like a team again',\n",
              " 'Total COVID-19 deaths in Europe could exceed 2.2 million by March: WHO',\n",
              " 'China stuns West with hypersonic missile test',\n",
              " \"Merkel's husband calls COVID-19 unvaccinated Germans 'lazy'\",\n",
              " 'Trying fishing for the first time at Bedok Jetty – and learning how to do it sustainably',\n",
              " \"2 teenage girls 'located' after going missing on Nov 11: Police\",\n",
              " 'Jail for former RSAF regular who helped illegal bookie take sports bets, gambled S$876,000 himself',\n",
              " 'Former Hong Kong independence group leader gets 43 months under security law',\n",
              " 'Indonesia mulls media Bill seeking fairer share from big tech',\n",
              " 'India seeks to block most cryptocurrencies in new Bill, government says',\n",
              " \"China urges 'certain people' to stop 'malicious hyping' of tennis star Peng Shuai\",\n",
              " 'Stabbing sparks debate in South Korea over passive policing and female officers',\n",
              " 'Philippine presidential aspirant Marcos Jr tested for cocaine',\n",
              " 'Germany considers more COVID-19 curbs as US advises against travel there',\n",
              " \"Spain's regions seek tighter restrictions as COVID-19 cases tick up\",\n",
              " 'Global licence deal to provide COVID-19 antibody test tech free to poorer countries: WHO',\n",
              " 'Fauci says vast majority of vaccinated Americans should get a COVID-19 booster',\n",
              " 'EU vows unity on Belarus as Poland flags more border incidents',\n",
              " 'International alarm grows over escalating Ethiopia war',\n",
              " 'EU observers report irregularities in Venezuela vote',\n",
              " 'Immigration out of control in France, says presidency hopeful Barnier',\n",
              " 'German parties agree on 2030 coal phase-out in coalition talks: Report',\n",
              " 'Commentary: The biggest test on PSLE results day is one for parents',\n",
              " 'Commentary: How is Cambodia last to lock down yet among first few to reopen in Southeast Asia?',\n",
              " 'Commentary: Austrian lockdown for unvaccinated comes close to mandatory COVID-19 vaccination',\n",
              " 'Commentary: Incoming US ambassador to Singapore confirmed at key time in US re-engagement with Asia-Pacific',\n",
              " \"Commentary: Why food shouldn't be left to pile up in fridges and go to waste\",\n",
              " 'Commentary: Almost one year on, what has livestreaming of Parliament achieved?',\n",
              " 'The best places to eat and drink in London, according to top chef Clare Smyth',\n",
              " 'Korean actors Park Shin-hye and Choi Tae-joon to marry after 4 years of dating',\n",
              " 'Bling Empire star Kelly Mi Li spotted with handbag from Singapore label Kwanpen',\n",
              " 'Reddit to shut down Dubsmash app, integrate video tools with platform',\n",
              " \"JPMorgan CEO Dimon jokes his bank will outlast China's Communist Party\",\n",
              " \"Spotify launches 'Netflix Hub' on its app to attract fans\",\n",
              " 'Zoom shares tumble as revenue growth slows',\n",
              " 'Musk chides Binance CEO on dogecoin glitch',\n",
              " 'Prolific David strikes again to take Lille top',\n",
              " 'Solid Benfica defence hold Barcelona to scoreless draw at Camp Nou',\n",
              " 'Jordan sinks Wolfsburg as Sevilla stay in hunt for knockout phase',\n",
              " 'New manager, same performance level as Ronaldo again masks United flaws',\n",
              " \"European parliament opposes 'breakaway leagues', Super League backers hit back\",\n",
              " \"Al Dawsari's early goal spurs Al Hilal to record fourth Asian title\",\n",
              " \"Goldman Sachs says global oil reserves release 'a drop in the ocean'\",\n",
              " 'Exclusive-Major Toshiba shareholder objects to break-up, urges board to solicit offers',\n",
              " 'Singapore economy grows 7.1% in Q3, full-year GDP growth narrowed to about 7%: MTI',\n",
              " \"Japan's factory activity grows at fastest pace in nearly four years - Flash PMI\",\n",
              " \"WTA's stance on Peng has made it human rights champion, says former US official\",\n",
              " 'Dollar rests after Powell push, NZ rates in focus',\n",
              " 'Fauci says vast majority of vaccinated Americans should get a COVID-19 booster',\n",
              " \"'Future husband': world number one Barty announces engagement\"]"
            ]
          },
          "metadata": {},
          "execution_count": 11
        }
      ]
    }
  ]
}