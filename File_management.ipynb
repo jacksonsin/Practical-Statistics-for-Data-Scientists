{
  "nbformat": 4,
  "nbformat_minor": 0,
  "metadata": {
    "colab": {
      "name": "File_management.ipynb",
      "provenance": [],
      "authorship_tag": "ABX9TyNnnepzi1NDpMvmTtdCFJdi",
      "include_colab_link": true
    },
    "kernelspec": {
      "name": "python3",
      "display_name": "Python 3"
    },
    "language_info": {
      "name": "python"
    }
  },
  "cells": [
    {
      "cell_type": "markdown",
      "metadata": {
        "id": "view-in-github",
        "colab_type": "text"
      },
      "source": [
        "<a href=\"https://colab.research.google.com/github/jacksonsin/data_science_with_python/blob/main/File_management.ipynb\" target=\"_parent\"><img src=\"https://colab.research.google.com/assets/colab-badge.svg\" alt=\"Open In Colab\"/></a>"
      ]
    },
    {
      "cell_type": "code",
      "execution_count": 1,
      "metadata": {
        "id": "DxwF9qxYqude"
      },
      "outputs": [],
      "source": [
        "class ManagedFile:\n",
        "    def __init__(self, name, mode='w'):\n",
        "        self.name = name\n",
        "        self.mode = mode\n",
        "\n",
        "    def __enter__(self):\n",
        "        self.file = open(self.name, self.mode)\n",
        "        return self.file\n",
        "\n",
        "    def __exit__(self, exc_type, exc_val, exc_tb):\n",
        "        self.file.close()"
      ]
    },
    {
      "cell_type": "code",
      "source": [
        "with ManagedFile('hello.txt', mode='w') as f:\n",
        "  f.write('hello, world!')"
      ],
      "metadata": {
        "id": "sARMM8iirQ7S"
      },
      "execution_count": 2,
      "outputs": []
    },
    {
      "cell_type": "code",
      "source": [
        "with ManagedFile('hello.txt', mode='r') as f:\n",
        "  print(f.read())"
      ],
      "metadata": {
        "colab": {
          "base_uri": "https://localhost:8080/"
        },
        "id": "UGdDwLEYrcUG",
        "outputId": "2db2cee8-e238-481f-e92b-140fb2f63932"
      },
      "execution_count": 3,
      "outputs": [
        {
          "output_type": "stream",
          "name": "stdout",
          "text": [
            "hello, world!\n"
          ]
        }
      ]
    }
  ]
}