{
  "nbformat": 4,
  "nbformat_minor": 0,
  "metadata": {
    "colab": {
      "name": "module.ipynb",
      "provenance": [],
      "authorship_tag": "ABX9TyPy3gQ5WW1fNNEMs/9cZxXQ",
      "include_colab_link": true
    },
    "kernelspec": {
      "name": "python3",
      "display_name": "Python 3"
    },
    "language_info": {
      "name": "python"
    }
  },
  "cells": [
    {
      "cell_type": "markdown",
      "metadata": {
        "id": "view-in-github",
        "colab_type": "text"
      },
      "source": [
        "<a href=\"https://colab.research.google.com/github/jacksonsin/data_science_with_python/blob/main/module.ipynb\" target=\"_parent\"><img src=\"https://colab.research.google.com/assets/colab-badge.svg\" alt=\"Open In Colab\"/></a>"
      ]
    },
    {
      "cell_type": "code",
      "execution_count": 1,
      "metadata": {
        "id": "u9-G_aMOL-ju"
      },
      "outputs": [],
      "source": [
        "class Employee:\n",
        "    def __init__(self, first, last, pay):\n",
        "        self.first = first.capitalize()\n",
        "        self.last = last.capitalize()\n",
        "        self.pay = pay\n",
        "        self.email = first.lower() + \".\" + last.lower() + \"@gmail.com\"\n",
        "    def fullname(self):\n",
        "        return '{} {}'.format(self.first, self.last)"
      ]
    }
  ]
}