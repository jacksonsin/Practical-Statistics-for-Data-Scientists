{
  "nbformat": 4,
  "nbformat_minor": 0,
  "metadata": {
    "colab": {
      "name": "Connect to PostgreSQL from Python.ipynb",
      "provenance": [],
      "authorship_tag": "ABX9TyNTv2vY2A2qHZn7tgrq/htY",
      "include_colab_link": true
    },
    "kernelspec": {
      "name": "python3",
      "display_name": "Python 3"
    },
    "language_info": {
      "name": "python"
    }
  },
  "cells": [
    {
      "cell_type": "markdown",
      "metadata": {
        "id": "view-in-github",
        "colab_type": "text"
      },
      "source": [
        "<a href=\"https://colab.research.google.com/github/jacksonsin/data_science_in_python/blob/main/Connect_to_PostgreSQL_from_Python.ipynb\" target=\"_parent\"><img src=\"https://colab.research.google.com/assets/colab-badge.svg\" alt=\"Open In Colab\"/></a>"
      ]
    },
    {
      "cell_type": "markdown",
      "source": [
        "**Reference** \n",
        "\n",
        "https://www.youtube.com/watch?v=M2NzvnfS-hI"
      ],
      "metadata": {
        "id": "x55AYZwUlwYk"
      }
    },
    {
      "cell_type": "code",
      "source": [
        "!pip install psycopg2-binary"
      ],
      "metadata": {
        "colab": {
          "base_uri": "https://localhost:8080/"
        },
        "id": "HtrNWNSEb46d",
        "outputId": "da1495b2-182e-4bf4-e6b5-a25c76276833"
      },
      "execution_count": 1,
      "outputs": [
        {
          "output_type": "stream",
          "name": "stdout",
          "text": [
            "Requirement already satisfied: psycopg2-binary in /usr/local/lib/python3.7/dist-packages (2.9.3)\n"
          ]
        }
      ]
    },
    {
      "cell_type": "code",
      "source": [
        "import psycopg2\n",
        "import psycopg2.extras"
      ],
      "metadata": {
        "id": "0f67GmUHbzPx"
      },
      "execution_count": 2,
      "outputs": []
    },
    {
      "cell_type": "code",
      "execution_count": 3,
      "metadata": {
        "id": "6IpDrJTlbO7c"
      },
      "outputs": [],
      "source": [
        "# Deploy PostgreSQL sever at Heroku\n",
        "hostname = 'ec2-54-221-82-166.compute-1.amazonaws.com'\n",
        "database = 'd94p3l6dfsa1ob'\n",
        "username = 'hnnwinwflpkjdq'\n",
        "pwd = '2f0721a5d89894008beb0299136fd7acfa1e016815135bc94adfd1b274056c97'\n",
        "port_id = 5432\n",
        "conn = None"
      ]
    },
    {
      "cell_type": "code",
      "source": [
        "try:\n",
        "  with psycopg2.connect(\n",
        "      host = hostname,\n",
        "      dbname = database,\n",
        "      user = username,  \n",
        "      password = pwd,\n",
        "      port = port_id) as conn:\n",
        "\n",
        "    with conn.cursor(cursor_factory=psycopg2.extras.DictCursor) as cur:\n",
        "\n",
        "      cur.execute('DROP TABLE IF EXISTS employee')\n",
        "\n",
        "      create_script = ''' CREATE TABLE IF NOT EXISTS employee(\n",
        "                          id int PRIMARY KEY,\n",
        "                          name varchar(40) NOT NULL,\n",
        "                          salary int,\n",
        "                          dept_id varchar(30))'''\n",
        "\n",
        "      cur.execute(create_script)\n",
        "\n",
        "      insert_script = 'INSERT INTO employee(id,name,salary,dept_id) VALUES (%s, %s, %s, %s)'\n",
        "      insert_values = [(1,'James',12000,'D1'),\n",
        "                      (2,'Rob',9000,'D2'),\n",
        "                      (3,'Sam',10000,'D3')]\n",
        "      for record in insert_values:                \n",
        "        cur.execute(insert_script, record)\n",
        "\n",
        "      update_script = 'UPDATE employee SET salary = salary + (salary * 0.5)'\n",
        "      cur.execute(update_script)\n",
        "\n",
        "      delete_script = 'DELETE FROM employee WHERE name = %s'\n",
        "      delete_record = ('James',)\n",
        "      cur.execute(delete_script,delete_record)\n",
        "\n",
        "      cur.execute('SELECT * FROM employee')\n",
        "      for record in cur.fetchall():\n",
        "        print(record['name'],record['salary'])\n",
        "    \n",
        "except Exception as error:\n",
        "  print(error)\n",
        "finally:\n",
        "  if conn is not None:\n",
        "    conn.close()"
      ],
      "metadata": {
        "colab": {
          "base_uri": "https://localhost:8080/"
        },
        "id": "r1ceaB6ZcFiF",
        "outputId": "8f9c9fe2-b2d7-4cd7-f0d7-88fb92cfcf47"
      },
      "execution_count": 4,
      "outputs": [
        {
          "output_type": "stream",
          "name": "stdout",
          "text": [
            "Rob 13500\n",
            "Sam 15000\n"
          ]
        }
      ]
    }
  ]
}