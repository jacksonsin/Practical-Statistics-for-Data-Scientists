{
  "nbformat": 4,
  "nbformat_minor": 0,
  "metadata": {
    "colab": {
      "provenance": [],
      "authorship_tag": "ABX9TyOBgGmNTsaQxbGR5xAL3AiU",
      "include_colab_link": true
    },
    "language_info": {
      "name": "python"
    },
    "kernelspec": {
      "name": "python3",
      "display_name": "Python 3"
    },
    "gpuClass": "standard"
  },
  "cells": [
    {
      "cell_type": "markdown",
      "metadata": {
        "id": "view-in-github",
        "colab_type": "text"
      },
      "source": [
        "<a href=\"https://colab.research.google.com/github/jacksonsin/data_science_with_python/blob/main/Predicting_stock_prices.ipynb\" target=\"_parent\"><img src=\"https://colab.research.google.com/assets/colab-badge.svg\" alt=\"Open In Colab\"/></a>"
      ]
    },
    {
      "cell_type": "markdown",
      "source": [
        "The script loads stock price data from a CSV file, extracts the closing prices and dates, splits the data into training and test sets, and uses a linear regression model to predict stock prices. The script then calculates the mean squared error (MSE) of the predictions, which is a measure of how accurate the model is.\n",
        "\n",
        "This is a simple example and it may not be perfect for your use case, but it shows the basic process of how you can use machine learning to predict stock prices."
      ],
      "metadata": {
        "id": "2A0Xl8gMEW8h"
      }
    },
    {
      "cell_type": "markdown",
      "source": [
        "The format of a stock price data CSV file can vary depending on the source, but typically it will include the following columns:\n",
        "![image.png](data:image/png;base64,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)"
      ],
      "metadata": {
        "id": "0QSf9_W8EsLI"
      }
    },
    {
      "cell_type": "code",
      "source": [
        "# Import necessary libraries\n",
        "import pandas as pd\n",
        "import numpy as np\n",
        "from sklearn.linear_model import LinearRegression\n",
        "from sklearn.model_selection import train_test_split\n",
        "from sklearn.metrics import mean_squared_error\n",
        "import matplotlib.pyplot as plt"
      ],
      "metadata": {
        "id": "CeRSQRlIEWYp"
      },
      "execution_count": 1,
      "outputs": []
    },
    {
      "cell_type": "code",
      "source": [
        "# Load the stock data\n",
        "data = pd.read_csv('/content/Tesla.csv.csv')"
      ],
      "metadata": {
        "id": "i1I7Sz0LHew-"
      },
      "execution_count": 2,
      "outputs": []
    },
    {
      "cell_type": "code",
      "source": [
        "# Extract the closing prices\n",
        "prices = data['Close']"
      ],
      "metadata": {
        "id": "S9LJ-DbzHcp4"
      },
      "execution_count": 3,
      "outputs": []
    },
    {
      "cell_type": "code",
      "source": [
        "# Extract the dates and convert them to a NumPy array\n",
        "data['Date'] = pd.to_datetime(data['Date'], format='%m/%d/%Y')\n"
      ],
      "metadata": {
        "id": "M8OIT_JsHiIn"
      },
      "execution_count": 4,
      "outputs": []
    },
    {
      "cell_type": "code",
      "source": [
        "data['Date'] = data['Date'].astype('datetime64[D]')"
      ],
      "metadata": {
        "id": "bGnGRHONIW1s"
      },
      "execution_count": 5,
      "outputs": []
    },
    {
      "cell_type": "code",
      "source": [
        "dates = np.array(data['Date']).reshape(-1, 1)"
      ],
      "metadata": {
        "id": "zx6vRnIBHop3"
      },
      "execution_count": 6,
      "outputs": []
    },
    {
      "cell_type": "code",
      "source": [
        "# Reshape the prices array to 2D\n",
        "prices = prices.values.reshape(-1, 1)"
      ],
      "metadata": {
        "id": "ffZo713MHk50"
      },
      "execution_count": 7,
      "outputs": []
    },
    {
      "cell_type": "code",
      "source": [
        "# Split the data into training and test sets\n",
        "X_train, X_test, y_train, y_test = train_test_split(dates, prices, test_size=0.2, shuffle=False)"
      ],
      "metadata": {
        "id": "gz6SFhrXH6MT"
      },
      "execution_count": 8,
      "outputs": []
    },
    {
      "cell_type": "code",
      "source": [
        "# Create a linear regression model\n",
        "model = LinearRegression()"
      ],
      "metadata": {
        "id": "u8ZkuGyfH7oG"
      },
      "execution_count": 9,
      "outputs": []
    },
    {
      "cell_type": "code",
      "source": [
        "# Train the model on the training data\n",
        "model.fit(X_train, y_train)"
      ],
      "metadata": {
        "colab": {
          "base_uri": "https://localhost:8080/"
        },
        "id": "2glud2NhH9UK",
        "outputId": "a1432a23-fe23-40a0-d569-1f6e41063574"
      },
      "execution_count": 10,
      "outputs": [
        {
          "output_type": "execute_result",
          "data": {
            "text/plain": [
              "LinearRegression()"
            ]
          },
          "metadata": {},
          "execution_count": 10
        }
      ]
    },
    {
      "cell_type": "code",
      "source": [
        "x_input = X_test.astype(float)"
      ],
      "metadata": {
        "id": "xwm773UBJ0-l"
      },
      "execution_count": 11,
      "outputs": []
    },
    {
      "cell_type": "code",
      "source": [
        "# Make predictions on the test data\n",
        "predictions = model.predict(x_input)"
      ],
      "metadata": {
        "id": "KipNCWTYH-1v"
      },
      "execution_count": 12,
      "outputs": []
    },
    {
      "cell_type": "code",
      "source": [
        "# Calculate the mean squared error of the predictions\n",
        "mse = mean_squared_error(y_test, predictions)\n",
        "print(f'Mean squared error: {mse}')"
      ],
      "metadata": {
        "colab": {
          "base_uri": "https://localhost:8080/"
        },
        "id": "WSBS1OYvICyN",
        "outputId": "1dbf48e7-6aa8-474f-af47-f5393ca034a5"
      },
      "execution_count": 13,
      "outputs": [
        {
          "output_type": "stream",
          "name": "stdout",
          "text": [
            "Mean squared error: 6657.96033845616\n"
          ]
        }
      ]
    },
    {
      "cell_type": "code",
      "source": [
        "y_test = pd.DataFrame(predictions, columns=[\"Predicted_value\"])"
      ],
      "metadata": {
        "id": "AIuJffnILGDC"
      },
      "execution_count": 14,
      "outputs": []
    },
    {
      "cell_type": "code",
      "source": [
        "#y_test = pd.DataFrame(y_test)\n",
        "X_test = pd.DataFrame(X_test, columns=[\"DATE\"])"
      ],
      "metadata": {
        "id": "vfN_jy_FMIjU"
      },
      "execution_count": 15,
      "outputs": []
    },
    {
      "cell_type": "code",
      "source": [
        "# concatenate the two dataframes along the columns\n",
        "result = pd.concat([X_test, y_test], axis=1)\n",
        "result"
      ],
      "metadata": {
        "colab": {
          "base_uri": "https://localhost:8080/",
          "height": 424
        },
        "id": "LwQusQucKW_T",
        "outputId": "cb9ad10d-f808-4918-a40e-44d9d1834ed8"
      },
      "execution_count": 36,
      "outputs": [
        {
          "output_type": "execute_result",
          "data": {
            "text/plain": [
              "          DATE  Predicted_value\n",
              "0   2015-11-11       257.427051\n",
              "1   2015-11-12       257.576304\n",
              "2   2015-11-13       257.725557\n",
              "3   2015-11-16       258.173317\n",
              "4   2015-11-17       258.322570\n",
              "..         ...              ...\n",
              "334 2017-03-13       330.262634\n",
              "335 2017-03-14       330.411888\n",
              "336 2017-03-15       330.561141\n",
              "337 2017-03-16       330.710394\n",
              "338 2017-03-17       330.859647\n",
              "\n",
              "[339 rows x 2 columns]"
            ],
            "text/html": [
              "\n",
              "  <div id=\"df-64efb4e9-2ecf-4d5e-9d44-78b13f5bcbd4\">\n",
              "    <div class=\"colab-df-container\">\n",
              "      <div>\n",
              "<style scoped>\n",
              "    .dataframe tbody tr th:only-of-type {\n",
              "        vertical-align: middle;\n",
              "    }\n",
              "\n",
              "    .dataframe tbody tr th {\n",
              "        vertical-align: top;\n",
              "    }\n",
              "\n",
              "    .dataframe thead th {\n",
              "        text-align: right;\n",
              "    }\n",
              "</style>\n",
              "<table border=\"1\" class=\"dataframe\">\n",
              "  <thead>\n",
              "    <tr style=\"text-align: right;\">\n",
              "      <th></th>\n",
              "      <th>DATE</th>\n",
              "      <th>Predicted_value</th>\n",
              "    </tr>\n",
              "  </thead>\n",
              "  <tbody>\n",
              "    <tr>\n",
              "      <th>0</th>\n",
              "      <td>2015-11-11</td>\n",
              "      <td>257.427051</td>\n",
              "    </tr>\n",
              "    <tr>\n",
              "      <th>1</th>\n",
              "      <td>2015-11-12</td>\n",
              "      <td>257.576304</td>\n",
              "    </tr>\n",
              "    <tr>\n",
              "      <th>2</th>\n",
              "      <td>2015-11-13</td>\n",
              "      <td>257.725557</td>\n",
              "    </tr>\n",
              "    <tr>\n",
              "      <th>3</th>\n",
              "      <td>2015-11-16</td>\n",
              "      <td>258.173317</td>\n",
              "    </tr>\n",
              "    <tr>\n",
              "      <th>4</th>\n",
              "      <td>2015-11-17</td>\n",
              "      <td>258.322570</td>\n",
              "    </tr>\n",
              "    <tr>\n",
              "      <th>...</th>\n",
              "      <td>...</td>\n",
              "      <td>...</td>\n",
              "    </tr>\n",
              "    <tr>\n",
              "      <th>334</th>\n",
              "      <td>2017-03-13</td>\n",
              "      <td>330.262634</td>\n",
              "    </tr>\n",
              "    <tr>\n",
              "      <th>335</th>\n",
              "      <td>2017-03-14</td>\n",
              "      <td>330.411888</td>\n",
              "    </tr>\n",
              "    <tr>\n",
              "      <th>336</th>\n",
              "      <td>2017-03-15</td>\n",
              "      <td>330.561141</td>\n",
              "    </tr>\n",
              "    <tr>\n",
              "      <th>337</th>\n",
              "      <td>2017-03-16</td>\n",
              "      <td>330.710394</td>\n",
              "    </tr>\n",
              "    <tr>\n",
              "      <th>338</th>\n",
              "      <td>2017-03-17</td>\n",
              "      <td>330.859647</td>\n",
              "    </tr>\n",
              "  </tbody>\n",
              "</table>\n",
              "<p>339 rows × 2 columns</p>\n",
              "</div>\n",
              "      <button class=\"colab-df-convert\" onclick=\"convertToInteractive('df-64efb4e9-2ecf-4d5e-9d44-78b13f5bcbd4')\"\n",
              "              title=\"Convert this dataframe to an interactive table.\"\n",
              "              style=\"display:none;\">\n",
              "        \n",
              "  <svg xmlns=\"http://www.w3.org/2000/svg\" height=\"24px\"viewBox=\"0 0 24 24\"\n",
              "       width=\"24px\">\n",
              "    <path d=\"M0 0h24v24H0V0z\" fill=\"none\"/>\n",
              "    <path d=\"M18.56 5.44l.94 2.06.94-2.06 2.06-.94-2.06-.94-.94-2.06-.94 2.06-2.06.94zm-11 1L8.5 8.5l.94-2.06 2.06-.94-2.06-.94L8.5 2.5l-.94 2.06-2.06.94zm10 10l.94 2.06.94-2.06 2.06-.94-2.06-.94-.94-2.06-.94 2.06-2.06.94z\"/><path d=\"M17.41 7.96l-1.37-1.37c-.4-.4-.92-.59-1.43-.59-.52 0-1.04.2-1.43.59L10.3 9.45l-7.72 7.72c-.78.78-.78 2.05 0 2.83L4 21.41c.39.39.9.59 1.41.59.51 0 1.02-.2 1.41-.59l7.78-7.78 2.81-2.81c.8-.78.8-2.07 0-2.86zM5.41 20L4 18.59l7.72-7.72 1.47 1.35L5.41 20z\"/>\n",
              "  </svg>\n",
              "      </button>\n",
              "      \n",
              "  <style>\n",
              "    .colab-df-container {\n",
              "      display:flex;\n",
              "      flex-wrap:wrap;\n",
              "      gap: 12px;\n",
              "    }\n",
              "\n",
              "    .colab-df-convert {\n",
              "      background-color: #E8F0FE;\n",
              "      border: none;\n",
              "      border-radius: 50%;\n",
              "      cursor: pointer;\n",
              "      display: none;\n",
              "      fill: #1967D2;\n",
              "      height: 32px;\n",
              "      padding: 0 0 0 0;\n",
              "      width: 32px;\n",
              "    }\n",
              "\n",
              "    .colab-df-convert:hover {\n",
              "      background-color: #E2EBFA;\n",
              "      box-shadow: 0px 1px 2px rgba(60, 64, 67, 0.3), 0px 1px 3px 1px rgba(60, 64, 67, 0.15);\n",
              "      fill: #174EA6;\n",
              "    }\n",
              "\n",
              "    [theme=dark] .colab-df-convert {\n",
              "      background-color: #3B4455;\n",
              "      fill: #D2E3FC;\n",
              "    }\n",
              "\n",
              "    [theme=dark] .colab-df-convert:hover {\n",
              "      background-color: #434B5C;\n",
              "      box-shadow: 0px 1px 3px 1px rgba(0, 0, 0, 0.15);\n",
              "      filter: drop-shadow(0px 1px 2px rgba(0, 0, 0, 0.3));\n",
              "      fill: #FFFFFF;\n",
              "    }\n",
              "  </style>\n",
              "\n",
              "      <script>\n",
              "        const buttonEl =\n",
              "          document.querySelector('#df-64efb4e9-2ecf-4d5e-9d44-78b13f5bcbd4 button.colab-df-convert');\n",
              "        buttonEl.style.display =\n",
              "          google.colab.kernel.accessAllowed ? 'block' : 'none';\n",
              "\n",
              "        async function convertToInteractive(key) {\n",
              "          const element = document.querySelector('#df-64efb4e9-2ecf-4d5e-9d44-78b13f5bcbd4');\n",
              "          const dataTable =\n",
              "            await google.colab.kernel.invokeFunction('convertToInteractive',\n",
              "                                                     [key], {});\n",
              "          if (!dataTable) return;\n",
              "\n",
              "          const docLinkHtml = 'Like what you see? Visit the ' +\n",
              "            '<a target=\"_blank\" href=https://colab.research.google.com/notebooks/data_table.ipynb>data table notebook</a>'\n",
              "            + ' to learn more about interactive tables.';\n",
              "          element.innerHTML = '';\n",
              "          dataTable['output_type'] = 'display_data';\n",
              "          await google.colab.output.renderOutput(dataTable, element);\n",
              "          const docLink = document.createElement('div');\n",
              "          docLink.innerHTML = docLinkHtml;\n",
              "          element.appendChild(docLink);\n",
              "        }\n",
              "      </script>\n",
              "    </div>\n",
              "  </div>\n",
              "  "
            ]
          },
          "metadata": {},
          "execution_count": 36
        }
      ]
    }
  ]
}