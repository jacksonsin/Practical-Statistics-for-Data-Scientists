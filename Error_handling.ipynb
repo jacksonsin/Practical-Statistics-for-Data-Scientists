{
  "nbformat": 4,
  "nbformat_minor": 0,
  "metadata": {
    "colab": {
      "name": "Sandbox.ipynb",
      "provenance": [],
      "authorship_tag": "ABX9TyMMmIqGgfMW0rHgigvvzIVN",
      "include_colab_link": true
    },
    "kernelspec": {
      "display_name": "Python 3",
      "name": "python3"
    },
    "language_info": {
      "name": "python"
    }
  },
  "cells": [
    {
      "cell_type": "markdown",
      "metadata": {
        "id": "view-in-github",
        "colab_type": "text"
      },
      "source": [
        "<a href=\"https://colab.research.google.com/github/jacksonsin/Practical-Statistics-for-Data-Scientists/blob/main/Error_handling.ipynb\" target=\"_parent\"><img src=\"https://colab.research.google.com/assets/colab-badge.svg\" alt=\"Open In Colab\"/></a>"
      ]
    },
    {
      "cell_type": "markdown",
      "metadata": {
        "id": "uzpebMiZWax9"
      },
      "source": [
        "Error Handling\n"
      ]
    },
    {
      "cell_type": "code",
      "metadata": {
        "colab": {
          "base_uri": "https://localhost:8080/"
        },
        "id": "yUEWKaiRcg1n",
        "outputId": "f321291b-9e5b-4ae9-dc34-9f6c4ec53369"
      },
      "source": [
        "try:\n",
        "  f = open('file.txt')\n",
        "except FileNotFoundError as error:\n",
        "  print(error)\n",
        "except Exception as error:\n",
        "  print(error)"
      ],
      "execution_count": null,
      "outputs": [
        {
          "output_type": "stream",
          "name": "stdout",
          "text": [
            "[Errno 2] No such file or directory: 'file.txt'\n"
          ]
        }
      ]
    },
    {
      "cell_type": "code",
      "metadata": {
        "colab": {
          "base_uri": "https://localhost:8080/"
        },
        "id": "rRBCFJ4qdpAs",
        "outputId": "6516cae8-a34d-443d-9361-f035e42df8eb"
      },
      "source": [
        "try:\n",
        "  f = varchar\n",
        "except FileNotFoundError as error:\n",
        "  print(error)\n",
        "except Exception as error:\n",
        "  print(error)"
      ],
      "execution_count": null,
      "outputs": [
        {
          "output_type": "stream",
          "name": "stdout",
          "text": [
            "name 'varchar' is not defined\n"
          ]
        }
      ]
    },
    {
      "cell_type": "code",
      "metadata": {
        "colab": {
          "base_uri": "https://localhost:8080/"
        },
        "id": "9Y77JgKbdz_Q",
        "outputId": "9d0a3ff8-8a7a-4104-c9f6-1d7224a844a9"
      },
      "source": [
        "try:\n",
        "  f = 1\n",
        "except FileNotFoundError as error:\n",
        "  print(error)\n",
        "except Exception as error:\n",
        "  print(error)\n",
        "else:\n",
        "  print(\"Passed\")\n",
        "finally:\n",
        "  print(\"Execute successfully\")"
      ],
      "execution_count": null,
      "outputs": [
        {
          "output_type": "stream",
          "name": "stdout",
          "text": [
            "Passed\n",
            "Execute successfully\n"
          ]
        }
      ]
    },
    {
      "cell_type": "code",
      "metadata": {
        "colab": {
          "base_uri": "https://localhost:8080/"
        },
        "id": "9yV2wYNge7Ph",
        "outputId": "a3f01902-fd49-468c-a0a2-92173dd62018"
      },
      "source": [
        "from datetime import date\n",
        "\n",
        "try:\n",
        "  pw = int(input(\"Please enter your password: \"))\n",
        "  if pw != 1234:\n",
        "    raise Exception\n",
        "except Exception as error:\n",
        "  print(\"Access Denied!\")\n",
        "else:\n",
        "  print(\"Access Granted!\")\n",
        "  print(\"Welcome!\")\n",
        "finally:\n",
        "  print(f\"Last access on {datetime.now():%d/%m/%Y %H:%M:%S} \")"
      ],
      "execution_count": null,
      "outputs": [
        {
          "output_type": "stream",
          "name": "stdout",
          "text": [
            "Please enter your password: 1234\n",
            "Access Granted!\n",
            "Welcome!\n",
            "Last access on 22/11/2021 02:58:57 \n"
          ]
        }
      ]
    }
  ]
}